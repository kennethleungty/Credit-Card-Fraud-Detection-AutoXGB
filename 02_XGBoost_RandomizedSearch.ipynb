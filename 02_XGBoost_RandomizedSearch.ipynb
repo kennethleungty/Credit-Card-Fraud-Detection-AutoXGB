{
 "cells": [
  {
   "cell_type": "markdown",
   "metadata": {
    "id": "Sm6z56ipwRRM"
   },
   "source": [
    "# Credit Card Fraud Detection with AutoXGB\n",
    "\n",
    "## Part 2 - Baseline Model: XGBoost with RandomizedSearchCV\n",
    "___"
   ]
  },
  {
   "cell_type": "markdown",
   "metadata": {
    "id": "6JEReauUwRRQ"
   },
   "source": [
    "### Import dependencies and data"
   ]
  },
  {
   "cell_type": "code",
   "execution_count": 1,
   "metadata": {
    "id": "8WxYC7WlwRRR"
   },
   "outputs": [],
   "source": [
    "import numpy as np\n",
    "import pandas as pd\n",
    "import matplotlib.pyplot as plt\n",
    "\n",
    "import xgboost as xgb\n",
    "from xgboost import XGBClassifier, plot_importance\n",
    "\n",
    "import sklearn.metrics as metrics\n",
    "from sklearn.model_selection import RandomizedSearchCV\n",
    "\n",
    "import warnings\n",
    "warnings.filterwarnings(\"ignore\")\n",
    "\n",
    "pd.set_option('display.max_columns', None)"
   ]
  },
  {
   "cell_type": "code",
   "execution_count": 2,
   "metadata": {
    "colab": {
     "base_uri": "https://localhost:8080/"
    },
    "id": "IGsJm9e7Y3A1",
    "outputId": "e5adbdfc-d560-47b1-fca8-68bf48d4c6f3"
   },
   "outputs": [
    {
     "name": "stdout",
     "output_type": "stream",
     "text": [
      "1.5.1\n"
     ]
    }
   ],
   "source": [
    "print(xgb.__version__)"
   ]
  },
  {
   "cell_type": "markdown",
   "metadata": {
    "id": "bSkc2JlqRJAJ"
   },
   "source": [
    "If you are running this notebook on Colab, make sure to upgrade the XGBoost version (default version on Colab is 0.90) using `!pip install xgboost --upgrade`"
   ]
  },
  {
   "cell_type": "code",
   "execution_count": 3,
   "metadata": {
    "id": "W8O5Zbh_BvFr"
   },
   "outputs": [],
   "source": [
    "# !pip install xgboost --upgrade"
   ]
  },
  {
   "cell_type": "code",
   "execution_count": 4,
   "metadata": {
    "id": "711szWsJwRRT"
   },
   "outputs": [],
   "source": [
    "# Import processed datasets\n",
    "main_df = pd.read_csv('data/processed/train.csv')\n",
    "test_df = pd.read_csv('data/processed/test.csv')"
   ]
  },
  {
   "cell_type": "code",
   "execution_count": 5,
   "metadata": {
    "colab": {
     "base_uri": "https://localhost:8080/",
     "height": 226
    },
    "id": "Dnx-JiJOwptF",
    "outputId": "5c2e3ca2-d3ed-4620-b1d6-d76b484537e3"
   },
   "outputs": [
    {
     "data": {
      "text/html": [
       "<div>\n",
       "<style scoped>\n",
       "    .dataframe tbody tr th:only-of-type {\n",
       "        vertical-align: middle;\n",
       "    }\n",
       "\n",
       "    .dataframe tbody tr th {\n",
       "        vertical-align: top;\n",
       "    }\n",
       "\n",
       "    .dataframe thead th {\n",
       "        text-align: right;\n",
       "    }\n",
       "</style>\n",
       "<table border=\"1\" class=\"dataframe\">\n",
       "  <thead>\n",
       "    <tr style=\"text-align: right;\">\n",
       "      <th></th>\n",
       "      <th>TX_AMOUNT</th>\n",
       "      <th>TX_DURING_WEEKEND</th>\n",
       "      <th>TX_DURING_NIGHT</th>\n",
       "      <th>CUSTOMER_ID_NB_TX_1DAY_WINDOW</th>\n",
       "      <th>CUSTOMER_ID_NB_TX_7DAY_WINDOW</th>\n",
       "      <th>CUSTOMER_ID_NB_TX_30DAY_WINDOW</th>\n",
       "      <th>CUSTOMER_ID_AVG_AMOUNT_1DAY_WINDOW</th>\n",
       "      <th>CUSTOMER_ID_AVG_AMOUNT_7DAY_WINDOW</th>\n",
       "      <th>CUSTOMER_ID_AVG_AMOUNT_30DAY_WINDOW</th>\n",
       "      <th>TERMINAL_ID_NB_TX_1DAY_WINDOW</th>\n",
       "      <th>TERMINAL_ID_NB_TX_7DAY_WINDOW</th>\n",
       "      <th>TERMINAL_ID_NB_TX_30DAY_WINDOW</th>\n",
       "      <th>TERMINAL_ID_RISK_1DAY_WINDOW</th>\n",
       "      <th>TERMINAL_ID_RISK_7DAY_WINDOW</th>\n",
       "      <th>TERMINAL_ID_RISK_30DAY_WINDOW</th>\n",
       "      <th>TX_FRAUD</th>\n",
       "    </tr>\n",
       "  </thead>\n",
       "  <tbody>\n",
       "    <tr>\n",
       "      <th>0</th>\n",
       "      <td>120.26</td>\n",
       "      <td>1</td>\n",
       "      <td>0</td>\n",
       "      <td>3.0</td>\n",
       "      <td>8.0</td>\n",
       "      <td>36.0</td>\n",
       "      <td>113.393333</td>\n",
       "      <td>120.136250</td>\n",
       "      <td>107.220278</td>\n",
       "      <td>1.0</td>\n",
       "      <td>5.0</td>\n",
       "      <td>30.0</td>\n",
       "      <td>0.0</td>\n",
       "      <td>0.0</td>\n",
       "      <td>0.0</td>\n",
       "      <td>0</td>\n",
       "    </tr>\n",
       "    <tr>\n",
       "      <th>1</th>\n",
       "      <td>25.16</td>\n",
       "      <td>0</td>\n",
       "      <td>0</td>\n",
       "      <td>3.0</td>\n",
       "      <td>15.0</td>\n",
       "      <td>45.0</td>\n",
       "      <td>62.430000</td>\n",
       "      <td>73.638000</td>\n",
       "      <td>70.424667</td>\n",
       "      <td>1.0</td>\n",
       "      <td>9.0</td>\n",
       "      <td>35.0</td>\n",
       "      <td>0.0</td>\n",
       "      <td>0.0</td>\n",
       "      <td>0.0</td>\n",
       "      <td>0</td>\n",
       "    </tr>\n",
       "    <tr>\n",
       "      <th>2</th>\n",
       "      <td>139.69</td>\n",
       "      <td>0</td>\n",
       "      <td>1</td>\n",
       "      <td>4.0</td>\n",
       "      <td>25.0</td>\n",
       "      <td>98.0</td>\n",
       "      <td>111.137500</td>\n",
       "      <td>75.406000</td>\n",
       "      <td>113.727245</td>\n",
       "      <td>1.0</td>\n",
       "      <td>2.0</td>\n",
       "      <td>18.0</td>\n",
       "      <td>0.0</td>\n",
       "      <td>0.0</td>\n",
       "      <td>0.0</td>\n",
       "      <td>0</td>\n",
       "    </tr>\n",
       "    <tr>\n",
       "      <th>3</th>\n",
       "      <td>60.47</td>\n",
       "      <td>0</td>\n",
       "      <td>0</td>\n",
       "      <td>7.0</td>\n",
       "      <td>28.0</td>\n",
       "      <td>101.0</td>\n",
       "      <td>45.312857</td>\n",
       "      <td>40.015714</td>\n",
       "      <td>44.085050</td>\n",
       "      <td>0.0</td>\n",
       "      <td>7.0</td>\n",
       "      <td>29.0</td>\n",
       "      <td>0.0</td>\n",
       "      <td>0.0</td>\n",
       "      <td>0.0</td>\n",
       "      <td>0</td>\n",
       "    </tr>\n",
       "    <tr>\n",
       "      <th>4</th>\n",
       "      <td>45.12</td>\n",
       "      <td>0</td>\n",
       "      <td>0</td>\n",
       "      <td>3.0</td>\n",
       "      <td>20.0</td>\n",
       "      <td>91.0</td>\n",
       "      <td>104.186667</td>\n",
       "      <td>88.629000</td>\n",
       "      <td>91.904176</td>\n",
       "      <td>0.0</td>\n",
       "      <td>7.0</td>\n",
       "      <td>30.0</td>\n",
       "      <td>0.0</td>\n",
       "      <td>0.0</td>\n",
       "      <td>0.0</td>\n",
       "      <td>0</td>\n",
       "    </tr>\n",
       "  </tbody>\n",
       "</table>\n",
       "</div>"
      ],
      "text/plain": [
       "   TX_AMOUNT  TX_DURING_WEEKEND  TX_DURING_NIGHT  \\\n",
       "0     120.26                  1                0   \n",
       "1      25.16                  0                0   \n",
       "2     139.69                  0                1   \n",
       "3      60.47                  0                0   \n",
       "4      45.12                  0                0   \n",
       "\n",
       "   CUSTOMER_ID_NB_TX_1DAY_WINDOW  CUSTOMER_ID_NB_TX_7DAY_WINDOW  \\\n",
       "0                            3.0                            8.0   \n",
       "1                            3.0                           15.0   \n",
       "2                            4.0                           25.0   \n",
       "3                            7.0                           28.0   \n",
       "4                            3.0                           20.0   \n",
       "\n",
       "   CUSTOMER_ID_NB_TX_30DAY_WINDOW  CUSTOMER_ID_AVG_AMOUNT_1DAY_WINDOW  \\\n",
       "0                            36.0                          113.393333   \n",
       "1                            45.0                           62.430000   \n",
       "2                            98.0                          111.137500   \n",
       "3                           101.0                           45.312857   \n",
       "4                            91.0                          104.186667   \n",
       "\n",
       "   CUSTOMER_ID_AVG_AMOUNT_7DAY_WINDOW  CUSTOMER_ID_AVG_AMOUNT_30DAY_WINDOW  \\\n",
       "0                          120.136250                           107.220278   \n",
       "1                           73.638000                            70.424667   \n",
       "2                           75.406000                           113.727245   \n",
       "3                           40.015714                            44.085050   \n",
       "4                           88.629000                            91.904176   \n",
       "\n",
       "   TERMINAL_ID_NB_TX_1DAY_WINDOW  TERMINAL_ID_NB_TX_7DAY_WINDOW  \\\n",
       "0                            1.0                            5.0   \n",
       "1                            1.0                            9.0   \n",
       "2                            1.0                            2.0   \n",
       "3                            0.0                            7.0   \n",
       "4                            0.0                            7.0   \n",
       "\n",
       "   TERMINAL_ID_NB_TX_30DAY_WINDOW  TERMINAL_ID_RISK_1DAY_WINDOW  \\\n",
       "0                            30.0                           0.0   \n",
       "1                            35.0                           0.0   \n",
       "2                            18.0                           0.0   \n",
       "3                            29.0                           0.0   \n",
       "4                            30.0                           0.0   \n",
       "\n",
       "   TERMINAL_ID_RISK_7DAY_WINDOW  TERMINAL_ID_RISK_30DAY_WINDOW  TX_FRAUD  \n",
       "0                           0.0                            0.0         0  \n",
       "1                           0.0                            0.0         0  \n",
       "2                           0.0                            0.0         0  \n",
       "3                           0.0                            0.0         0  \n",
       "4                           0.0                            0.0         0  "
      ]
     },
     "execution_count": 5,
     "metadata": {},
     "output_type": "execute_result"
    }
   ],
   "source": [
    "main_df.head()"
   ]
  },
  {
   "cell_type": "markdown",
   "metadata": {
    "id": "JvXsjiyLwRRU"
   },
   "source": [
    "### Data Preparation"
   ]
  },
  {
   "cell_type": "code",
   "execution_count": 6,
   "metadata": {
    "id": "755c4fCe9VQ_"
   },
   "outputs": [],
   "source": [
    "# Define target variable\n",
    "target = 'TX_FRAUD'"
   ]
  },
  {
   "cell_type": "code",
   "execution_count": 7,
   "metadata": {
    "colab": {
     "base_uri": "https://localhost:8080/"
    },
    "id": "LSqVUSMD1JnP",
    "outputId": "cc6e94da-84db-4ab7-a886-6c33ceb7b01b"
   },
   "outputs": [
    {
     "data": {
      "text/plain": [
       "0    55060\n",
       "1    27530\n",
       "Name: TX_FRAUD, dtype: int64"
      ]
     },
     "execution_count": 7,
     "metadata": {},
     "output_type": "execute_result"
    }
   ],
   "source": [
    "# View labels\n",
    "main_df[target].value_counts(dropna=False)"
   ]
  },
  {
   "cell_type": "code",
   "execution_count": 8,
   "metadata": {
    "id": "o7s9N7LkwRRU"
   },
   "outputs": [],
   "source": [
    "# Set X and y datasets\n",
    "X = main_df.drop(columns=target)\n",
    "y = main_df[target]"
   ]
  },
  {
   "cell_type": "markdown",
   "metadata": {
    "id": "oAQpDubZwRRV"
   },
   "source": [
    "### Run XGBoost Classification"
   ]
  },
  {
   "cell_type": "code",
   "execution_count": 9,
   "metadata": {
    "id": "pj9znW60wRRW"
   },
   "outputs": [],
   "source": [
    "# Set parameter grid\n",
    "xgb_params = {'max_depth': [3, 5, 6, 8, 9, 10, 11], # Maximum depth of a tree\n",
    "              'learning_rate': [0.01, 0.1, 0.2, 0.3, 0.5], # Step size shrinkage used in update to prevents overfitting\n",
    "              'subsample': np.arange(0.4, 1.0, 0.1),\n",
    "              'colsample_bytree': np.arange(0.3, 1.0, 0.1), # Number of features supplied to a tree\n",
    "              'colsample_bylevel': np.arange(0.3, 1.0, 0.1),\n",
    "              'n_estimators': np.arange(100, 600, 100),\n",
    "              'gamma': np.arange(0, 0.7, 0.1) }"
   ]
  },
  {
   "cell_type": "code",
   "execution_count": 10,
   "metadata": {
    "id": "_zqS3f1zwRRX"
   },
   "outputs": [],
   "source": [
    "# Create RandomizedSearchCV instance\n",
    "xgb_grid = RandomizedSearchCV(estimator=XGBClassifier(objective='binary:logistic', \n",
    "                                                      tree_method=\"gpu_hist\", # Use GPU\n",
    "                                                      random_state=42,\n",
    "                                                      eval_metric='aucpr'), # AUC under PR curve\n",
    "                              param_distributions=xgb_params, \n",
    "                              cv=5, \n",
    "                              verbose=2,\n",
    "                              n_iter=60,\n",
    "                              scoring='average_precision') "
   ]
  },
  {
   "cell_type": "code",
   "execution_count": 11,
   "metadata": {
    "colab": {
     "base_uri": "https://localhost:8080/"
    },
    "id": "pTaRYKUTwRRY",
    "outputId": "5ed809cb-6578-450c-af7c-b02e1848aeba"
   },
   "outputs": [
    {
     "name": "stdout",
     "output_type": "stream",
     "text": [
      "Fitting 5 folds for each of 60 candidates, totalling 300 fits\n",
      "[CV] END colsample_bylevel=0.4, colsample_bytree=0.6000000000000001, gamma=0.4, learning_rate=0.1, max_depth=6, n_estimators=200, subsample=0.7; total time=   3.1s\n",
      "[CV] END colsample_bylevel=0.4, colsample_bytree=0.6000000000000001, gamma=0.4, learning_rate=0.1, max_depth=6, n_estimators=200, subsample=0.7; total time=   1.4s\n",
      "[CV] END colsample_bylevel=0.4, colsample_bytree=0.6000000000000001, gamma=0.4, learning_rate=0.1, max_depth=6, n_estimators=200, subsample=0.7; total time=   1.4s\n",
      "[CV] END colsample_bylevel=0.4, colsample_bytree=0.6000000000000001, gamma=0.4, learning_rate=0.1, max_depth=6, n_estimators=200, subsample=0.7; total time=   1.4s\n",
      "[CV] END colsample_bylevel=0.4, colsample_bytree=0.6000000000000001, gamma=0.4, learning_rate=0.1, max_depth=6, n_estimators=200, subsample=0.7; total time=   1.4s\n",
      "[CV] END colsample_bylevel=0.7000000000000002, colsample_bytree=0.9000000000000001, gamma=0.6000000000000001, learning_rate=0.2, max_depth=11, n_estimators=300, subsample=0.7; total time=   1.6s\n",
      "[CV] END colsample_bylevel=0.7000000000000002, colsample_bytree=0.9000000000000001, gamma=0.6000000000000001, learning_rate=0.2, max_depth=11, n_estimators=300, subsample=0.7; total time=   3.8s\n",
      "[CV] END colsample_bylevel=0.7000000000000002, colsample_bytree=0.9000000000000001, gamma=0.6000000000000001, learning_rate=0.2, max_depth=11, n_estimators=300, subsample=0.7; total time=   3.7s\n",
      "[CV] END colsample_bylevel=0.7000000000000002, colsample_bytree=0.9000000000000001, gamma=0.6000000000000001, learning_rate=0.2, max_depth=11, n_estimators=300, subsample=0.7; total time=   3.8s\n",
      "[CV] END colsample_bylevel=0.7000000000000002, colsample_bytree=0.9000000000000001, gamma=0.6000000000000001, learning_rate=0.2, max_depth=11, n_estimators=300, subsample=0.7; total time=   3.7s\n",
      "[CV] END colsample_bylevel=0.8000000000000003, colsample_bytree=0.9000000000000001, gamma=0.1, learning_rate=0.01, max_depth=8, n_estimators=200, subsample=0.7; total time=   3.3s\n",
      "[CV] END colsample_bylevel=0.8000000000000003, colsample_bytree=0.9000000000000001, gamma=0.1, learning_rate=0.01, max_depth=8, n_estimators=200, subsample=0.7; total time=   3.4s\n",
      "[CV] END colsample_bylevel=0.8000000000000003, colsample_bytree=0.9000000000000001, gamma=0.1, learning_rate=0.01, max_depth=8, n_estimators=200, subsample=0.7; total time=   3.3s\n",
      "[CV] END colsample_bylevel=0.8000000000000003, colsample_bytree=0.9000000000000001, gamma=0.1, learning_rate=0.01, max_depth=8, n_estimators=200, subsample=0.7; total time=   3.4s\n",
      "[CV] END colsample_bylevel=0.8000000000000003, colsample_bytree=0.9000000000000001, gamma=0.1, learning_rate=0.01, max_depth=8, n_estimators=200, subsample=0.7; total time=   3.3s\n",
      "[CV] END colsample_bylevel=0.6000000000000001, colsample_bytree=0.9000000000000001, gamma=0.30000000000000004, learning_rate=0.3, max_depth=6, n_estimators=200, subsample=0.6; total time=   1.0s\n",
      "[CV] END colsample_bylevel=0.6000000000000001, colsample_bytree=0.9000000000000001, gamma=0.30000000000000004, learning_rate=0.3, max_depth=6, n_estimators=200, subsample=0.6; total time=   1.5s\n",
      "[CV] END colsample_bylevel=0.6000000000000001, colsample_bytree=0.9000000000000001, gamma=0.30000000000000004, learning_rate=0.3, max_depth=6, n_estimators=200, subsample=0.6; total time=   1.5s\n",
      "[CV] END colsample_bylevel=0.6000000000000001, colsample_bytree=0.9000000000000001, gamma=0.30000000000000004, learning_rate=0.3, max_depth=6, n_estimators=200, subsample=0.6; total time=   1.5s\n",
      "[CV] END colsample_bylevel=0.6000000000000001, colsample_bytree=0.9000000000000001, gamma=0.30000000000000004, learning_rate=0.3, max_depth=6, n_estimators=200, subsample=0.6; total time=   1.5s\n",
      "[CV] END colsample_bylevel=0.5, colsample_bytree=0.7000000000000002, gamma=0.6000000000000001, learning_rate=0.2, max_depth=6, n_estimators=500, subsample=0.8999999999999999; total time=   1.4s\n",
      "[CV] END colsample_bylevel=0.5, colsample_bytree=0.7000000000000002, gamma=0.6000000000000001, learning_rate=0.2, max_depth=6, n_estimators=500, subsample=0.8999999999999999; total time=   2.4s\n",
      "[CV] END colsample_bylevel=0.5, colsample_bytree=0.7000000000000002, gamma=0.6000000000000001, learning_rate=0.2, max_depth=6, n_estimators=500, subsample=0.8999999999999999; total time=   2.4s\n",
      "[CV] END colsample_bylevel=0.5, colsample_bytree=0.7000000000000002, gamma=0.6000000000000001, learning_rate=0.2, max_depth=6, n_estimators=500, subsample=0.8999999999999999; total time=   2.4s\n",
      "[CV] END colsample_bylevel=0.5, colsample_bytree=0.7000000000000002, gamma=0.6000000000000001, learning_rate=0.2, max_depth=6, n_estimators=500, subsample=0.8999999999999999; total time=   2.3s\n",
      "[CV] END colsample_bylevel=0.6000000000000001, colsample_bytree=0.8000000000000003, gamma=0.6000000000000001, learning_rate=0.01, max_depth=8, n_estimators=500, subsample=0.7999999999999999; total time=   6.9s\n",
      "[CV] END colsample_bylevel=0.6000000000000001, colsample_bytree=0.8000000000000003, gamma=0.6000000000000001, learning_rate=0.01, max_depth=8, n_estimators=500, subsample=0.7999999999999999; total time=   6.8s\n",
      "[CV] END colsample_bylevel=0.6000000000000001, colsample_bytree=0.8000000000000003, gamma=0.6000000000000001, learning_rate=0.01, max_depth=8, n_estimators=500, subsample=0.7999999999999999; total time=   6.8s\n",
      "[CV] END colsample_bylevel=0.6000000000000001, colsample_bytree=0.8000000000000003, gamma=0.6000000000000001, learning_rate=0.01, max_depth=8, n_estimators=500, subsample=0.7999999999999999; total time=   6.9s\n",
      "[CV] END colsample_bylevel=0.6000000000000001, colsample_bytree=0.8000000000000003, gamma=0.6000000000000001, learning_rate=0.01, max_depth=8, n_estimators=500, subsample=0.7999999999999999; total time=   6.8s\n",
      "[CV] END colsample_bylevel=0.7000000000000002, colsample_bytree=0.6000000000000001, gamma=0.30000000000000004, learning_rate=0.1, max_depth=6, n_estimators=300, subsample=0.5; total time=   1.8s\n",
      "[CV] END colsample_bylevel=0.7000000000000002, colsample_bytree=0.6000000000000001, gamma=0.30000000000000004, learning_rate=0.1, max_depth=6, n_estimators=300, subsample=0.5; total time=   2.1s\n",
      "[CV] END colsample_bylevel=0.7000000000000002, colsample_bytree=0.6000000000000001, gamma=0.30000000000000004, learning_rate=0.1, max_depth=6, n_estimators=300, subsample=0.5; total time=   2.1s\n",
      "[CV] END colsample_bylevel=0.7000000000000002, colsample_bytree=0.6000000000000001, gamma=0.30000000000000004, learning_rate=0.1, max_depth=6, n_estimators=300, subsample=0.5; total time=   2.1s\n",
      "[CV] END colsample_bylevel=0.7000000000000002, colsample_bytree=0.6000000000000001, gamma=0.30000000000000004, learning_rate=0.1, max_depth=6, n_estimators=300, subsample=0.5; total time=   2.1s\n",
      "[CV] END colsample_bylevel=0.9000000000000001, colsample_bytree=0.8000000000000003, gamma=0.6000000000000001, learning_rate=0.3, max_depth=5, n_estimators=400, subsample=0.6; total time=   1.1s\n",
      "[CV] END colsample_bylevel=0.9000000000000001, colsample_bytree=0.8000000000000003, gamma=0.6000000000000001, learning_rate=0.3, max_depth=5, n_estimators=400, subsample=0.6; total time=   2.1s\n",
      "[CV] END colsample_bylevel=0.9000000000000001, colsample_bytree=0.8000000000000003, gamma=0.6000000000000001, learning_rate=0.3, max_depth=5, n_estimators=400, subsample=0.6; total time=   2.0s\n",
      "[CV] END colsample_bylevel=0.9000000000000001, colsample_bytree=0.8000000000000003, gamma=0.6000000000000001, learning_rate=0.3, max_depth=5, n_estimators=400, subsample=0.6; total time=   2.1s\n",
      "[CV] END colsample_bylevel=0.9000000000000001, colsample_bytree=0.8000000000000003, gamma=0.6000000000000001, learning_rate=0.3, max_depth=5, n_estimators=400, subsample=0.6; total time=   2.0s\n",
      "[CV] END colsample_bylevel=0.7000000000000002, colsample_bytree=0.7000000000000002, gamma=0.0, learning_rate=0.1, max_depth=11, n_estimators=100, subsample=0.7999999999999999; total time=   2.3s\n",
      "[CV] END colsample_bylevel=0.7000000000000002, colsample_bytree=0.7000000000000002, gamma=0.0, learning_rate=0.1, max_depth=11, n_estimators=100, subsample=0.7999999999999999; total time=   3.0s\n",
      "[CV] END colsample_bylevel=0.7000000000000002, colsample_bytree=0.7000000000000002, gamma=0.0, learning_rate=0.1, max_depth=11, n_estimators=100, subsample=0.7999999999999999; total time=   2.9s\n",
      "[CV] END colsample_bylevel=0.7000000000000002, colsample_bytree=0.7000000000000002, gamma=0.0, learning_rate=0.1, max_depth=11, n_estimators=100, subsample=0.7999999999999999; total time=   2.9s\n",
      "[CV] END colsample_bylevel=0.7000000000000002, colsample_bytree=0.7000000000000002, gamma=0.0, learning_rate=0.1, max_depth=11, n_estimators=100, subsample=0.7999999999999999; total time=   2.9s\n",
      "[CV] END colsample_bylevel=0.7000000000000002, colsample_bytree=0.3, gamma=0.1, learning_rate=0.01, max_depth=8, n_estimators=200, subsample=0.7; total time=   2.3s\n",
      "[CV] END colsample_bylevel=0.7000000000000002, colsample_bytree=0.3, gamma=0.1, learning_rate=0.01, max_depth=8, n_estimators=200, subsample=0.7; total time=   2.2s\n",
      "[CV] END colsample_bylevel=0.7000000000000002, colsample_bytree=0.3, gamma=0.1, learning_rate=0.01, max_depth=8, n_estimators=200, subsample=0.7; total time=   2.3s\n",
      "[CV] END colsample_bylevel=0.7000000000000002, colsample_bytree=0.3, gamma=0.1, learning_rate=0.01, max_depth=8, n_estimators=200, subsample=0.7; total time=   2.3s\n",
      "[CV] END colsample_bylevel=0.7000000000000002, colsample_bytree=0.3, gamma=0.1, learning_rate=0.01, max_depth=8, n_estimators=200, subsample=0.7; total time=   2.2s\n",
      "[CV] END colsample_bylevel=0.5, colsample_bytree=0.7000000000000002, gamma=0.30000000000000004, learning_rate=0.3, max_depth=10, n_estimators=500, subsample=0.7; total time=   1.8s\n",
      "[CV] END colsample_bylevel=0.5, colsample_bytree=0.7000000000000002, gamma=0.30000000000000004, learning_rate=0.3, max_depth=10, n_estimators=500, subsample=0.7; total time=   4.4s\n",
      "[CV] END colsample_bylevel=0.5, colsample_bytree=0.7000000000000002, gamma=0.30000000000000004, learning_rate=0.3, max_depth=10, n_estimators=500, subsample=0.7; total time=   4.3s\n",
      "[CV] END colsample_bylevel=0.5, colsample_bytree=0.7000000000000002, gamma=0.30000000000000004, learning_rate=0.3, max_depth=10, n_estimators=500, subsample=0.7; total time=   4.4s\n",
      "[CV] END colsample_bylevel=0.5, colsample_bytree=0.7000000000000002, gamma=0.30000000000000004, learning_rate=0.3, max_depth=10, n_estimators=500, subsample=0.7; total time=   4.2s\n",
      "[CV] END colsample_bylevel=0.3, colsample_bytree=0.8000000000000003, gamma=0.2, learning_rate=0.3, max_depth=9, n_estimators=300, subsample=0.8999999999999999; total time=   1.6s\n",
      "[CV] END colsample_bylevel=0.3, colsample_bytree=0.8000000000000003, gamma=0.2, learning_rate=0.3, max_depth=9, n_estimators=300, subsample=0.8999999999999999; total time=   3.3s\n",
      "[CV] END colsample_bylevel=0.3, colsample_bytree=0.8000000000000003, gamma=0.2, learning_rate=0.3, max_depth=9, n_estimators=300, subsample=0.8999999999999999; total time=   3.3s\n",
      "[CV] END colsample_bylevel=0.3, colsample_bytree=0.8000000000000003, gamma=0.2, learning_rate=0.3, max_depth=9, n_estimators=300, subsample=0.8999999999999999; total time=   3.3s\n",
      "[CV] END colsample_bylevel=0.3, colsample_bytree=0.8000000000000003, gamma=0.2, learning_rate=0.3, max_depth=9, n_estimators=300, subsample=0.8999999999999999; total time=   3.4s\n",
      "[CV] END colsample_bylevel=0.6000000000000001, colsample_bytree=0.4, gamma=0.0, learning_rate=0.3, max_depth=9, n_estimators=100, subsample=0.7; total time=   1.1s\n",
      "[CV] END colsample_bylevel=0.6000000000000001, colsample_bytree=0.4, gamma=0.0, learning_rate=0.3, max_depth=9, n_estimators=100, subsample=0.7; total time=   1.7s\n",
      "[CV] END colsample_bylevel=0.6000000000000001, colsample_bytree=0.4, gamma=0.0, learning_rate=0.3, max_depth=9, n_estimators=100, subsample=0.7; total time=   1.7s\n",
      "[CV] END colsample_bylevel=0.6000000000000001, colsample_bytree=0.4, gamma=0.0, learning_rate=0.3, max_depth=9, n_estimators=100, subsample=0.7; total time=   1.7s\n",
      "[CV] END colsample_bylevel=0.6000000000000001, colsample_bytree=0.4, gamma=0.0, learning_rate=0.3, max_depth=9, n_estimators=100, subsample=0.7; total time=   1.7s\n",
      "[CV] END colsample_bylevel=0.5, colsample_bytree=0.7000000000000002, gamma=0.6000000000000001, learning_rate=0.1, max_depth=6, n_estimators=500, subsample=0.5; total time=   2.2s\n",
      "[CV] END colsample_bylevel=0.5, colsample_bytree=0.7000000000000002, gamma=0.6000000000000001, learning_rate=0.1, max_depth=6, n_estimators=500, subsample=0.5; total time=   3.4s\n",
      "[CV] END colsample_bylevel=0.5, colsample_bytree=0.7000000000000002, gamma=0.6000000000000001, learning_rate=0.1, max_depth=6, n_estimators=500, subsample=0.5; total time=   3.3s\n",
      "[CV] END colsample_bylevel=0.5, colsample_bytree=0.7000000000000002, gamma=0.6000000000000001, learning_rate=0.1, max_depth=6, n_estimators=500, subsample=0.5; total time=   3.4s\n",
      "[CV] END colsample_bylevel=0.5, colsample_bytree=0.7000000000000002, gamma=0.6000000000000001, learning_rate=0.1, max_depth=6, n_estimators=500, subsample=0.5; total time=   3.4s\n",
      "[CV] END colsample_bylevel=0.5, colsample_bytree=0.7000000000000002, gamma=0.5, learning_rate=0.2, max_depth=10, n_estimators=200, subsample=0.7999999999999999; total time=   1.4s\n",
      "[CV] END colsample_bylevel=0.5, colsample_bytree=0.7000000000000002, gamma=0.5, learning_rate=0.2, max_depth=10, n_estimators=200, subsample=0.7999999999999999; total time=   3.1s\n",
      "[CV] END colsample_bylevel=0.5, colsample_bytree=0.7000000000000002, gamma=0.5, learning_rate=0.2, max_depth=10, n_estimators=200, subsample=0.7999999999999999; total time=   3.1s\n",
      "[CV] END colsample_bylevel=0.5, colsample_bytree=0.7000000000000002, gamma=0.5, learning_rate=0.2, max_depth=10, n_estimators=200, subsample=0.7999999999999999; total time=   3.1s\n",
      "[CV] END colsample_bylevel=0.5, colsample_bytree=0.7000000000000002, gamma=0.5, learning_rate=0.2, max_depth=10, n_estimators=200, subsample=0.7999999999999999; total time=   3.1s\n",
      "[CV] END colsample_bylevel=0.3, colsample_bytree=0.6000000000000001, gamma=0.0, learning_rate=0.3, max_depth=5, n_estimators=500, subsample=0.7; total time=   2.2s\n",
      "[CV] END colsample_bylevel=0.3, colsample_bytree=0.6000000000000001, gamma=0.0, learning_rate=0.3, max_depth=5, n_estimators=500, subsample=0.7; total time=   2.5s\n",
      "[CV] END colsample_bylevel=0.3, colsample_bytree=0.6000000000000001, gamma=0.0, learning_rate=0.3, max_depth=5, n_estimators=500, subsample=0.7; total time=   2.5s\n",
      "[CV] END colsample_bylevel=0.3, colsample_bytree=0.6000000000000001, gamma=0.0, learning_rate=0.3, max_depth=5, n_estimators=500, subsample=0.7; total time=   2.5s\n",
      "[CV] END colsample_bylevel=0.3, colsample_bytree=0.6000000000000001, gamma=0.0, learning_rate=0.3, max_depth=5, n_estimators=500, subsample=0.7; total time=   2.5s\n",
      "[CV] END colsample_bylevel=0.9000000000000001, colsample_bytree=0.8000000000000003, gamma=0.4, learning_rate=0.2, max_depth=8, n_estimators=100, subsample=0.6; total time=   1.0s\n",
      "[CV] END colsample_bylevel=0.9000000000000001, colsample_bytree=0.8000000000000003, gamma=0.4, learning_rate=0.2, max_depth=8, n_estimators=100, subsample=0.6; total time=   1.4s\n",
      "[CV] END colsample_bylevel=0.9000000000000001, colsample_bytree=0.8000000000000003, gamma=0.4, learning_rate=0.2, max_depth=8, n_estimators=100, subsample=0.6; total time=   1.4s\n",
      "[CV] END colsample_bylevel=0.9000000000000001, colsample_bytree=0.8000000000000003, gamma=0.4, learning_rate=0.2, max_depth=8, n_estimators=100, subsample=0.6; total time=   1.4s\n",
      "[CV] END colsample_bylevel=0.9000000000000001, colsample_bytree=0.8000000000000003, gamma=0.4, learning_rate=0.2, max_depth=8, n_estimators=100, subsample=0.6; total time=   1.4s\n",
      "[CV] END colsample_bylevel=0.3, colsample_bytree=0.9000000000000001, gamma=0.30000000000000004, learning_rate=0.3, max_depth=5, n_estimators=500, subsample=0.4; total time=   1.8s\n",
      "[CV] END colsample_bylevel=0.3, colsample_bytree=0.9000000000000001, gamma=0.30000000000000004, learning_rate=0.3, max_depth=5, n_estimators=500, subsample=0.4; total time=   2.5s\n",
      "[CV] END colsample_bylevel=0.3, colsample_bytree=0.9000000000000001, gamma=0.30000000000000004, learning_rate=0.3, max_depth=5, n_estimators=500, subsample=0.4; total time=   2.5s\n",
      "[CV] END colsample_bylevel=0.3, colsample_bytree=0.9000000000000001, gamma=0.30000000000000004, learning_rate=0.3, max_depth=5, n_estimators=500, subsample=0.4; total time=   2.5s\n",
      "[CV] END colsample_bylevel=0.3, colsample_bytree=0.9000000000000001, gamma=0.30000000000000004, learning_rate=0.3, max_depth=5, n_estimators=500, subsample=0.4; total time=   2.5s\n",
      "[CV] END colsample_bylevel=0.5, colsample_bytree=0.3, gamma=0.2, learning_rate=0.1, max_depth=11, n_estimators=300, subsample=0.6; total time=   3.1s\n",
      "[CV] END colsample_bylevel=0.5, colsample_bytree=0.3, gamma=0.2, learning_rate=0.1, max_depth=11, n_estimators=300, subsample=0.6; total time=   5.6s\n",
      "[CV] END colsample_bylevel=0.5, colsample_bytree=0.3, gamma=0.2, learning_rate=0.1, max_depth=11, n_estimators=300, subsample=0.6; total time=   5.6s\n",
      "[CV] END colsample_bylevel=0.5, colsample_bytree=0.3, gamma=0.2, learning_rate=0.1, max_depth=11, n_estimators=300, subsample=0.6; total time=   5.5s\n",
      "[CV] END colsample_bylevel=0.5, colsample_bytree=0.3, gamma=0.2, learning_rate=0.1, max_depth=11, n_estimators=300, subsample=0.6; total time=   5.3s\n",
      "[CV] END colsample_bylevel=0.5, colsample_bytree=0.8000000000000003, gamma=0.2, learning_rate=0.1, max_depth=6, n_estimators=400, subsample=0.6; total time=   2.4s\n",
      "[CV] END colsample_bylevel=0.5, colsample_bytree=0.8000000000000003, gamma=0.2, learning_rate=0.1, max_depth=6, n_estimators=400, subsample=0.6; total time=   2.8s\n",
      "[CV] END colsample_bylevel=0.5, colsample_bytree=0.8000000000000003, gamma=0.2, learning_rate=0.1, max_depth=6, n_estimators=400, subsample=0.6; total time=   2.8s\n",
      "[CV] END colsample_bylevel=0.5, colsample_bytree=0.8000000000000003, gamma=0.2, learning_rate=0.1, max_depth=6, n_estimators=400, subsample=0.6; total time=   2.9s\n",
      "[CV] END colsample_bylevel=0.5, colsample_bytree=0.8000000000000003, gamma=0.2, learning_rate=0.1, max_depth=6, n_estimators=400, subsample=0.6; total time=   2.8s\n",
      "[CV] END colsample_bylevel=0.6000000000000001, colsample_bytree=0.7000000000000002, gamma=0.5, learning_rate=0.1, max_depth=3, n_estimators=500, subsample=0.4; total time=   1.4s\n",
      "[CV] END colsample_bylevel=0.6000000000000001, colsample_bytree=0.7000000000000002, gamma=0.5, learning_rate=0.1, max_depth=3, n_estimators=500, subsample=0.4; total time=   1.3s\n",
      "[CV] END colsample_bylevel=0.6000000000000001, colsample_bytree=0.7000000000000002, gamma=0.5, learning_rate=0.1, max_depth=3, n_estimators=500, subsample=0.4; total time=   1.3s\n",
      "[CV] END colsample_bylevel=0.6000000000000001, colsample_bytree=0.7000000000000002, gamma=0.5, learning_rate=0.1, max_depth=3, n_estimators=500, subsample=0.4; total time=   1.3s\n",
      "[CV] END colsample_bylevel=0.6000000000000001, colsample_bytree=0.7000000000000002, gamma=0.5, learning_rate=0.1, max_depth=3, n_estimators=500, subsample=0.4; total time=   1.3s\n",
      "[CV] END colsample_bylevel=0.9000000000000001, colsample_bytree=0.4, gamma=0.0, learning_rate=0.5, max_depth=8, n_estimators=200, subsample=0.4; total time=   1.3s\n",
      "[CV] END colsample_bylevel=0.9000000000000001, colsample_bytree=0.4, gamma=0.0, learning_rate=0.5, max_depth=8, n_estimators=200, subsample=0.4; total time=   2.6s\n",
      "[CV] END colsample_bylevel=0.9000000000000001, colsample_bytree=0.4, gamma=0.0, learning_rate=0.5, max_depth=8, n_estimators=200, subsample=0.4; total time=   2.6s\n",
      "[CV] END colsample_bylevel=0.9000000000000001, colsample_bytree=0.4, gamma=0.0, learning_rate=0.5, max_depth=8, n_estimators=200, subsample=0.4; total time=   2.7s\n",
      "[CV] END colsample_bylevel=0.9000000000000001, colsample_bytree=0.4, gamma=0.0, learning_rate=0.5, max_depth=8, n_estimators=200, subsample=0.4; total time=   2.6s\n",
      "[CV] END colsample_bylevel=0.9000000000000001, colsample_bytree=0.8000000000000003, gamma=0.0, learning_rate=0.5, max_depth=8, n_estimators=500, subsample=0.5; total time=   2.3s\n",
      "[CV] END colsample_bylevel=0.9000000000000001, colsample_bytree=0.8000000000000003, gamma=0.0, learning_rate=0.5, max_depth=8, n_estimators=500, subsample=0.5; total time=   5.7s\n",
      "[CV] END colsample_bylevel=0.9000000000000001, colsample_bytree=0.8000000000000003, gamma=0.0, learning_rate=0.5, max_depth=8, n_estimators=500, subsample=0.5; total time=   5.7s\n",
      "[CV] END colsample_bylevel=0.9000000000000001, colsample_bytree=0.8000000000000003, gamma=0.0, learning_rate=0.5, max_depth=8, n_estimators=500, subsample=0.5; total time=   5.7s\n",
      "[CV] END colsample_bylevel=0.9000000000000001, colsample_bytree=0.8000000000000003, gamma=0.0, learning_rate=0.5, max_depth=8, n_estimators=500, subsample=0.5; total time=   5.6s\n",
      "[CV] END colsample_bylevel=0.7000000000000002, colsample_bytree=0.6000000000000001, gamma=0.4, learning_rate=0.01, max_depth=11, n_estimators=200, subsample=0.5; total time=   5.0s\n",
      "[CV] END colsample_bylevel=0.7000000000000002, colsample_bytree=0.6000000000000001, gamma=0.4, learning_rate=0.01, max_depth=11, n_estimators=200, subsample=0.5; total time=   5.7s\n",
      "[CV] END colsample_bylevel=0.7000000000000002, colsample_bytree=0.6000000000000001, gamma=0.4, learning_rate=0.01, max_depth=11, n_estimators=200, subsample=0.5; total time=   5.6s\n",
      "[CV] END colsample_bylevel=0.7000000000000002, colsample_bytree=0.6000000000000001, gamma=0.4, learning_rate=0.01, max_depth=11, n_estimators=200, subsample=0.5; total time=   5.6s\n",
      "[CV] END colsample_bylevel=0.7000000000000002, colsample_bytree=0.6000000000000001, gamma=0.4, learning_rate=0.01, max_depth=11, n_estimators=200, subsample=0.5; total time=   5.5s\n",
      "[CV] END colsample_bylevel=0.4, colsample_bytree=0.5, gamma=0.2, learning_rate=0.5, max_depth=3, n_estimators=400, subsample=0.8999999999999999; total time=   1.0s\n",
      "[CV] END colsample_bylevel=0.4, colsample_bytree=0.5, gamma=0.2, learning_rate=0.5, max_depth=3, n_estimators=400, subsample=0.8999999999999999; total time=   1.1s\n",
      "[CV] END colsample_bylevel=0.4, colsample_bytree=0.5, gamma=0.2, learning_rate=0.5, max_depth=3, n_estimators=400, subsample=0.8999999999999999; total time=   1.1s\n",
      "[CV] END colsample_bylevel=0.4, colsample_bytree=0.5, gamma=0.2, learning_rate=0.5, max_depth=3, n_estimators=400, subsample=0.8999999999999999; total time=   1.1s\n",
      "[CV] END colsample_bylevel=0.4, colsample_bytree=0.5, gamma=0.2, learning_rate=0.5, max_depth=3, n_estimators=400, subsample=0.8999999999999999; total time=   1.1s\n",
      "[CV] END colsample_bylevel=0.6000000000000001, colsample_bytree=0.4, gamma=0.6000000000000001, learning_rate=0.3, max_depth=8, n_estimators=500, subsample=0.8999999999999999; total time=   1.4s\n",
      "[CV] END colsample_bylevel=0.6000000000000001, colsample_bytree=0.4, gamma=0.6000000000000001, learning_rate=0.3, max_depth=8, n_estimators=500, subsample=0.8999999999999999; total time=   2.3s\n",
      "[CV] END colsample_bylevel=0.6000000000000001, colsample_bytree=0.4, gamma=0.6000000000000001, learning_rate=0.3, max_depth=8, n_estimators=500, subsample=0.8999999999999999; total time=   2.4s\n",
      "[CV] END colsample_bylevel=0.6000000000000001, colsample_bytree=0.4, gamma=0.6000000000000001, learning_rate=0.3, max_depth=8, n_estimators=500, subsample=0.8999999999999999; total time=   2.4s\n",
      "[CV] END colsample_bylevel=0.6000000000000001, colsample_bytree=0.4, gamma=0.6000000000000001, learning_rate=0.3, max_depth=8, n_estimators=500, subsample=0.8999999999999999; total time=   2.3s\n",
      "[CV] END colsample_bylevel=0.9000000000000001, colsample_bytree=0.8000000000000003, gamma=0.1, learning_rate=0.3, max_depth=8, n_estimators=400, subsample=0.7; total time=   1.7s\n",
      "[CV] END colsample_bylevel=0.9000000000000001, colsample_bytree=0.8000000000000003, gamma=0.1, learning_rate=0.3, max_depth=8, n_estimators=400, subsample=0.7; total time=   4.9s\n",
      "[CV] END colsample_bylevel=0.9000000000000001, colsample_bytree=0.8000000000000003, gamma=0.1, learning_rate=0.3, max_depth=8, n_estimators=400, subsample=0.7; total time=   4.9s\n",
      "[CV] END colsample_bylevel=0.9000000000000001, colsample_bytree=0.8000000000000003, gamma=0.1, learning_rate=0.3, max_depth=8, n_estimators=400, subsample=0.7; total time=   4.9s\n",
      "[CV] END colsample_bylevel=0.9000000000000001, colsample_bytree=0.8000000000000003, gamma=0.1, learning_rate=0.3, max_depth=8, n_estimators=400, subsample=0.7; total time=   4.8s\n",
      "[CV] END colsample_bylevel=0.4, colsample_bytree=0.3, gamma=0.30000000000000004, learning_rate=0.01, max_depth=6, n_estimators=200, subsample=0.7999999999999999; total time=   1.1s\n",
      "[CV] END colsample_bylevel=0.4, colsample_bytree=0.3, gamma=0.30000000000000004, learning_rate=0.01, max_depth=6, n_estimators=200, subsample=0.7999999999999999; total time=   1.1s\n",
      "[CV] END colsample_bylevel=0.4, colsample_bytree=0.3, gamma=0.30000000000000004, learning_rate=0.01, max_depth=6, n_estimators=200, subsample=0.7999999999999999; total time=   1.0s\n",
      "[CV] END colsample_bylevel=0.4, colsample_bytree=0.3, gamma=0.30000000000000004, learning_rate=0.01, max_depth=6, n_estimators=200, subsample=0.7999999999999999; total time=   1.1s\n",
      "[CV] END colsample_bylevel=0.4, colsample_bytree=0.3, gamma=0.30000000000000004, learning_rate=0.01, max_depth=6, n_estimators=200, subsample=0.7999999999999999; total time=   1.1s\n",
      "[CV] END colsample_bylevel=0.5, colsample_bytree=0.8000000000000003, gamma=0.4, learning_rate=0.5, max_depth=8, n_estimators=500, subsample=0.4; total time=   1.5s\n",
      "[CV] END colsample_bylevel=0.5, colsample_bytree=0.8000000000000003, gamma=0.4, learning_rate=0.5, max_depth=8, n_estimators=500, subsample=0.4; total time=   4.2s\n",
      "[CV] END colsample_bylevel=0.5, colsample_bytree=0.8000000000000003, gamma=0.4, learning_rate=0.5, max_depth=8, n_estimators=500, subsample=0.4; total time=   4.1s\n",
      "[CV] END colsample_bylevel=0.5, colsample_bytree=0.8000000000000003, gamma=0.4, learning_rate=0.5, max_depth=8, n_estimators=500, subsample=0.4; total time=   4.1s\n",
      "[CV] END colsample_bylevel=0.5, colsample_bytree=0.8000000000000003, gamma=0.4, learning_rate=0.5, max_depth=8, n_estimators=500, subsample=0.4; total time=   4.2s\n",
      "[CV] END colsample_bylevel=0.8000000000000003, colsample_bytree=0.4, gamma=0.5, learning_rate=0.2, max_depth=8, n_estimators=400, subsample=0.7999999999999999; total time=   1.5s\n",
      "[CV] END colsample_bylevel=0.8000000000000003, colsample_bytree=0.4, gamma=0.5, learning_rate=0.2, max_depth=8, n_estimators=400, subsample=0.7999999999999999; total time=   3.4s\n",
      "[CV] END colsample_bylevel=0.8000000000000003, colsample_bytree=0.4, gamma=0.5, learning_rate=0.2, max_depth=8, n_estimators=400, subsample=0.7999999999999999; total time=   3.4s\n",
      "[CV] END colsample_bylevel=0.8000000000000003, colsample_bytree=0.4, gamma=0.5, learning_rate=0.2, max_depth=8, n_estimators=400, subsample=0.7999999999999999; total time=   3.5s\n",
      "[CV] END colsample_bylevel=0.8000000000000003, colsample_bytree=0.4, gamma=0.5, learning_rate=0.2, max_depth=8, n_estimators=400, subsample=0.7999999999999999; total time=   3.5s\n",
      "[CV] END colsample_bylevel=0.4, colsample_bytree=0.7000000000000002, gamma=0.2, learning_rate=0.1, max_depth=10, n_estimators=200, subsample=0.5; total time=   2.6s\n",
      "[CV] END colsample_bylevel=0.4, colsample_bytree=0.7000000000000002, gamma=0.2, learning_rate=0.1, max_depth=10, n_estimators=200, subsample=0.5; total time=   4.0s\n",
      "[CV] END colsample_bylevel=0.4, colsample_bytree=0.7000000000000002, gamma=0.2, learning_rate=0.1, max_depth=10, n_estimators=200, subsample=0.5; total time=   4.0s\n",
      "[CV] END colsample_bylevel=0.4, colsample_bytree=0.7000000000000002, gamma=0.2, learning_rate=0.1, max_depth=10, n_estimators=200, subsample=0.5; total time=   4.1s\n",
      "[CV] END colsample_bylevel=0.4, colsample_bytree=0.7000000000000002, gamma=0.2, learning_rate=0.1, max_depth=10, n_estimators=200, subsample=0.5; total time=   4.0s\n",
      "[CV] END colsample_bylevel=0.3, colsample_bytree=0.3, gamma=0.0, learning_rate=0.01, max_depth=6, n_estimators=300, subsample=0.7999999999999999; total time=   1.6s\n",
      "[CV] END colsample_bylevel=0.3, colsample_bytree=0.3, gamma=0.0, learning_rate=0.01, max_depth=6, n_estimators=300, subsample=0.7999999999999999; total time=   1.6s\n",
      "[CV] END colsample_bylevel=0.3, colsample_bytree=0.3, gamma=0.0, learning_rate=0.01, max_depth=6, n_estimators=300, subsample=0.7999999999999999; total time=   1.6s\n",
      "[CV] END colsample_bylevel=0.3, colsample_bytree=0.3, gamma=0.0, learning_rate=0.01, max_depth=6, n_estimators=300, subsample=0.7999999999999999; total time=   1.6s\n",
      "[CV] END colsample_bylevel=0.3, colsample_bytree=0.3, gamma=0.0, learning_rate=0.01, max_depth=6, n_estimators=300, subsample=0.7999999999999999; total time=   1.6s\n",
      "[CV] END colsample_bylevel=0.5, colsample_bytree=0.5, gamma=0.2, learning_rate=0.5, max_depth=11, n_estimators=100, subsample=0.6; total time=   0.9s\n",
      "[CV] END colsample_bylevel=0.5, colsample_bytree=0.5, gamma=0.2, learning_rate=0.5, max_depth=11, n_estimators=100, subsample=0.6; total time=   2.2s\n",
      "[CV] END colsample_bylevel=0.5, colsample_bytree=0.5, gamma=0.2, learning_rate=0.5, max_depth=11, n_estimators=100, subsample=0.6; total time=   2.2s\n",
      "[CV] END colsample_bylevel=0.5, colsample_bytree=0.5, gamma=0.2, learning_rate=0.5, max_depth=11, n_estimators=100, subsample=0.6; total time=   2.2s\n",
      "[CV] END colsample_bylevel=0.5, colsample_bytree=0.5, gamma=0.2, learning_rate=0.5, max_depth=11, n_estimators=100, subsample=0.6; total time=   2.2s\n",
      "[CV] END colsample_bylevel=0.3, colsample_bytree=0.8000000000000003, gamma=0.6000000000000001, learning_rate=0.3, max_depth=3, n_estimators=400, subsample=0.6; total time=   1.1s\n",
      "[CV] END colsample_bylevel=0.3, colsample_bytree=0.8000000000000003, gamma=0.6000000000000001, learning_rate=0.3, max_depth=3, n_estimators=400, subsample=0.6; total time=   1.1s\n",
      "[CV] END colsample_bylevel=0.3, colsample_bytree=0.8000000000000003, gamma=0.6000000000000001, learning_rate=0.3, max_depth=3, n_estimators=400, subsample=0.6; total time=   1.1s\n",
      "[CV] END colsample_bylevel=0.3, colsample_bytree=0.8000000000000003, gamma=0.6000000000000001, learning_rate=0.3, max_depth=3, n_estimators=400, subsample=0.6; total time=   1.1s\n",
      "[CV] END colsample_bylevel=0.3, colsample_bytree=0.8000000000000003, gamma=0.6000000000000001, learning_rate=0.3, max_depth=3, n_estimators=400, subsample=0.6; total time=   1.1s\n",
      "[CV] END colsample_bylevel=0.3, colsample_bytree=0.3, gamma=0.1, learning_rate=0.01, max_depth=8, n_estimators=500, subsample=0.8999999999999999; total time=   4.0s\n",
      "[CV] END colsample_bylevel=0.3, colsample_bytree=0.3, gamma=0.1, learning_rate=0.01, max_depth=8, n_estimators=500, subsample=0.8999999999999999; total time=   4.0s\n",
      "[CV] END colsample_bylevel=0.3, colsample_bytree=0.3, gamma=0.1, learning_rate=0.01, max_depth=8, n_estimators=500, subsample=0.8999999999999999; total time=   4.0s\n",
      "[CV] END colsample_bylevel=0.3, colsample_bytree=0.3, gamma=0.1, learning_rate=0.01, max_depth=8, n_estimators=500, subsample=0.8999999999999999; total time=   4.0s\n",
      "[CV] END colsample_bylevel=0.3, colsample_bytree=0.3, gamma=0.1, learning_rate=0.01, max_depth=8, n_estimators=500, subsample=0.8999999999999999; total time=   4.1s\n",
      "[CV] END colsample_bylevel=0.9000000000000001, colsample_bytree=0.3, gamma=0.5, learning_rate=0.5, max_depth=10, n_estimators=100, subsample=0.7999999999999999; total time=   0.6s\n",
      "[CV] END colsample_bylevel=0.9000000000000001, colsample_bytree=0.3, gamma=0.5, learning_rate=0.5, max_depth=10, n_estimators=100, subsample=0.7999999999999999; total time=   1.5s\n",
      "[CV] END colsample_bylevel=0.9000000000000001, colsample_bytree=0.3, gamma=0.5, learning_rate=0.5, max_depth=10, n_estimators=100, subsample=0.7999999999999999; total time=   1.5s\n",
      "[CV] END colsample_bylevel=0.9000000000000001, colsample_bytree=0.3, gamma=0.5, learning_rate=0.5, max_depth=10, n_estimators=100, subsample=0.7999999999999999; total time=   1.6s\n",
      "[CV] END colsample_bylevel=0.9000000000000001, colsample_bytree=0.3, gamma=0.5, learning_rate=0.5, max_depth=10, n_estimators=100, subsample=0.7999999999999999; total time=   1.5s\n",
      "[CV] END colsample_bylevel=0.6000000000000001, colsample_bytree=0.3, gamma=0.1, learning_rate=0.5, max_depth=10, n_estimators=200, subsample=0.7999999999999999; total time=   1.1s\n",
      "[CV] END colsample_bylevel=0.6000000000000001, colsample_bytree=0.3, gamma=0.1, learning_rate=0.5, max_depth=10, n_estimators=200, subsample=0.7999999999999999; total time=   3.0s\n",
      "[CV] END colsample_bylevel=0.6000000000000001, colsample_bytree=0.3, gamma=0.1, learning_rate=0.5, max_depth=10, n_estimators=200, subsample=0.7999999999999999; total time=   3.0s\n",
      "[CV] END colsample_bylevel=0.6000000000000001, colsample_bytree=0.3, gamma=0.1, learning_rate=0.5, max_depth=10, n_estimators=200, subsample=0.7999999999999999; total time=   3.0s\n",
      "[CV] END colsample_bylevel=0.6000000000000001, colsample_bytree=0.3, gamma=0.1, learning_rate=0.5, max_depth=10, n_estimators=200, subsample=0.7999999999999999; total time=   3.0s\n",
      "[CV] END colsample_bylevel=0.5, colsample_bytree=0.9000000000000001, gamma=0.5, learning_rate=0.2, max_depth=8, n_estimators=100, subsample=0.4; total time=   0.9s\n",
      "[CV] END colsample_bylevel=0.5, colsample_bytree=0.9000000000000001, gamma=0.5, learning_rate=0.2, max_depth=8, n_estimators=100, subsample=0.4; total time=   1.3s\n",
      "[CV] END colsample_bylevel=0.5, colsample_bytree=0.9000000000000001, gamma=0.5, learning_rate=0.2, max_depth=8, n_estimators=100, subsample=0.4; total time=   1.3s\n",
      "[CV] END colsample_bylevel=0.5, colsample_bytree=0.9000000000000001, gamma=0.5, learning_rate=0.2, max_depth=8, n_estimators=100, subsample=0.4; total time=   1.3s\n",
      "[CV] END colsample_bylevel=0.5, colsample_bytree=0.9000000000000001, gamma=0.5, learning_rate=0.2, max_depth=8, n_estimators=100, subsample=0.4; total time=   1.3s\n",
      "[CV] END colsample_bylevel=0.7000000000000002, colsample_bytree=0.4, gamma=0.0, learning_rate=0.1, max_depth=6, n_estimators=300, subsample=0.4; total time=   1.9s\n",
      "[CV] END colsample_bylevel=0.7000000000000002, colsample_bytree=0.4, gamma=0.0, learning_rate=0.1, max_depth=6, n_estimators=300, subsample=0.4; total time=   2.1s\n",
      "[CV] END colsample_bylevel=0.7000000000000002, colsample_bytree=0.4, gamma=0.0, learning_rate=0.1, max_depth=6, n_estimators=300, subsample=0.4; total time=   2.1s\n",
      "[CV] END colsample_bylevel=0.7000000000000002, colsample_bytree=0.4, gamma=0.0, learning_rate=0.1, max_depth=6, n_estimators=300, subsample=0.4; total time=   2.1s\n",
      "[CV] END colsample_bylevel=0.7000000000000002, colsample_bytree=0.4, gamma=0.0, learning_rate=0.1, max_depth=6, n_estimators=300, subsample=0.4; total time=   2.1s\n",
      "[CV] END colsample_bylevel=0.9000000000000001, colsample_bytree=0.4, gamma=0.30000000000000004, learning_rate=0.5, max_depth=5, n_estimators=200, subsample=0.8999999999999999; total time=   0.7s\n",
      "[CV] END colsample_bylevel=0.9000000000000001, colsample_bytree=0.4, gamma=0.30000000000000004, learning_rate=0.5, max_depth=5, n_estimators=200, subsample=0.8999999999999999; total time=   1.0s\n",
      "[CV] END colsample_bylevel=0.9000000000000001, colsample_bytree=0.4, gamma=0.30000000000000004, learning_rate=0.5, max_depth=5, n_estimators=200, subsample=0.8999999999999999; total time=   1.0s\n",
      "[CV] END colsample_bylevel=0.9000000000000001, colsample_bytree=0.4, gamma=0.30000000000000004, learning_rate=0.5, max_depth=5, n_estimators=200, subsample=0.8999999999999999; total time=   1.0s\n",
      "[CV] END colsample_bylevel=0.9000000000000001, colsample_bytree=0.4, gamma=0.30000000000000004, learning_rate=0.5, max_depth=5, n_estimators=200, subsample=0.8999999999999999; total time=   1.0s\n",
      "[CV] END colsample_bylevel=0.4, colsample_bytree=0.3, gamma=0.2, learning_rate=0.2, max_depth=6, n_estimators=100, subsample=0.4; total time=   0.6s\n",
      "[CV] END colsample_bylevel=0.4, colsample_bytree=0.3, gamma=0.2, learning_rate=0.2, max_depth=6, n_estimators=100, subsample=0.4; total time=   0.5s\n",
      "[CV] END colsample_bylevel=0.4, colsample_bytree=0.3, gamma=0.2, learning_rate=0.2, max_depth=6, n_estimators=100, subsample=0.4; total time=   0.6s\n",
      "[CV] END colsample_bylevel=0.4, colsample_bytree=0.3, gamma=0.2, learning_rate=0.2, max_depth=6, n_estimators=100, subsample=0.4; total time=   0.5s\n",
      "[CV] END colsample_bylevel=0.4, colsample_bytree=0.3, gamma=0.2, learning_rate=0.2, max_depth=6, n_estimators=100, subsample=0.4; total time=   0.5s\n",
      "[CV] END colsample_bylevel=0.9000000000000001, colsample_bytree=0.7000000000000002, gamma=0.30000000000000004, learning_rate=0.1, max_depth=11, n_estimators=400, subsample=0.5; total time=   3.1s\n",
      "[CV] END colsample_bylevel=0.9000000000000001, colsample_bytree=0.7000000000000002, gamma=0.30000000000000004, learning_rate=0.1, max_depth=11, n_estimators=400, subsample=0.5; total time=   9.1s\n",
      "[CV] END colsample_bylevel=0.9000000000000001, colsample_bytree=0.7000000000000002, gamma=0.30000000000000004, learning_rate=0.1, max_depth=11, n_estimators=400, subsample=0.5; total time=   8.9s\n",
      "[CV] END colsample_bylevel=0.9000000000000001, colsample_bytree=0.7000000000000002, gamma=0.30000000000000004, learning_rate=0.1, max_depth=11, n_estimators=400, subsample=0.5; total time=   9.1s\n",
      "[CV] END colsample_bylevel=0.9000000000000001, colsample_bytree=0.7000000000000002, gamma=0.30000000000000004, learning_rate=0.1, max_depth=11, n_estimators=400, subsample=0.5; total time=   8.9s\n",
      "[CV] END colsample_bylevel=0.4, colsample_bytree=0.4, gamma=0.6000000000000001, learning_rate=0.3, max_depth=6, n_estimators=300, subsample=0.6; total time=   1.1s\n",
      "[CV] END colsample_bylevel=0.4, colsample_bytree=0.4, gamma=0.6000000000000001, learning_rate=0.3, max_depth=6, n_estimators=300, subsample=0.6; total time=   1.7s\n",
      "[CV] END colsample_bylevel=0.4, colsample_bytree=0.4, gamma=0.6000000000000001, learning_rate=0.3, max_depth=6, n_estimators=300, subsample=0.6; total time=   1.7s\n",
      "[CV] END colsample_bylevel=0.4, colsample_bytree=0.4, gamma=0.6000000000000001, learning_rate=0.3, max_depth=6, n_estimators=300, subsample=0.6; total time=   1.7s\n",
      "[CV] END colsample_bylevel=0.4, colsample_bytree=0.4, gamma=0.6000000000000001, learning_rate=0.3, max_depth=6, n_estimators=300, subsample=0.6; total time=   1.7s\n",
      "[CV] END colsample_bylevel=0.8000000000000003, colsample_bytree=0.3, gamma=0.5, learning_rate=0.5, max_depth=9, n_estimators=100, subsample=0.8999999999999999; total time=   0.6s\n",
      "[CV] END colsample_bylevel=0.8000000000000003, colsample_bytree=0.3, gamma=0.5, learning_rate=0.5, max_depth=9, n_estimators=100, subsample=0.8999999999999999; total time=   1.3s\n",
      "[CV] END colsample_bylevel=0.8000000000000003, colsample_bytree=0.3, gamma=0.5, learning_rate=0.5, max_depth=9, n_estimators=100, subsample=0.8999999999999999; total time=   1.3s\n",
      "[CV] END colsample_bylevel=0.8000000000000003, colsample_bytree=0.3, gamma=0.5, learning_rate=0.5, max_depth=9, n_estimators=100, subsample=0.8999999999999999; total time=   1.2s\n",
      "[CV] END colsample_bylevel=0.8000000000000003, colsample_bytree=0.3, gamma=0.5, learning_rate=0.5, max_depth=9, n_estimators=100, subsample=0.8999999999999999; total time=   1.2s\n",
      "[CV] END colsample_bylevel=0.3, colsample_bytree=0.5, gamma=0.4, learning_rate=0.3, max_depth=10, n_estimators=500, subsample=0.4; total time=   1.8s\n",
      "[CV] END colsample_bylevel=0.3, colsample_bytree=0.5, gamma=0.4, learning_rate=0.3, max_depth=10, n_estimators=500, subsample=0.4; total time=   4.8s\n",
      "[CV] END colsample_bylevel=0.3, colsample_bytree=0.5, gamma=0.4, learning_rate=0.3, max_depth=10, n_estimators=500, subsample=0.4; total time=   4.8s\n",
      "[CV] END colsample_bylevel=0.3, colsample_bytree=0.5, gamma=0.4, learning_rate=0.3, max_depth=10, n_estimators=500, subsample=0.4; total time=   4.9s\n",
      "[CV] END colsample_bylevel=0.3, colsample_bytree=0.5, gamma=0.4, learning_rate=0.3, max_depth=10, n_estimators=500, subsample=0.4; total time=   4.8s\n",
      "[CV] END colsample_bylevel=0.8000000000000003, colsample_bytree=0.3, gamma=0.4, learning_rate=0.5, max_depth=5, n_estimators=500, subsample=0.8999999999999999; total time=   1.1s\n",
      "[CV] END colsample_bylevel=0.8000000000000003, colsample_bytree=0.3, gamma=0.4, learning_rate=0.5, max_depth=5, n_estimators=500, subsample=0.8999999999999999; total time=   2.0s\n",
      "[CV] END colsample_bylevel=0.8000000000000003, colsample_bytree=0.3, gamma=0.4, learning_rate=0.5, max_depth=5, n_estimators=500, subsample=0.8999999999999999; total time=   2.0s\n",
      "[CV] END colsample_bylevel=0.8000000000000003, colsample_bytree=0.3, gamma=0.4, learning_rate=0.5, max_depth=5, n_estimators=500, subsample=0.8999999999999999; total time=   2.0s\n",
      "[CV] END colsample_bylevel=0.8000000000000003, colsample_bytree=0.3, gamma=0.4, learning_rate=0.5, max_depth=5, n_estimators=500, subsample=0.8999999999999999; total time=   2.0s\n",
      "[CV] END colsample_bylevel=0.4, colsample_bytree=0.8000000000000003, gamma=0.5, learning_rate=0.2, max_depth=5, n_estimators=100, subsample=0.4; total time=   0.6s\n",
      "[CV] END colsample_bylevel=0.4, colsample_bytree=0.8000000000000003, gamma=0.5, learning_rate=0.2, max_depth=5, n_estimators=100, subsample=0.4; total time=   0.6s\n",
      "[CV] END colsample_bylevel=0.4, colsample_bytree=0.8000000000000003, gamma=0.5, learning_rate=0.2, max_depth=5, n_estimators=100, subsample=0.4; total time=   0.5s\n",
      "[CV] END colsample_bylevel=0.4, colsample_bytree=0.8000000000000003, gamma=0.5, learning_rate=0.2, max_depth=5, n_estimators=100, subsample=0.4; total time=   0.6s\n",
      "[CV] END colsample_bylevel=0.4, colsample_bytree=0.8000000000000003, gamma=0.5, learning_rate=0.2, max_depth=5, n_estimators=100, subsample=0.4; total time=   0.6s\n",
      "[CV] END colsample_bylevel=0.8000000000000003, colsample_bytree=0.7000000000000002, gamma=0.30000000000000004, learning_rate=0.1, max_depth=10, n_estimators=200, subsample=0.8999999999999999; total time=   2.5s\n",
      "[CV] END colsample_bylevel=0.8000000000000003, colsample_bytree=0.7000000000000002, gamma=0.30000000000000004, learning_rate=0.1, max_depth=10, n_estimators=200, subsample=0.8999999999999999; total time=   4.2s\n",
      "[CV] END colsample_bylevel=0.8000000000000003, colsample_bytree=0.7000000000000002, gamma=0.30000000000000004, learning_rate=0.1, max_depth=10, n_estimators=200, subsample=0.8999999999999999; total time=   4.1s\n",
      "[CV] END colsample_bylevel=0.8000000000000003, colsample_bytree=0.7000000000000002, gamma=0.30000000000000004, learning_rate=0.1, max_depth=10, n_estimators=200, subsample=0.8999999999999999; total time=   4.1s\n",
      "[CV] END colsample_bylevel=0.8000000000000003, colsample_bytree=0.7000000000000002, gamma=0.30000000000000004, learning_rate=0.1, max_depth=10, n_estimators=200, subsample=0.8999999999999999; total time=   4.0s\n",
      "[CV] END colsample_bylevel=0.7000000000000002, colsample_bytree=0.9000000000000001, gamma=0.4, learning_rate=0.1, max_depth=8, n_estimators=500, subsample=0.5; total time=   2.7s\n",
      "[CV] END colsample_bylevel=0.7000000000000002, colsample_bytree=0.9000000000000001, gamma=0.4, learning_rate=0.1, max_depth=8, n_estimators=500, subsample=0.5; total time=   6.6s\n",
      "[CV] END colsample_bylevel=0.7000000000000002, colsample_bytree=0.9000000000000001, gamma=0.4, learning_rate=0.1, max_depth=8, n_estimators=500, subsample=0.5; total time=   6.6s\n",
      "[CV] END colsample_bylevel=0.7000000000000002, colsample_bytree=0.9000000000000001, gamma=0.4, learning_rate=0.1, max_depth=8, n_estimators=500, subsample=0.5; total time=   6.6s\n",
      "[CV] END colsample_bylevel=0.7000000000000002, colsample_bytree=0.9000000000000001, gamma=0.4, learning_rate=0.1, max_depth=8, n_estimators=500, subsample=0.5; total time=   6.5s\n",
      "[CV] END colsample_bylevel=0.7000000000000002, colsample_bytree=0.5, gamma=0.5, learning_rate=0.1, max_depth=6, n_estimators=100, subsample=0.7; total time=   0.7s\n",
      "[CV] END colsample_bylevel=0.7000000000000002, colsample_bytree=0.5, gamma=0.5, learning_rate=0.1, max_depth=6, n_estimators=100, subsample=0.7; total time=   0.8s\n",
      "[CV] END colsample_bylevel=0.7000000000000002, colsample_bytree=0.5, gamma=0.5, learning_rate=0.1, max_depth=6, n_estimators=100, subsample=0.7; total time=   0.7s\n",
      "[CV] END colsample_bylevel=0.7000000000000002, colsample_bytree=0.5, gamma=0.5, learning_rate=0.1, max_depth=6, n_estimators=100, subsample=0.7; total time=   0.8s\n",
      "[CV] END colsample_bylevel=0.7000000000000002, colsample_bytree=0.5, gamma=0.5, learning_rate=0.1, max_depth=6, n_estimators=100, subsample=0.7; total time=   0.7s\n",
      "[CV] END colsample_bylevel=0.9000000000000001, colsample_bytree=0.5, gamma=0.5, learning_rate=0.01, max_depth=9, n_estimators=200, subsample=0.6; total time=   3.6s\n",
      "[CV] END colsample_bylevel=0.9000000000000001, colsample_bytree=0.5, gamma=0.5, learning_rate=0.01, max_depth=9, n_estimators=200, subsample=0.6; total time=   3.9s\n",
      "[CV] END colsample_bylevel=0.9000000000000001, colsample_bytree=0.5, gamma=0.5, learning_rate=0.01, max_depth=9, n_estimators=200, subsample=0.6; total time=   3.8s\n",
      "[CV] END colsample_bylevel=0.9000000000000001, colsample_bytree=0.5, gamma=0.5, learning_rate=0.01, max_depth=9, n_estimators=200, subsample=0.6; total time=   3.9s\n",
      "[CV] END colsample_bylevel=0.9000000000000001, colsample_bytree=0.5, gamma=0.5, learning_rate=0.01, max_depth=9, n_estimators=200, subsample=0.6; total time=   3.7s\n",
      "[CV] END colsample_bylevel=0.7000000000000002, colsample_bytree=0.6000000000000001, gamma=0.4, learning_rate=0.01, max_depth=5, n_estimators=100, subsample=0.8999999999999999; total time=   0.6s\n",
      "[CV] END colsample_bylevel=0.7000000000000002, colsample_bytree=0.6000000000000001, gamma=0.4, learning_rate=0.01, max_depth=5, n_estimators=100, subsample=0.8999999999999999; total time=   0.6s\n",
      "[CV] END colsample_bylevel=0.7000000000000002, colsample_bytree=0.6000000000000001, gamma=0.4, learning_rate=0.01, max_depth=5, n_estimators=100, subsample=0.8999999999999999; total time=   0.6s\n",
      "[CV] END colsample_bylevel=0.7000000000000002, colsample_bytree=0.6000000000000001, gamma=0.4, learning_rate=0.01, max_depth=5, n_estimators=100, subsample=0.8999999999999999; total time=   0.6s\n",
      "[CV] END colsample_bylevel=0.7000000000000002, colsample_bytree=0.6000000000000001, gamma=0.4, learning_rate=0.01, max_depth=5, n_estimators=100, subsample=0.8999999999999999; total time=   0.6s\n",
      "[CV] END colsample_bylevel=0.9000000000000001, colsample_bytree=0.4, gamma=0.1, learning_rate=0.01, max_depth=10, n_estimators=100, subsample=0.5; total time=   2.2s\n",
      "[CV] END colsample_bylevel=0.9000000000000001, colsample_bytree=0.4, gamma=0.1, learning_rate=0.01, max_depth=10, n_estimators=100, subsample=0.5; total time=   2.5s\n",
      "[CV] END colsample_bylevel=0.9000000000000001, colsample_bytree=0.4, gamma=0.1, learning_rate=0.01, max_depth=10, n_estimators=100, subsample=0.5; total time=   2.4s\n",
      "[CV] END colsample_bylevel=0.9000000000000001, colsample_bytree=0.4, gamma=0.1, learning_rate=0.01, max_depth=10, n_estimators=100, subsample=0.5; total time=   2.5s\n",
      "[CV] END colsample_bylevel=0.9000000000000001, colsample_bytree=0.4, gamma=0.1, learning_rate=0.01, max_depth=10, n_estimators=100, subsample=0.5; total time=   2.4s\n",
      "[CV] END colsample_bylevel=0.5, colsample_bytree=0.8000000000000003, gamma=0.6000000000000001, learning_rate=0.2, max_depth=5, n_estimators=100, subsample=0.6; total time=   0.5s\n",
      "[CV] END colsample_bylevel=0.5, colsample_bytree=0.8000000000000003, gamma=0.6000000000000001, learning_rate=0.2, max_depth=5, n_estimators=100, subsample=0.6; total time=   0.6s\n",
      "[CV] END colsample_bylevel=0.5, colsample_bytree=0.8000000000000003, gamma=0.6000000000000001, learning_rate=0.2, max_depth=5, n_estimators=100, subsample=0.6; total time=   0.6s\n",
      "[CV] END colsample_bylevel=0.5, colsample_bytree=0.8000000000000003, gamma=0.6000000000000001, learning_rate=0.2, max_depth=5, n_estimators=100, subsample=0.6; total time=   0.6s\n",
      "[CV] END colsample_bylevel=0.5, colsample_bytree=0.8000000000000003, gamma=0.6000000000000001, learning_rate=0.2, max_depth=5, n_estimators=100, subsample=0.6; total time=   0.6s\n",
      "[CV] END colsample_bylevel=0.9000000000000001, colsample_bytree=0.5, gamma=0.2, learning_rate=0.1, max_depth=9, n_estimators=400, subsample=0.8999999999999999; total time=   3.0s\n",
      "[CV] END colsample_bylevel=0.9000000000000001, colsample_bytree=0.5, gamma=0.2, learning_rate=0.1, max_depth=9, n_estimators=400, subsample=0.8999999999999999; total time=   6.4s\n",
      "[CV] END colsample_bylevel=0.9000000000000001, colsample_bytree=0.5, gamma=0.2, learning_rate=0.1, max_depth=9, n_estimators=400, subsample=0.8999999999999999; total time=   6.2s\n",
      "[CV] END colsample_bylevel=0.9000000000000001, colsample_bytree=0.5, gamma=0.2, learning_rate=0.1, max_depth=9, n_estimators=400, subsample=0.8999999999999999; total time=   6.3s\n",
      "[CV] END colsample_bylevel=0.9000000000000001, colsample_bytree=0.5, gamma=0.2, learning_rate=0.1, max_depth=9, n_estimators=400, subsample=0.8999999999999999; total time=   6.2s\n",
      "[CV] END colsample_bylevel=0.8000000000000003, colsample_bytree=0.3, gamma=0.6000000000000001, learning_rate=0.1, max_depth=3, n_estimators=100, subsample=0.4; total time=   0.3s\n",
      "[CV] END colsample_bylevel=0.8000000000000003, colsample_bytree=0.3, gamma=0.6000000000000001, learning_rate=0.1, max_depth=3, n_estimators=100, subsample=0.4; total time=   0.3s\n",
      "[CV] END colsample_bylevel=0.8000000000000003, colsample_bytree=0.3, gamma=0.6000000000000001, learning_rate=0.1, max_depth=3, n_estimators=100, subsample=0.4; total time=   0.3s\n",
      "[CV] END colsample_bylevel=0.8000000000000003, colsample_bytree=0.3, gamma=0.6000000000000001, learning_rate=0.1, max_depth=3, n_estimators=100, subsample=0.4; total time=   0.3s\n",
      "[CV] END colsample_bylevel=0.8000000000000003, colsample_bytree=0.3, gamma=0.6000000000000001, learning_rate=0.1, max_depth=3, n_estimators=100, subsample=0.4; total time=   0.3s\n",
      "[CV] END colsample_bylevel=0.4, colsample_bytree=0.9000000000000001, gamma=0.30000000000000004, learning_rate=0.2, max_depth=9, n_estimators=300, subsample=0.6; total time=   1.8s\n",
      "[CV] END colsample_bylevel=0.4, colsample_bytree=0.9000000000000001, gamma=0.30000000000000004, learning_rate=0.2, max_depth=9, n_estimators=300, subsample=0.6; total time=   4.6s\n",
      "[CV] END colsample_bylevel=0.4, colsample_bytree=0.9000000000000001, gamma=0.30000000000000004, learning_rate=0.2, max_depth=9, n_estimators=300, subsample=0.6; total time=   4.5s\n",
      "[CV] END colsample_bylevel=0.4, colsample_bytree=0.9000000000000001, gamma=0.30000000000000004, learning_rate=0.2, max_depth=9, n_estimators=300, subsample=0.6; total time=   4.6s\n",
      "[CV] END colsample_bylevel=0.4, colsample_bytree=0.9000000000000001, gamma=0.30000000000000004, learning_rate=0.2, max_depth=9, n_estimators=300, subsample=0.6; total time=   4.5s\n",
      "[CV] END colsample_bylevel=0.3, colsample_bytree=0.4, gamma=0.30000000000000004, learning_rate=0.3, max_depth=11, n_estimators=100, subsample=0.6; total time=   0.9s\n",
      "[CV] END colsample_bylevel=0.3, colsample_bytree=0.4, gamma=0.30000000000000004, learning_rate=0.3, max_depth=11, n_estimators=100, subsample=0.6; total time=   1.1s\n",
      "[CV] END colsample_bylevel=0.3, colsample_bytree=0.4, gamma=0.30000000000000004, learning_rate=0.3, max_depth=11, n_estimators=100, subsample=0.6; total time=   1.1s\n",
      "[CV] END colsample_bylevel=0.3, colsample_bytree=0.4, gamma=0.30000000000000004, learning_rate=0.3, max_depth=11, n_estimators=100, subsample=0.6; total time=   1.1s\n",
      "[CV] END colsample_bylevel=0.3, colsample_bytree=0.4, gamma=0.30000000000000004, learning_rate=0.3, max_depth=11, n_estimators=100, subsample=0.6; total time=   1.1s\n",
      "[CV] END colsample_bylevel=0.7000000000000002, colsample_bytree=0.5, gamma=0.2, learning_rate=0.5, max_depth=10, n_estimators=500, subsample=0.8999999999999999; total time=   1.5s\n",
      "[CV] END colsample_bylevel=0.7000000000000002, colsample_bytree=0.5, gamma=0.2, learning_rate=0.5, max_depth=10, n_estimators=500, subsample=0.8999999999999999; total time=   3.2s\n",
      "[CV] END colsample_bylevel=0.7000000000000002, colsample_bytree=0.5, gamma=0.2, learning_rate=0.5, max_depth=10, n_estimators=500, subsample=0.8999999999999999; total time=   3.0s\n",
      "[CV] END colsample_bylevel=0.7000000000000002, colsample_bytree=0.5, gamma=0.2, learning_rate=0.5, max_depth=10, n_estimators=500, subsample=0.8999999999999999; total time=   3.1s\n",
      "[CV] END colsample_bylevel=0.7000000000000002, colsample_bytree=0.5, gamma=0.2, learning_rate=0.5, max_depth=10, n_estimators=500, subsample=0.8999999999999999; total time=   3.1s\n",
      "[CV] END colsample_bylevel=0.4, colsample_bytree=0.6000000000000001, gamma=0.0, learning_rate=0.2, max_depth=3, n_estimators=300, subsample=0.7; total time=   0.9s\n",
      "[CV] END colsample_bylevel=0.4, colsample_bytree=0.6000000000000001, gamma=0.0, learning_rate=0.2, max_depth=3, n_estimators=300, subsample=0.7; total time=   0.8s\n",
      "[CV] END colsample_bylevel=0.4, colsample_bytree=0.6000000000000001, gamma=0.0, learning_rate=0.2, max_depth=3, n_estimators=300, subsample=0.7; total time=   0.8s\n",
      "[CV] END colsample_bylevel=0.4, colsample_bytree=0.6000000000000001, gamma=0.0, learning_rate=0.2, max_depth=3, n_estimators=300, subsample=0.7; total time=   0.8s\n",
      "[CV] END colsample_bylevel=0.4, colsample_bytree=0.6000000000000001, gamma=0.0, learning_rate=0.2, max_depth=3, n_estimators=300, subsample=0.7; total time=   0.8s\n",
      "CPU times: user 13min 36s, sys: 5.69 s, total: 13min 42s\n",
      "Wall time: 13min 2s\n"
     ]
    },
    {
     "data": {
      "text/plain": [
       "RandomizedSearchCV(cv=5,\n",
       "                   estimator=XGBClassifier(base_score=None, booster=None,\n",
       "                                           colsample_bylevel=None,\n",
       "                                           colsample_bynode=None,\n",
       "                                           colsample_bytree=None,\n",
       "                                           enable_categorical=False,\n",
       "                                           eval_metric='aucpr', gamma=None,\n",
       "                                           gpu_id=None, importance_type=None,\n",
       "                                           interaction_constraints=None,\n",
       "                                           learning_rate=None,\n",
       "                                           max_delta_step=None, max_depth=None,\n",
       "                                           min_child_weight=None, missing=nan,...\n",
       "                   param_distributions={'colsample_bylevel': array([0.3, 0.4, 0.5, 0.6, 0.7, 0.8, 0.9]),\n",
       "                                        'colsample_bytree': array([0.3, 0.4, 0.5, 0.6, 0.7, 0.8, 0.9]),\n",
       "                                        'gamma': array([0. , 0.1, 0.2, 0.3, 0.4, 0.5, 0.6]),\n",
       "                                        'learning_rate': [0.01, 0.1, 0.2, 0.3,\n",
       "                                                          0.5],\n",
       "                                        'max_depth': [3, 5, 6, 8, 9, 10, 11],\n",
       "                                        'n_estimators': array([100, 200, 300, 400, 500]),\n",
       "                                        'subsample': array([0.4, 0.5, 0.6, 0.7, 0.8, 0.9])},\n",
       "                   scoring='average_precision', verbose=2)"
      ]
     },
     "execution_count": 11,
     "metadata": {},
     "output_type": "execute_result"
    }
   ],
   "source": [
    "%%time\n",
    "\n",
    "# Run XGBoost grid search\n",
    "xgb_grid.fit(X, y)"
   ]
  },
  {
   "cell_type": "code",
   "execution_count": 12,
   "metadata": {
    "colab": {
     "base_uri": "https://localhost:8080/"
    },
    "id": "1kxtIDiM36NM",
    "outputId": "be629131-3264-4a13-a8a6-b3bae3beb42c"
   },
   "outputs": [
    {
     "data": {
      "text/plain": [
       "{'colsample_bylevel': 0.8000000000000003,\n",
       " 'colsample_bytree': 0.7000000000000002,\n",
       " 'gamma': 0.30000000000000004,\n",
       " 'learning_rate': 0.1,\n",
       " 'max_depth': 10,\n",
       " 'n_estimators': 200,\n",
       " 'subsample': 0.8999999999999999}"
      ]
     },
     "execution_count": 12,
     "metadata": {},
     "output_type": "execute_result"
    }
   ],
   "source": [
    "# Best parameters from RandomizedSearchCV\n",
    "xgb_grid.best_params_"
   ]
  },
  {
   "cell_type": "code",
   "execution_count": 13,
   "metadata": {
    "id": "_ca_Ws_W36Ca"
   },
   "outputs": [],
   "source": [
    "# Get best XGBoost model (based on best parameters) and predict on test set\n",
    "xgb_best = xgb_grid.best_estimator_"
   ]
  },
  {
   "cell_type": "markdown",
   "metadata": {
    "id": "8rR4s8vd9VRC"
   },
   "source": [
    "### Predict on Test Set"
   ]
  },
  {
   "cell_type": "code",
   "execution_count": 14,
   "metadata": {
    "colab": {
     "base_uri": "https://localhost:8080/"
    },
    "id": "ReWPZ-W7TFI3",
    "outputId": "970ade7b-1212-4a9b-d6c9-6cd1ef9ce068"
   },
   "outputs": [
    {
     "data": {
      "text/plain": [
       "array([[0.94811124, 0.05188874],\n",
       "       [0.98284775, 0.01715226],\n",
       "       [0.9962515 , 0.00374849],\n",
       "       ...,\n",
       "       [0.9828856 , 0.01711441],\n",
       "       [0.9867477 , 0.01325229],\n",
       "       [0.95593274, 0.04406728]], dtype=float32)"
      ]
     },
     "execution_count": 14,
     "metadata": {},
     "output_type": "execute_result"
    }
   ],
   "source": [
    "# Set X and y datasets\n",
    "X_test = test_df.drop(columns=target)\n",
    "y_test = test_df[target]\n",
    "\n",
    "# Get predictions from best model\n",
    "preds_proba = xgb_best.predict_proba(X_test)\n",
    "preds_proba"
   ]
  },
  {
   "cell_type": "code",
   "execution_count": 15,
   "metadata": {
    "colab": {
     "base_uri": "https://localhost:8080/"
    },
    "id": "I1HOQhgjn9mf",
    "outputId": "ceb99561-5dc4-47ec-e348-28a2a9015d89"
   },
   "outputs": [
    {
     "data": {
      "text/plain": [
       "array([0.05188874, 0.01715226, 0.00374849, ..., 0.01711441, 0.01325229,\n",
       "       0.04406728], dtype=float32)"
      ]
     },
     "execution_count": 15,
     "metadata": {},
     "output_type": "execute_result"
    }
   ],
   "source": [
    "y_preds_proba = preds_proba[:,1]\n",
    "y_preds_proba"
   ]
  },
  {
   "cell_type": "code",
   "execution_count": 16,
   "metadata": {
    "colab": {
     "base_uri": "https://localhost:8080/"
    },
    "id": "W6sT-vLeoqB6",
    "outputId": "e3a7d158-0662-4e43-8a4e-9284f0fea8a7"
   },
   "outputs": [
    {
     "data": {
      "text/plain": [
       "array([0, 0, 0, ..., 0, 0, 0])"
      ]
     },
     "execution_count": 16,
     "metadata": {},
     "output_type": "execute_result"
    }
   ],
   "source": [
    "preds = xgb_best.predict(X_test)\n",
    "preds"
   ]
  },
  {
   "cell_type": "markdown",
   "metadata": {
    "id": "sEg5AWDIh-oj"
   },
   "source": [
    "### Review performance metrics"
   ]
  },
  {
   "cell_type": "code",
   "execution_count": 17,
   "metadata": {
    "id": "_vZmj6c5h-oj"
   },
   "outputs": [],
   "source": [
    "# Define function to consolidate and display performance metrics\n",
    "def gen_performance_metrics(y_true, y_preds, y_preds_proba, model_name, round_to=3):\n",
    "    accuracy = round(metrics.accuracy_score(y_true, y_preds), round_to)\n",
    "    f1_score = round(metrics.f1_score(y_true, y_preds), round_to)\n",
    "    roc_auc = round(metrics.roc_auc_score(y_true, y_preds_proba), round_to)\n",
    "    avg_precision = round(metrics.average_precision_score(y_true, y_preds_proba), round_to)\n",
    "\n",
    "    df = pd.DataFrame([[model_name, accuracy, f1_score, roc_auc, avg_precision]], \n",
    "                        columns=['Model', 'Accuracy', 'F1 Score', 'ROC AUC Score', 'Average Precision'])\n",
    "    \n",
    "    display(df)\n",
    "    display(metrics.ConfusionMatrixDisplay.from_predictions(y_true, y_preds))"
   ]
  },
  {
   "cell_type": "code",
   "execution_count": 18,
   "metadata": {
    "colab": {
     "base_uri": "https://localhost:8080/",
     "height": 360
    },
    "id": "OjcC5drhh-ok",
    "outputId": "038a9ad0-ab2d-42f4-d59c-1c819e993e97"
   },
   "outputs": [
    {
     "data": {
      "text/html": [
       "<div>\n",
       "<style scoped>\n",
       "    .dataframe tbody tr th:only-of-type {\n",
       "        vertical-align: middle;\n",
       "    }\n",
       "\n",
       "    .dataframe tbody tr th {\n",
       "        vertical-align: top;\n",
       "    }\n",
       "\n",
       "    .dataframe thead th {\n",
       "        text-align: right;\n",
       "    }\n",
       "</style>\n",
       "<table border=\"1\" class=\"dataframe\">\n",
       "  <thead>\n",
       "    <tr style=\"text-align: right;\">\n",
       "      <th></th>\n",
       "      <th>Model</th>\n",
       "      <th>Accuracy</th>\n",
       "      <th>F1 Score</th>\n",
       "      <th>ROC AUC Score</th>\n",
       "      <th>Average Precision</th>\n",
       "    </tr>\n",
       "  </thead>\n",
       "  <tbody>\n",
       "    <tr>\n",
       "      <th>0</th>\n",
       "      <td>XGBoost + RandomizedSearchCV</td>\n",
       "      <td>0.995</td>\n",
       "      <td>0.716</td>\n",
       "      <td>0.915</td>\n",
       "      <td>0.776</td>\n",
       "    </tr>\n",
       "  </tbody>\n",
       "</table>\n",
       "</div>"
      ],
      "text/plain": [
       "                          Model  Accuracy  F1 Score  ROC AUC Score  \\\n",
       "0  XGBoost + RandomizedSearchCV     0.995     0.716          0.915   \n",
       "\n",
       "   Average Precision  \n",
       "0              0.776  "
      ]
     },
     "metadata": {},
     "output_type": "display_data"
    },
    {
     "data": {
      "text/plain": [
       "<sklearn.metrics._plot.confusion_matrix.ConfusionMatrixDisplay at 0x7f6290adc690>"
      ]
     },
     "metadata": {},
     "output_type": "display_data"
    },
    {
     "data": {
      "image/png": "[encoded data removed]",
      "text/plain": [
       "<Figure size 432x288 with 2 Axes>"
      ]
     },
     "metadata": {
      "needs_background": "light"
     },
     "output_type": "display_data"
    }
   ],
   "source": [
    "# Show performance assessment\n",
    "gen_performance_metrics(y_test, preds, y_preds_proba, 'XGBoost + RandomizedSearchCV')"
   ]
  },
  {
   "cell_type": "code",
   "execution_count": null,
   "metadata": {
    "id": "XTbSEZLqTtV7"
   },
   "outputs": [],
   "source": [
    "# Save best model as JSON file\n",
    "model_filename = 'xgb_baseline.json'\n",
    "xgb_best.save_model(f'models/{model_filename}')\n",
    "\n",
    "# Load model\n",
    "# xgb_best = XGBClassifier()\n",
    "# xgb_best.load_model(f'models/{model_filename}')"
   ]
  }
 ],
 "metadata": {
  "accelerator": "GPU",
  "colab": {
   "collapsed_sections": [],
   "name": "02_XGBoost_RandomizedSearch.ipynb",
   "provenance": []
  },
  "kernelspec": {
   "display_name": "Python 3",
   "language": "python",
   "name": "python3"
  },
  "language_info": {
   "codemirror_mode": {
    "name": "ipython",
    "version": 3
   },
   "file_extension": ".py",
   "mimetype": "text/x-python",
   "name": "python",
   "nbconvert_exporter": "python",
   "pygments_lexer": "ipython3",
   "version": "3.8.3"
  }
 },
 "nbformat": 4,
 "nbformat_minor": 1
}
