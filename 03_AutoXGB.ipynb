{
 "cells": [
  {
   "cell_type": "markdown",
   "metadata": {
    "id": "9hM6lgcUnkAR"
   },
   "source": [
    "# Credit Card Fraud Detection with AutoXGB\n",
    "\n",
    "## Part 3 - Running AutoXGB\n",
    "___\n",
    "Reference: https://github.com/abhishekkrthakur/autoxgb"
   ]
  },
  {
   "cell_type": "markdown",
   "metadata": {
    "id": "dXHyUcjWnkAW"
   },
   "source": [
    "### Install AutoXGB"
   ]
  },
  {
   "cell_type": "code",
   "execution_count": null,
   "metadata": {},
   "outputs": [],
   "source": [
    "# !pip install autoxgb"
   ]
  },
  {
   "cell_type": "markdown",
   "metadata": {
    "id": "R5l1FTl8nkAY"
   },
   "source": [
    "### Import dependencies and data"
   ]
  },
  {
   "cell_type": "code",
   "execution_count": 1,
   "metadata": {
    "id": "kFMwklZbnkAY"
   },
   "outputs": [],
   "source": [
    "import numpy as np\n",
    "import pandas as pd\n",
    "import matplotlib.pyplot as plt\n",
    "\n",
    "from autoxgb import AutoXGB\n",
    "import sklearn.metrics as metrics\n",
    "\n",
    "import warnings\n",
    "warnings.filterwarnings(\"ignore\")\n",
    "\n",
    "from IPython.display import display\n",
    "pd.set_option('display.max_columns', None)"
   ]
  },
  {
   "cell_type": "markdown",
   "metadata": {},
   "source": [
    "### Run AutoXGB Training and Prediction"
   ]
  },
  {
   "cell_type": "code",
   "execution_count": 2,
   "metadata": {
    "colab": {
     "base_uri": "https://localhost:8080/"
    },
    "id": "zXAZLNAonkAY",
    "outputId": "c393bac6-b870-4a3a-d48d-e6f57ccfccce"
   },
   "outputs": [
    {
     "name": "stderr",
     "output_type": "stream",
     "text": [
      "2021-11-21 14:42:33.998 | INFO     | autoxgb.autoxgb:__post_init__:42 - Output directory: output\n",
      "2021-11-21 14:42:34.002 | INFO     | autoxgb.autoxgb:_process_data:149 - Reading training data\n",
      "2021-11-21 14:42:34.431 | INFO     | autoxgb.utils:reduce_memory_usage:50 - Mem. usage decreased to 5.67 Mb (77.3% reduction)\n",
      "2021-11-21 14:42:34.443 | INFO     | autoxgb.autoxgb:_determine_problem_type:140 - Problem type: binary_classification\n",
      "2021-11-21 14:42:34.572 | INFO     | autoxgb.utils:reduce_memory_usage:50 - Mem. usage decreased to 1.86 Mb (77.3% reduction)\n",
      "2021-11-21 14:42:34.576 | INFO     | autoxgb.autoxgb:_create_folds:58 - Creating folds\n",
      "2021-11-21 14:42:34.634 | INFO     | autoxgb.autoxgb:_process_data:170 - Encoding target(s)\n",
      "2021-11-21 14:42:34.647 | INFO     | autoxgb.autoxgb:_process_data:195 - Found 0 categorical features.\n",
      "2021-11-21 14:42:35.063 | INFO     | autoxgb.autoxgb:_process_data:236 - Model config: train_filename='data/processed/train.csv' test_filename='data/processed/test.csv' idx='id' targets=['TX_FRAUD'] problem_type=<ProblemType.binary_classification: 1> output='output' features=['TX_AMOUNT', 'TX_DURING_WEEKEND', 'TX_DURING_NIGHT', 'CUSTOMER_ID_NB_TX_1DAY_WINDOW', 'CUSTOMER_ID_AVG_AMOUNT_1DAY_WINDOW', 'CUSTOMER_ID_NB_TX_7DAY_WINDOW', 'CUSTOMER_ID_AVG_AMOUNT_7DAY_WINDOW', 'CUSTOMER_ID_NB_TX_30DAY_WINDOW', 'CUSTOMER_ID_AVG_AMOUNT_30DAY_WINDOW', 'TERMINAL_ID_NB_TX_1DAY_WINDOW', 'TERMINAL_ID_RISK_1DAY_WINDOW', 'TERMINAL_ID_NB_TX_7DAY_WINDOW', 'TERMINAL_ID_RISK_7DAY_WINDOW', 'TERMINAL_ID_NB_TX_30DAY_WINDOW', 'TERMINAL_ID_RISK_30DAY_WINDOW'] num_folds=5 use_gpu=True seed=42 categorical_features=[] num_trials=100 time_limit=400 fast=False\n",
      "2021-11-21 14:42:35.065 | INFO     | autoxgb.autoxgb:_process_data:237 - Saving model config\n",
      "2021-11-21 14:42:35.075 | INFO     | autoxgb.autoxgb:_process_data:241 - Saving encoders\n",
      "\u001b[32m[I 2021-11-21 14:42:35,411]\u001b[0m A new study created in RDB with name: autoxgb\u001b[0m\n",
      "2021-11-21 14:44:37.266 | INFO     | autoxgb.utils:optimize:192 - Metrics: {'auc': 0.9842759641683789, 'logloss': 0.1219032110759078, 'f1': 0.9389140604893498, 'accuracy': 0.9609530080230206, 'precision': 0.9810464699181697, 'recall': 0.9002560538444657}\n",
      "\u001b[32m[I 2021-11-21 14:44:37,321]\u001b[0m Trial 0 finished with value: 0.1219032110759078 and parameters: {'learning_rate': 0.012264737074664817, 'reg_lambda': 1.3005615980582856e-07, 'reg_alpha': 8.96428888652296, 'subsample': 0.4569604708768248, 'colsample_bytree': 0.9022709234552458, 'max_depth': 1, 'early_stopping_rounds': 402, 'n_estimators': 7000}. Best is trial 0 with value: 0.1219032110759078.\u001b[0m\n",
      "2021-11-21 14:45:47.725 | INFO     | autoxgb.utils:optimize:192 - Metrics: {'auc': 0.9933696922495739, 'logloss': 0.04172089188494159, 'f1': 0.9859014999623052, 'accuracy': 0.9907040261418782, 'precision': 0.9968893012639655, 'recall': 0.9751554612627114}\n",
      "\u001b[32m[I 2021-11-21 14:45:47,767]\u001b[0m Trial 1 finished with value: 0.04172089188494159 and parameters: {'learning_rate': 0.08618663237334738, 'reg_lambda': 0.4423302381292265, 'reg_alpha': 0.14694208789137683, 'subsample': 0.6395997345937671, 'colsample_bytree': 0.5422164735959002, 'max_depth': 9, 'early_stopping_rounds': 327, 'n_estimators': 20000}. Best is trial 1 with value: 0.04172089188494159.\u001b[0m\n",
      "2021-11-21 14:46:35.757 | INFO     | autoxgb.utils:optimize:192 - Metrics: {'auc': 0.9929163466473072, 'logloss': 0.04218764617437465, 'f1': 0.9859304785852855, 'accuracy': 0.9907235350062186, 'precision': 0.9969788743140814, 'recall': 0.9751261979662008}\n",
      "\u001b[32m[I 2021-11-21 14:46:35,799]\u001b[0m Trial 2 finished with value: 0.04218764617437465 and parameters: {'learning_rate': 0.08606303068260375, 'reg_lambda': 0.00012451430379850382, 'reg_alpha': 6.657107343870867e-07, 'subsample': 0.7251126763698559, 'colsample_bytree': 0.6853379239256028, 'max_depth': 5, 'early_stopping_rounds': 496, 'n_estimators': 20000}. Best is trial 1 with value: 0.04172089188494159.\u001b[0m\n",
      "2021-11-21 14:48:00.789 | INFO     | autoxgb.utils:optimize:192 - Metrics: {'auc': 0.9934067252306888, 'logloss': 0.04236788768602902, 'f1': 0.985670710585554, 'accuracy': 0.9905528324432413, 'precision': 0.9967541989031332, 'recall': 0.9748335650010974}\n",
      "\u001b[32m[I 2021-11-21 14:48:00,832]\u001b[0m Trial 3 finished with value: 0.04236788768602902 and parameters: {'learning_rate': 0.09983464151236907, 'reg_lambda': 0.5575469906480359, 'reg_alpha': 0.9663030936683937, 'subsample': 0.4279934956911593, 'colsample_bytree': 0.5557836433418946, 'max_depth': 9, 'early_stopping_rounds': 457, 'n_estimators': 20000}. Best is trial 1 with value: 0.04172089188494159.\u001b[0m\n",
      "2021-11-21 14:49:09.009 | INFO     | autoxgb.utils:optimize:192 - Metrics: {'auc': 0.9930866917773182, 'logloss': 0.0421622711038057, 'f1': 0.9859239566996664, 'accuracy': 0.9907186577901334, 'precision': 0.9968896228140155, 'recall': 0.9751993562074768}\n",
      "\u001b[32m[I 2021-11-21 14:49:09,049]\u001b[0m Trial 4 finished with value: 0.0421622711038057 and parameters: {'learning_rate': 0.043371729061038714, 'reg_lambda': 6.485048511517125e-07, 'reg_alpha': 6.48802221803759e-08, 'subsample': 0.48961371986077784, 'colsample_bytree': 0.8230073852275619, 'max_depth': 5, 'early_stopping_rounds': 404, 'n_estimators': 20000}. Best is trial 1 with value: 0.04172089188494159.\u001b[0m\n",
      "2021-11-21 14:52:47.256 | INFO     | autoxgb.utils:optimize:192 - Metrics: {'auc': 0.9934958614480853, 'logloss': 0.041210058053503584, 'f1': 0.9860321666326698, 'accuracy': 0.9907918160314093, 'precision': 0.9972170678036282, 'recall': 0.9750969346696905}\n",
      "\u001b[32m[I 2021-11-21 14:52:47,300]\u001b[0m Trial 5 finished with value: 0.041210058053503584 and parameters: {'learning_rate': 0.017869035350841906, 'reg_lambda': 3.450183947970637, 'reg_alpha': 4.2710056132567043e-07, 'subsample': 0.9100828169172356, 'colsample_bytree': 0.5399439480578639, 'max_depth': 8, 'early_stopping_rounds': 278, 'n_estimators': 15000}. Best is trial 5 with value: 0.041210058053503584.\u001b[0m\n",
      "2021-11-21 14:52:47.313 | INFO     | autoxgb.autoxgb:train:248 - Training complete\n",
      "2021-11-21 14:52:47.315 | INFO     | autoxgb.autoxgb:predict:252 - Creating OOF and test predictions\n",
      "2021-11-21 14:52:47.320 | INFO     | autoxgb.utils:predict_model:238 - Training and predicting for fold 0\n",
      "2021-11-21 14:53:31.933 | INFO     | autoxgb.utils:predict_model:333 - Fold 0 done!\n",
      "2021-11-21 14:53:31.935 | INFO     | autoxgb.utils:predict_model:238 - Training and predicting for fold 1\n",
      "2021-11-21 14:54:20.496 | INFO     | autoxgb.utils:predict_model:333 - Fold 1 done!\n",
      "2021-11-21 14:54:20.498 | INFO     | autoxgb.utils:predict_model:238 - Training and predicting for fold 2\n",
      "2021-11-21 14:55:01.480 | INFO     | autoxgb.utils:predict_model:333 - Fold 2 done!\n",
      "2021-11-21 14:55:01.483 | INFO     | autoxgb.utils:predict_model:238 - Training and predicting for fold 3\n",
      "2021-11-21 14:55:46.280 | INFO     | autoxgb.utils:predict_model:333 - Fold 3 done!\n",
      "2021-11-21 14:55:46.282 | INFO     | autoxgb.utils:predict_model:238 - Training and predicting for fold 4\n",
      "2021-11-21 14:56:30.365 | INFO     | autoxgb.utils:predict_model:333 - Fold 4 done!\n",
      "2021-11-21 14:56:30.366 | INFO     | autoxgb.utils:predict_model:336 - Metrics: {'auc': 0.9934958614480853, 'logloss': 0.041210058053503584, 'f1': 0.9860321666326698, 'accuracy': 0.9907918160314093, 'precision': 0.9972170678036282, 'recall': 0.9750969346696905}\n"
     ]
    }
   ],
   "source": [
    "# Define required parameters\n",
    "train_filename = \"data/processed/train.csv\" # Path to training dataset\n",
    "output = \"output\" # Name of output folder\n",
    "\n",
    "# Set optional parameters\n",
    "test_filename = \"data/processed/test.csv\"\n",
    "task = \"classification\"\n",
    "targets = [\"TX_FRAUD\"]\n",
    "use_gpu = True\n",
    "num_folds = 5\n",
    "seed = 42\n",
    "num_trials = 100\n",
    "time_limit = 400\n",
    "fast = False\n",
    "\n",
    "# Start AutoXGB training\n",
    "axgb = AutoXGB(\n",
    "            train_filename=train_filename,\n",
    "            output=output,\n",
    "            test_filename=test_filename,\n",
    "            task=task,\n",
    "            targets=targets,\n",
    "            use_gpu=use_gpu,\n",
    "            num_folds=num_folds,\n",
    "            seed=seed,\n",
    "            num_trials=num_trials,\n",
    "            time_limit=time_limit,\n",
    "            fast=fast,\n",
    ")\n",
    "\n",
    "axgb.train()"
   ]
  },
  {
   "cell_type": "markdown",
   "metadata": {},
   "source": [
    "Total time taken to train and predict: 14 mins"
   ]
  },
  {
   "cell_type": "markdown",
   "metadata": {},
   "source": [
    "### Setup test dataset"
   ]
  },
  {
   "cell_type": "code",
   "execution_count": 3,
   "metadata": {
    "id": "tmmFJvpNnkAa"
   },
   "outputs": [],
   "source": [
    "# Import dataset and define target variable\n",
    "test_df = pd.read_csv('data/processed/test.csv')\n",
    "target = 'TX_FRAUD'\n",
    "\n",
    "# Get y true labels\n",
    "y_test = test_df[target]"
   ]
  },
  {
   "cell_type": "markdown",
   "metadata": {},
   "source": [
    "### Get predictions on test set"
   ]
  },
  {
   "cell_type": "code",
   "execution_count": 4,
   "metadata": {
    "colab": {
     "base_uri": "https://localhost:8080/",
     "height": 206
    },
    "id": "3VlZlfcrnkAb",
    "outputId": "5b76770b-4313-43ac-a905-d7c1e6db91d3"
   },
   "outputs": [
    {
     "data": {
      "text/html": [
       "<div>\n",
       "<style scoped>\n",
       "    .dataframe tbody tr th:only-of-type {\n",
       "        vertical-align: middle;\n",
       "    }\n",
       "\n",
       "    .dataframe tbody tr th {\n",
       "        vertical-align: top;\n",
       "    }\n",
       "\n",
       "    .dataframe thead th {\n",
       "        text-align: right;\n",
       "    }\n",
       "</style>\n",
       "<table border=\"1\" class=\"dataframe\">\n",
       "  <thead>\n",
       "    <tr style=\"text-align: right;\">\n",
       "      <th></th>\n",
       "      <th>id</th>\n",
       "      <th>0</th>\n",
       "      <th>1</th>\n",
       "    </tr>\n",
       "  </thead>\n",
       "  <tbody>\n",
       "    <tr>\n",
       "      <th>0</th>\n",
       "      <td>0</td>\n",
       "      <td>0.950455</td>\n",
       "      <td>0.049545</td>\n",
       "    </tr>\n",
       "    <tr>\n",
       "      <th>1</th>\n",
       "      <td>1</td>\n",
       "      <td>0.997364</td>\n",
       "      <td>0.002636</td>\n",
       "    </tr>\n",
       "    <tr>\n",
       "      <th>2</th>\n",
       "      <td>2</td>\n",
       "      <td>0.995619</td>\n",
       "      <td>0.004381</td>\n",
       "    </tr>\n",
       "    <tr>\n",
       "      <th>3</th>\n",
       "      <td>3</td>\n",
       "      <td>0.976451</td>\n",
       "      <td>0.023549</td>\n",
       "    </tr>\n",
       "    <tr>\n",
       "      <th>4</th>\n",
       "      <td>4</td>\n",
       "      <td>0.994208</td>\n",
       "      <td>0.005792</td>\n",
       "    </tr>\n",
       "  </tbody>\n",
       "</table>\n",
       "</div>"
      ],
      "text/plain": [
       "   id         0         1\n",
       "0   0  0.950455  0.049545\n",
       "1   1  0.997364  0.002636\n",
       "2   2  0.995619  0.004381\n",
       "3   3  0.976451  0.023549\n",
       "4   4  0.994208  0.005792"
      ]
     },
     "execution_count": 4,
     "metadata": {},
     "output_type": "execute_result"
    }
   ],
   "source": [
    "# View probability predictions from AutoXGB\n",
    "test_predictions = pd.read_csv('output/test_predictions.csv')\n",
    "test_predictions.head()"
   ]
  },
  {
   "cell_type": "code",
   "execution_count": 5,
   "metadata": {
    "colab": {
     "base_uri": "https://localhost:8080/",
     "height": 206
    },
    "id": "E4IzCOhe4DTu",
    "outputId": "3305e008-54f3-4e96-959c-555698568a7d"
   },
   "outputs": [
    {
     "data": {
      "text/html": [
       "<div>\n",
       "<style scoped>\n",
       "    .dataframe tbody tr th:only-of-type {\n",
       "        vertical-align: middle;\n",
       "    }\n",
       "\n",
       "    .dataframe tbody tr th {\n",
       "        vertical-align: top;\n",
       "    }\n",
       "\n",
       "    .dataframe thead th {\n",
       "        text-align: right;\n",
       "    }\n",
       "</style>\n",
       "<table border=\"1\" class=\"dataframe\">\n",
       "  <thead>\n",
       "    <tr style=\"text-align: right;\">\n",
       "      <th></th>\n",
       "      <th>label</th>\n",
       "    </tr>\n",
       "  </thead>\n",
       "  <tbody>\n",
       "    <tr>\n",
       "      <th>0</th>\n",
       "      <td>0</td>\n",
       "    </tr>\n",
       "    <tr>\n",
       "      <th>1</th>\n",
       "      <td>0</td>\n",
       "    </tr>\n",
       "    <tr>\n",
       "      <th>2</th>\n",
       "      <td>0</td>\n",
       "    </tr>\n",
       "    <tr>\n",
       "      <th>3</th>\n",
       "      <td>0</td>\n",
       "    </tr>\n",
       "    <tr>\n",
       "      <th>4</th>\n",
       "      <td>0</td>\n",
       "    </tr>\n",
       "  </tbody>\n",
       "</table>\n",
       "</div>"
      ],
      "text/plain": [
       "   label\n",
       "0      0\n",
       "1      0\n",
       "2      0\n",
       "3      0\n",
       "4      0"
      ]
     },
     "execution_count": 5,
     "metadata": {},
     "output_type": "execute_result"
    }
   ],
   "source": [
    "# Set threshold (default = 0.5)\n",
    "threshold = 0.5\n",
    "\n",
    "# Generate predicted labels\n",
    "test_predictions['label'] = test_predictions['1'].apply(lambda x: 0 if x < threshold else 1)\n",
    "preds = test_predictions.iloc[: , 3:] # Drop unnecessary columns\n",
    "preds.head()"
   ]
  },
  {
   "cell_type": "markdown",
   "metadata": {},
   "source": [
    "### Review performance metrics"
   ]
  },
  {
   "cell_type": "code",
   "execution_count": 6,
   "metadata": {},
   "outputs": [],
   "source": [
    "# Define function to consolidate and display performance metrics\n",
    "def gen_performance_metrics(y_true, y_preds, model_name, round_to=3):\n",
    "    accuracy = round(metrics.accuracy_score(y_true, y_preds), round_to)\n",
    "    f1_score = round(metrics.f1_score(y_true, y_preds), round_to)\n",
    "    precision = round(metrics.precision_score(y_true, y_preds), round_to)\n",
    "    avg_precision = round(metrics.average_precision_score(y_true, y_preds), round_to)\n",
    "    recall = round(metrics.recall_score(y_true, y_preds), round_to)\n",
    "\n",
    "    df = pd.DataFrame([[model_name, accuracy, f1_score, precision, avg_precision, recall]], \n",
    "                        columns=['Model', 'Accuracy', 'F1 Score', 'Precision', 'Average Precision', 'Recall'])\n",
    "    \n",
    "    display(df)\n",
    "    display(metrics.ConfusionMatrixDisplay.from_predictions(y_true, y_preds))"
   ]
  },
  {
   "cell_type": "code",
   "execution_count": 7,
   "metadata": {},
   "outputs": [
    {
     "data": {
      "text/html": [
       "<div>\n",
       "<style scoped>\n",
       "    .dataframe tbody tr th:only-of-type {\n",
       "        vertical-align: middle;\n",
       "    }\n",
       "\n",
       "    .dataframe tbody tr th {\n",
       "        vertical-align: top;\n",
       "    }\n",
       "\n",
       "    .dataframe thead th {\n",
       "        text-align: right;\n",
       "    }\n",
       "</style>\n",
       "<table border=\"1\" class=\"dataframe\">\n",
       "  <thead>\n",
       "    <tr style=\"text-align: right;\">\n",
       "      <th></th>\n",
       "      <th>Model</th>\n",
       "      <th>Accuracy</th>\n",
       "      <th>F1 Score</th>\n",
       "      <th>Precision</th>\n",
       "      <th>Average Precision</th>\n",
       "      <th>Recall</th>\n",
       "    </tr>\n",
       "  </thead>\n",
       "  <tbody>\n",
       "    <tr>\n",
       "      <th>0</th>\n",
       "      <td>AutoXGB</td>\n",
       "      <td>0.996</td>\n",
       "      <td>0.76</td>\n",
       "      <td>0.845</td>\n",
       "      <td>0.586</td>\n",
       "      <td>0.69</td>\n",
       "    </tr>\n",
       "  </tbody>\n",
       "</table>\n",
       "</div>"
      ],
      "text/plain": [
       "     Model  Accuracy  F1 Score  Precision  Average Precision  Recall\n",
       "0  AutoXGB     0.996      0.76      0.845              0.586    0.69"
      ]
     },
     "metadata": {},
     "output_type": "display_data"
    },
    {
     "data": {
      "text/plain": [
       "<sklearn.metrics._plot.confusion_matrix.ConfusionMatrixDisplay at 0x15ffe2b1940>"
      ]
     },
     "metadata": {},
     "output_type": "display_data"
    },
    {
     "data": {
      "image/png": "[encoded data removed]",
      "text/plain": [
       "<Figure size 432x288 with 2 Axes>"
      ]
     },
     "metadata": {
      "needs_background": "light"
     },
     "output_type": "display_data"
    }
   ],
   "source": [
    "# Show performance assessment\n",
    "gen_performance_metrics(y_test, preds, 'AutoXGB')"
   ]
  }
 ],
 "metadata": {
  "accelerator": "GPU",
  "colab": {
   "collapsed_sections": [],
   "name": "03_AutoXGB.ipynb",
   "provenance": []
  },
  "kernelspec": {
   "display_name": "Python 3",
   "language": "python",
   "name": "python3"
  },
  "language_info": {
   "codemirror_mode": {
    "name": "ipython",
    "version": 3
   },
   "file_extension": ".py",
   "mimetype": "text/x-python",
   "name": "python",
   "nbconvert_exporter": "python",
   "pygments_lexer": "ipython3",
   "version": "3.8.3"
  }
 },
 "nbformat": 4,
 "nbformat_minor": 1
}
