{
 "cells": [
  {
   "cell_type": "markdown",
   "metadata": {
    "id": "9hM6lgcUnkAR"
   },
   "source": [
    "# Credit Card Fraud Detection with AutoXGB\n",
    "\n",
    "## Part 3 - Running AutoXGB\n",
    "___\n",
    "Reference: https://github.com/abhishekkrthakur/autoxgb"
   ]
  },
  {
   "cell_type": "markdown",
   "metadata": {
    "id": "dXHyUcjWnkAW"
   },
   "source": [
    "### Install AutoXGB"
   ]
  },
  {
   "cell_type": "code",
   "execution_count": null,
   "metadata": {
    "colab": {
     "base_uri": "https://localhost:8080/",
     "height": 1000
    },
    "id": "8IAuECIqr1ux",
    "outputId": "8599cadc-b425-4ca4-a8bc-1214b6ff2f74"
   },
   "outputs": [],
   "source": [
    "# !pip install autoxgb"
   ]
  },
  {
   "cell_type": "markdown",
   "metadata": {
    "id": "R5l1FTl8nkAY"
   },
   "source": [
    "### Import dependencies and data"
   ]
  },
  {
   "cell_type": "code",
   "execution_count": 1,
   "metadata": {
    "id": "kFMwklZbnkAY"
   },
   "outputs": [],
   "source": [
    "import numpy as np\n",
    "import pandas as pd\n",
    "import matplotlib.pyplot as plt\n",
    "\n",
    "from autoxgb import AutoXGB\n",
    "import sklearn.metrics as metrics\n",
    "\n",
    "import warnings\n",
    "warnings.filterwarnings(\"ignore\")\n",
    "\n",
    "from IPython.display import display\n",
    "pd.set_option('display.max_columns', None)"
   ]
  },
  {
   "cell_type": "markdown",
   "metadata": {
    "id": "KBvwrUgOr1uz"
   },
   "source": [
    "### Run AutoXGB Training and Prediction"
   ]
  },
  {
   "cell_type": "code",
   "execution_count": 2,
   "metadata": {
    "colab": {
     "base_uri": "https://localhost:8080/"
    },
    "id": "zXAZLNAonkAY",
    "outputId": "7cc1fb70-8afe-47b8-b41c-fb12752419fd"
   },
   "outputs": [
    {
     "name": "stderr",
     "output_type": "stream",
     "text": [
      "2021-11-28 09:41:18.180 | INFO     | autoxgb.autoxgb:__post_init__:42 - Output directory: output\n",
      "2021-11-28 09:41:18.186 | INFO     | autoxgb.autoxgb:_process_data:149 - Reading training data\n",
      "2021-11-28 09:41:18.389 | INFO     | autoxgb.utils:reduce_memory_usage:50 - Mem. usage decreased to 2.28 Mb (77.3% reduction)\n",
      "2021-11-28 09:41:18.397 | INFO     | autoxgb.autoxgb:_determine_problem_type:140 - Problem type: binary_classification\n",
      "2021-11-28 09:41:18.530 | INFO     | autoxgb.utils:reduce_memory_usage:50 - Mem. usage decreased to 1.86 Mb (77.3% reduction)\n",
      "2021-11-28 09:41:18.533 | INFO     | autoxgb.autoxgb:_create_folds:58 - Creating folds\n",
      "2021-11-28 09:41:18.562 | INFO     | autoxgb.autoxgb:_process_data:170 - Encoding target(s)\n",
      "2021-11-28 09:41:18.571 | INFO     | autoxgb.autoxgb:_process_data:195 - Found 0 categorical features.\n",
      "2021-11-28 09:41:18.821 | INFO     | autoxgb.autoxgb:_process_data:236 - Model config: train_filename='data/processed/train.csv' test_filename='data/processed/test.csv' idx='id' targets=['TX_FRAUD'] problem_type=<ProblemType.binary_classification: 1> output='output' features=['TX_AMOUNT', 'TX_DURING_WEEKEND', 'TX_DURING_NIGHT', 'CUSTOMER_ID_NB_TX_1DAY_WINDOW', 'CUSTOMER_ID_NB_TX_7DAY_WINDOW', 'CUSTOMER_ID_NB_TX_30DAY_WINDOW', 'CUSTOMER_ID_AVG_AMOUNT_1DAY_WINDOW', 'CUSTOMER_ID_AVG_AMOUNT_7DAY_WINDOW', 'CUSTOMER_ID_AVG_AMOUNT_30DAY_WINDOW', 'TERMINAL_ID_NB_TX_1DAY_WINDOW', 'TERMINAL_ID_NB_TX_7DAY_WINDOW', 'TERMINAL_ID_NB_TX_30DAY_WINDOW', 'TERMINAL_ID_RISK_1DAY_WINDOW', 'TERMINAL_ID_RISK_7DAY_WINDOW', 'TERMINAL_ID_RISK_30DAY_WINDOW'] num_folds=5 use_gpu=True seed=42 categorical_features=[] num_trials=200 time_limit=400 fast=False\n",
      "2021-11-28 09:41:18.823 | INFO     | autoxgb.autoxgb:_process_data:237 - Saving model config\n",
      "2021-11-28 09:41:18.830 | INFO     | autoxgb.autoxgb:_process_data:241 - Saving encoders\n",
      "\u001b[32m[I 2021-11-28 09:41:19,144]\u001b[0m A new study created in RDB with name: autoxgb\u001b[0m\n",
      "2021-11-28 09:41:45.520 | INFO     | autoxgb.utils:optimize:192 - Metrics: {'auc': 0.98490056879468, 'logloss': 0.07456094019196087, 'f1': 0.9721964827028359, 'accuracy': 0.981850102918029, 'precision': 0.9932538361174178, 'recall': 0.9520159825644752}\n",
      "\u001b[32m[I 2021-11-28 09:41:45,572]\u001b[0m Trial 0 finished with value: 0.07456094019196087 and parameters: {'learning_rate': 0.24006160068298701, 'reg_lambda': 13.630157010253162, 'reg_alpha': 1.574522470129688e-05, 'subsample': 0.8259568497932395, 'colsample_bytree': 0.807743847546043, 'max_depth': 2, 'early_stopping_rounds': 270, 'n_estimators': 7000}. Best is trial 0 with value: 0.07456094019196087.\u001b[0m\n",
      "2021-11-28 09:43:01.950 | INFO     | autoxgb.utils:optimize:192 - Metrics: {'auc': 0.9747686884261517, 'logloss': 0.14327487733495906, 'f1': 0.9279715564396345, 'accuracy': 0.9544012592323525, 'precision': 0.9799660786846698, 'recall': 0.8812204867417363}\n",
      "\u001b[32m[I 2021-11-28 09:43:01,992]\u001b[0m Trial 1 finished with value: 0.14327487733495906 and parameters: {'learning_rate': 0.01245522288702717, 'reg_lambda': 5.887739136109787e-08, 'reg_alpha': 0.24788571477310173, 'subsample': 0.563117602108261, 'colsample_bytree': 0.9096620618063324, 'max_depth': 1, 'early_stopping_rounds': 259, 'n_estimators': 7000}. Best is trial 0 with value: 0.07456094019196087.\u001b[0m\n",
      "2021-11-28 09:45:45.600 | INFO     | autoxgb.utils:optimize:192 - Metrics: {'auc': 0.9791629403659501, 'logloss': 0.1184076415235095, 'f1': 0.9461597425094015, 'accuracy': 0.9655527303547645, 'precision': 0.9875224927048091, 'recall': 0.908136578278242}\n",
      "\u001b[32m[I 2021-11-28 09:45:45,645]\u001b[0m Trial 2 finished with value: 0.1184076415235095 and parameters: {'learning_rate': 0.01572678361680493, 'reg_lambda': 6.524292517102156e-05, 'reg_alpha': 9.762431593599686e-08, 'subsample': 0.9455185813483441, 'colsample_bytree': 0.36353458421907936, 'max_depth': 1, 'early_stopping_rounds': 419, 'n_estimators': 15000}. Best is trial 0 with value: 0.07456094019196087.\u001b[0m\n",
      "2021-11-28 09:48:13.179 | INFO     | autoxgb.utils:optimize:192 - Metrics: {'auc': 0.9865799209368931, 'logloss': 0.07096395374182347, 'f1': 0.9734676585227223, 'accuracy': 0.982661339145175, 'precision': 0.9934588885110838, 'recall': 0.9542680711950599}\n",
      "\u001b[32m[I 2021-11-28 09:48:13,224]\u001b[0m Trial 3 finished with value: 0.07096395374182347 and parameters: {'learning_rate': 0.010054636551750887, 'reg_lambda': 0.000637733927666517, 'reg_alpha': 1.5793759643443387e-07, 'subsample': 0.7189011968067806, 'colsample_bytree': 0.7002312718865316, 'max_depth': 6, 'early_stopping_rounds': 251, 'n_estimators': 7000}. Best is trial 3 with value: 0.07096395374182347.\u001b[0m\n",
      "2021-11-28 09:48:13.237 | INFO     | autoxgb.autoxgb:train:248 - Training complete\n",
      "2021-11-28 09:48:13.238 | INFO     | autoxgb.autoxgb:predict:252 - Creating OOF and test predictions\n",
      "2021-11-28 09:48:13.243 | INFO     | autoxgb.utils:predict_model:238 - Training and predicting for fold 0\n",
      "2021-11-28 09:48:46.370 | INFO     | autoxgb.utils:predict_model:333 - Fold 0 done!\n",
      "2021-11-28 09:48:46.372 | INFO     | autoxgb.utils:predict_model:238 - Training and predicting for fold 1\n",
      "2021-11-28 09:49:16.857 | INFO     | autoxgb.utils:predict_model:333 - Fold 1 done!\n",
      "2021-11-28 09:49:16.859 | INFO     | autoxgb.utils:predict_model:238 - Training and predicting for fold 2\n",
      "2021-11-28 09:49:47.815 | INFO     | autoxgb.utils:predict_model:333 - Fold 2 done!\n",
      "2021-11-28 09:49:47.817 | INFO     | autoxgb.utils:predict_model:238 - Training and predicting for fold 3\n",
      "2021-11-28 09:50:18.459 | INFO     | autoxgb.utils:predict_model:333 - Fold 3 done!\n",
      "2021-11-28 09:50:18.461 | INFO     | autoxgb.utils:predict_model:238 - Training and predicting for fold 4\n",
      "2021-11-28 09:50:44.901 | INFO     | autoxgb.utils:predict_model:333 - Fold 4 done!\n",
      "2021-11-28 09:50:44.903 | INFO     | autoxgb.utils:predict_model:336 - Metrics: {'auc': 0.9865799209368931, 'logloss': 0.07096395374182347, 'f1': 0.9734676585227223, 'accuracy': 0.982661339145175, 'precision': 0.9934588885110838, 'recall': 0.9542680711950599}\n"
     ]
    },
    {
     "name": "stdout",
     "output_type": "stream",
     "text": [
      "CPU times: user 9min 25s, sys: 4.23 s, total: 9min 29s\n",
      "Wall time: 9min 27s\n"
     ]
    }
   ],
   "source": [
    "%%time\n",
    "\n",
    "# Define required parameters\n",
    "train_filename = \"data/processed/train.csv\" # Path to training dataset\n",
    "output = \"output_autoxgb\" # Name of output folder\n",
    "\n",
    "# Set optional parameters\n",
    "test_filename = \"data/processed/test.csv\"\n",
    "task = \"classification\"\n",
    "targets = [\"TX_FRAUD\"]\n",
    "use_gpu = True\n",
    "num_folds = 5\n",
    "seed = 42\n",
    "num_trials = 200\n",
    "time_limit = 400\n",
    "fast = False\n",
    "\n",
    "# Start AutoXGB training\n",
    "axgb = AutoXGB(\n",
    "            train_filename=train_filename,\n",
    "            output=output,\n",
    "            test_filename=test_filename,\n",
    "            task=task,\n",
    "            targets=targets,\n",
    "            use_gpu=use_gpu,\n",
    "            num_folds=num_folds,\n",
    "            seed=seed,\n",
    "            num_trials=num_trials,\n",
    "            time_limit=time_limit,\n",
    "            fast=fast,\n",
    ")\n",
    "\n",
    "axgb.train()"
   ]
  },
  {
   "cell_type": "markdown",
   "metadata": {
    "id": "TXXpTZiCr1u2"
   },
   "source": [
    "### Setup test dataset"
   ]
  },
  {
   "cell_type": "code",
   "execution_count": 3,
   "metadata": {
    "id": "tmmFJvpNnkAa"
   },
   "outputs": [],
   "source": [
    "# Import dataset and define target variable\n",
    "test_df = pd.read_csv('data/processed/test.csv')\n",
    "target = 'TX_FRAUD'\n",
    "\n",
    "# Get y true labels\n",
    "y_test = test_df[target]"
   ]
  },
  {
   "cell_type": "markdown",
   "metadata": {
    "id": "ruUx-Jdor1u3"
   },
   "source": [
    "### Get predictions on test set"
   ]
  },
  {
   "cell_type": "code",
   "execution_count": 4,
   "metadata": {
    "colab": {
     "base_uri": "https://localhost:8080/",
     "height": 206
    },
    "id": "3VlZlfcrnkAb",
    "outputId": "ea5c41a8-83c0-4ce9-eb20-3db36c8ee83c"
   },
   "outputs": [
    {
     "data": {
      "text/html": [
       "<div>\n",
       "<style scoped>\n",
       "    .dataframe tbody tr th:only-of-type {\n",
       "        vertical-align: middle;\n",
       "    }\n",
       "\n",
       "    .dataframe tbody tr th {\n",
       "        vertical-align: top;\n",
       "    }\n",
       "\n",
       "    .dataframe thead th {\n",
       "        text-align: right;\n",
       "    }\n",
       "</style>\n",
       "<table border=\"1\" class=\"dataframe\">\n",
       "  <thead>\n",
       "    <tr style=\"text-align: right;\">\n",
       "      <th></th>\n",
       "      <th>id</th>\n",
       "      <th>0</th>\n",
       "      <th>1</th>\n",
       "    </tr>\n",
       "  </thead>\n",
       "  <tbody>\n",
       "    <tr>\n",
       "      <th>0</th>\n",
       "      <td>0</td>\n",
       "      <td>0.952505</td>\n",
       "      <td>0.047495</td>\n",
       "    </tr>\n",
       "    <tr>\n",
       "      <th>1</th>\n",
       "      <td>1</td>\n",
       "      <td>0.984080</td>\n",
       "      <td>0.015920</td>\n",
       "    </tr>\n",
       "    <tr>\n",
       "      <th>2</th>\n",
       "      <td>2</td>\n",
       "      <td>0.996838</td>\n",
       "      <td>0.003162</td>\n",
       "    </tr>\n",
       "    <tr>\n",
       "      <th>3</th>\n",
       "      <td>3</td>\n",
       "      <td>0.981726</td>\n",
       "      <td>0.018274</td>\n",
       "    </tr>\n",
       "    <tr>\n",
       "      <th>4</th>\n",
       "      <td>4</td>\n",
       "      <td>0.000083</td>\n",
       "      <td>0.999917</td>\n",
       "    </tr>\n",
       "  </tbody>\n",
       "</table>\n",
       "</div>"
      ],
      "text/plain": [
       "   id         0         1\n",
       "0   0  0.952505  0.047495\n",
       "1   1  0.984080  0.015920\n",
       "2   2  0.996838  0.003162\n",
       "3   3  0.981726  0.018274\n",
       "4   4  0.000083  0.999917"
      ]
     },
     "execution_count": 4,
     "metadata": {},
     "output_type": "execute_result"
    }
   ],
   "source": [
    "# View probability predictions from AutoXGB\n",
    "preds_proba = pd.read_csv('output/test_predictions.csv')\n",
    "preds_proba.head()"
   ]
  },
  {
   "cell_type": "code",
   "execution_count": 5,
   "metadata": {
    "colab": {
     "base_uri": "https://localhost:8080/"
    },
    "id": "vvDSa8e6wUXQ",
    "outputId": "5cf20c08-b19d-48de-b9f9-95a1ee05dfa4"
   },
   "outputs": [
    {
     "data": {
      "text/plain": [
       "0        0.047495\n",
       "1        0.015920\n",
       "2        0.003162\n",
       "3        0.018274\n",
       "4        0.999917\n",
       "           ...   \n",
       "67381    0.996280\n",
       "67382    0.027509\n",
       "67383    0.017280\n",
       "67384    0.011525\n",
       "67385    0.028157\n",
       "Name: 1, Length: 67386, dtype: float64"
      ]
     },
     "execution_count": 5,
     "metadata": {},
     "output_type": "execute_result"
    }
   ],
   "source": [
    "y_preds_proba = preds_proba.iloc[:,2]\n",
    "y_preds_proba"
   ]
  },
  {
   "cell_type": "code",
   "execution_count": 6,
   "metadata": {
    "colab": {
     "base_uri": "https://localhost:8080/",
     "height": 206
    },
    "id": "E4IzCOhe4DTu",
    "outputId": "9bf0b017-6c04-41f1-94fa-879ef2d0ac05"
   },
   "outputs": [
    {
     "data": {
      "text/html": [
       "<div>\n",
       "<style scoped>\n",
       "    .dataframe tbody tr th:only-of-type {\n",
       "        vertical-align: middle;\n",
       "    }\n",
       "\n",
       "    .dataframe tbody tr th {\n",
       "        vertical-align: top;\n",
       "    }\n",
       "\n",
       "    .dataframe thead th {\n",
       "        text-align: right;\n",
       "    }\n",
       "</style>\n",
       "<table border=\"1\" class=\"dataframe\">\n",
       "  <thead>\n",
       "    <tr style=\"text-align: right;\">\n",
       "      <th></th>\n",
       "      <th>label</th>\n",
       "    </tr>\n",
       "  </thead>\n",
       "  <tbody>\n",
       "    <tr>\n",
       "      <th>0</th>\n",
       "      <td>0</td>\n",
       "    </tr>\n",
       "    <tr>\n",
       "      <th>1</th>\n",
       "      <td>0</td>\n",
       "    </tr>\n",
       "    <tr>\n",
       "      <th>2</th>\n",
       "      <td>0</td>\n",
       "    </tr>\n",
       "    <tr>\n",
       "      <th>3</th>\n",
       "      <td>0</td>\n",
       "    </tr>\n",
       "    <tr>\n",
       "      <th>4</th>\n",
       "      <td>1</td>\n",
       "    </tr>\n",
       "  </tbody>\n",
       "</table>\n",
       "</div>"
      ],
      "text/plain": [
       "   label\n",
       "0      0\n",
       "1      0\n",
       "2      0\n",
       "3      0\n",
       "4      1"
      ]
     },
     "execution_count": 6,
     "metadata": {},
     "output_type": "execute_result"
    }
   ],
   "source": [
    "# Set threshold (default = 0.5)\n",
    "threshold = 0.5\n",
    "\n",
    "# Generate predicted labels\n",
    "preds = preds_proba.copy()\n",
    "preds['label'] = preds['1'].apply(lambda x: 0 if x < threshold else 1)\n",
    "preds = preds.iloc[: , 3:] # Drop unnecessary columns\n",
    "preds.head()"
   ]
  },
  {
   "cell_type": "markdown",
   "metadata": {
    "id": "lGLNllOvr1u5"
   },
   "source": [
    "### Review performance metrics"
   ]
  },
  {
   "cell_type": "code",
   "execution_count": 7,
   "metadata": {
    "id": "m7jWIkC9r1u5"
   },
   "outputs": [],
   "source": [
    "# Define function to consolidate and display performance metrics\n",
    "def gen_performance_metrics(y_true, y_preds, y_preds_proba, model_name, round_to=3):\n",
    "    accuracy = round(metrics.accuracy_score(y_true, y_preds), round_to)\n",
    "    f1_score = round(metrics.f1_score(y_true, y_preds), round_to)\n",
    "    roc_auc = round(metrics.roc_auc_score(y_true, y_preds_proba), round_to)\n",
    "    avg_precision = round(metrics.average_precision_score(y_true, y_preds_proba), round_to)\n",
    "\n",
    "    df = pd.DataFrame([[model_name, accuracy, f1_score, roc_auc, avg_precision]], \n",
    "                        columns=['Model', 'Accuracy', 'F1 Score', 'ROC AUC Score', 'Average Precision'])\n",
    "    \n",
    "    display(df)\n",
    "    display(metrics.ConfusionMatrixDisplay.from_predictions(y_true, y_preds))"
   ]
  },
  {
   "cell_type": "code",
   "execution_count": 8,
   "metadata": {
    "colab": {
     "base_uri": "https://localhost:8080/",
     "height": 360
    },
    "id": "uKcL610Zr1u5",
    "outputId": "a1ba1efd-d81d-43fc-d8a2-bbd0eab767dd"
   },
   "outputs": [
    {
     "data": {
      "text/html": [
       "<div>\n",
       "<style scoped>\n",
       "    .dataframe tbody tr th:only-of-type {\n",
       "        vertical-align: middle;\n",
       "    }\n",
       "\n",
       "    .dataframe tbody tr th {\n",
       "        vertical-align: top;\n",
       "    }\n",
       "\n",
       "    .dataframe thead th {\n",
       "        text-align: right;\n",
       "    }\n",
       "</style>\n",
       "<table border=\"1\" class=\"dataframe\">\n",
       "  <thead>\n",
       "    <tr style=\"text-align: right;\">\n",
       "      <th></th>\n",
       "      <th>Model</th>\n",
       "      <th>Accuracy</th>\n",
       "      <th>F1 Score</th>\n",
       "      <th>ROC AUC Score</th>\n",
       "      <th>Average Precision</th>\n",
       "    </tr>\n",
       "  </thead>\n",
       "  <tbody>\n",
       "    <tr>\n",
       "      <th>0</th>\n",
       "      <td>AutoXGB</td>\n",
       "      <td>0.995</td>\n",
       "      <td>0.723</td>\n",
       "      <td>0.914</td>\n",
       "      <td>0.782</td>\n",
       "    </tr>\n",
       "  </tbody>\n",
       "</table>\n",
       "</div>"
      ],
      "text/plain": [
       "     Model  Accuracy  F1 Score  ROC AUC Score  Average Precision\n",
       "0  AutoXGB     0.995     0.723          0.914              0.782"
      ]
     },
     "metadata": {},
     "output_type": "display_data"
    },
    {
     "data": {
      "text/plain": [
       "<sklearn.metrics._plot.confusion_matrix.ConfusionMatrixDisplay at 0x7f84ed9c0f10>"
      ]
     },
     "metadata": {},
     "output_type": "display_data"
    },
    {
     "data": {
      "image/png": "[encoded data removed]",
      "text/plain": [
       "<Figure size 432x288 with 2 Axes>"
      ]
     },
     "metadata": {
      "needs_background": "light"
     },
     "output_type": "display_data"
    }
   ],
   "source": [
    "# Show performance assessment\n",
    "gen_performance_metrics(y_test, preds, y_preds_proba, 'AutoXGB')"
   ]
  }
 ],
 "metadata": {
  "accelerator": "GPU",
  "colab": {
   "collapsed_sections": [],
   "name": "03_AutoXGB.ipynb",
   "provenance": []
  },
  "kernelspec": {
   "display_name": "Python 3",
   "language": "python",
   "name": "python3"
  },
  "language_info": {
   "codemirror_mode": {
    "name": "ipython",
    "version": 3
   },
   "file_extension": ".py",
   "mimetype": "text/x-python",
   "name": "python",
   "nbconvert_exporter": "python",
   "pygments_lexer": "ipython3",
   "version": "3.8.3"
  }
 },
 "nbformat": 4,
 "nbformat_minor": 4
}
