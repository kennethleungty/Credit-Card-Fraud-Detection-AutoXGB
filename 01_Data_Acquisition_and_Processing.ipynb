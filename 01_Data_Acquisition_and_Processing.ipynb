{
 "cells": [
  {
   "cell_type": "markdown",
   "metadata": {},
   "source": [
    "# Credit Card Fraud Detection with AutoXGB\n",
    "## Part 1 - Data Acquisition and Processing\n",
    "___"
   ]
  },
  {
   "cell_type": "markdown",
   "metadata": {},
   "source": [
    "### Setup dependencies and dataset"
   ]
  },
  {
   "cell_type": "code",
   "execution_count": 1,
   "metadata": {},
   "outputs": [],
   "source": [
    "# Library imports\n",
    "import os\n",
    "import pandas as pd\n",
    "import numpy as np\n",
    "import matplotlib.pyplot as plt\n",
    "import math\n",
    "import time\n",
    "import pickle\n",
    "import datetime\n",
    "import shutil\n",
    "\n",
    "from imblearn.over_sampling import SMOTE\n",
    "from imblearn.under_sampling import RandomUnderSampler\n",
    "from imblearn.pipeline import Pipeline\n",
    "\n",
    "import warnings\n",
    "warnings.filterwarnings('ignore')\n",
    "\n",
    "pd.set_option('display.max_columns', None)"
   ]
  },
  {
   "cell_type": "markdown",
   "metadata": {},
   "source": [
    "### Download raw data\n",
    "- Data source: https://github.com/Fraud-Detection-Handbook/simulated-data-transformed"
   ]
  },
  {
   "cell_type": "code",
   "execution_count": 2,
   "metadata": {
    "scrolled": true
   },
   "outputs": [],
   "source": [
    "# Download raw data\n",
    "dst_folder = 'data/raw'\n",
    "\n",
    "if not os.path.exists(dst_folder):\n",
    "    os.makedirs(dst_folder)\n",
    "    !git clone https://github.com/Fraud-Detection-Handbook/simulated-data-transformed/ data/raw"
   ]
  },
  {
   "cell_type": "code",
   "execution_count": 3,
   "metadata": {},
   "outputs": [
    {
     "data": {
      "text/plain": [
       "['2018-04-01.pkl',\n",
       " '2018-04-02.pkl',\n",
       " '2018-04-03.pkl',\n",
       " '2018-04-04.pkl',\n",
       " '2018-04-05.pkl',\n",
       " '2018-04-06.pkl',\n",
       " '2018-04-07.pkl',\n",
       " '2018-04-08.pkl',\n",
       " '2018-04-09.pkl',\n",
       " '2018-04-10.pkl',\n",
       " '2018-04-11.pkl',\n",
       " '2018-04-12.pkl',\n",
       " '2018-04-13.pkl',\n",
       " '2018-04-14.pkl',\n",
       " '2018-04-15.pkl',\n",
       " '2018-04-16.pkl',\n",
       " '2018-04-17.pkl',\n",
       " '2018-04-18.pkl',\n",
       " '2018-04-19.pkl',\n",
       " '2018-04-20.pkl',\n",
       " '2018-04-21.pkl',\n",
       " '2018-04-22.pkl',\n",
       " '2018-04-23.pkl',\n",
       " '2018-04-24.pkl',\n",
       " '2018-04-25.pkl',\n",
       " '2018-04-26.pkl',\n",
       " '2018-04-27.pkl',\n",
       " '2018-04-28.pkl',\n",
       " '2018-04-29.pkl',\n",
       " '2018-04-30.pkl',\n",
       " '2018-05-01.pkl',\n",
       " '2018-05-02.pkl',\n",
       " '2018-05-03.pkl',\n",
       " '2018-05-04.pkl',\n",
       " '2018-05-05.pkl',\n",
       " '2018-05-06.pkl',\n",
       " '2018-05-07.pkl',\n",
       " '2018-05-08.pkl',\n",
       " '2018-05-09.pkl',\n",
       " '2018-05-10.pkl',\n",
       " '2018-05-11.pkl',\n",
       " '2018-05-12.pkl',\n",
       " '2018-05-13.pkl',\n",
       " '2018-05-14.pkl',\n",
       " '2018-05-15.pkl',\n",
       " '2018-05-16.pkl',\n",
       " '2018-05-17.pkl',\n",
       " '2018-05-18.pkl',\n",
       " '2018-05-19.pkl',\n",
       " '2018-05-20.pkl',\n",
       " '2018-05-21.pkl',\n",
       " '2018-05-22.pkl',\n",
       " '2018-05-23.pkl',\n",
       " '2018-05-24.pkl',\n",
       " '2018-05-25.pkl',\n",
       " '2018-05-26.pkl',\n",
       " '2018-05-27.pkl',\n",
       " '2018-05-28.pkl',\n",
       " '2018-05-29.pkl',\n",
       " '2018-05-30.pkl',\n",
       " '2018-05-31.pkl',\n",
       " '2018-06-01.pkl',\n",
       " '2018-06-02.pkl',\n",
       " '2018-06-03.pkl',\n",
       " '2018-06-04.pkl',\n",
       " '2018-06-05.pkl',\n",
       " '2018-06-06.pkl',\n",
       " '2018-06-07.pkl',\n",
       " '2018-06-08.pkl',\n",
       " '2018-06-09.pkl',\n",
       " '2018-06-10.pkl',\n",
       " '2018-06-11.pkl',\n",
       " '2018-06-12.pkl',\n",
       " '2018-06-13.pkl',\n",
       " '2018-06-14.pkl',\n",
       " '2018-06-15.pkl',\n",
       " '2018-06-16.pkl',\n",
       " '2018-06-17.pkl',\n",
       " '2018-06-18.pkl',\n",
       " '2018-06-19.pkl',\n",
       " '2018-06-20.pkl',\n",
       " '2018-06-21.pkl',\n",
       " '2018-06-22.pkl',\n",
       " '2018-06-23.pkl',\n",
       " '2018-06-24.pkl',\n",
       " '2018-06-25.pkl',\n",
       " '2018-06-26.pkl',\n",
       " '2018-06-27.pkl',\n",
       " '2018-06-28.pkl',\n",
       " '2018-06-29.pkl',\n",
       " '2018-06-30.pkl',\n",
       " '2018-07-01.pkl',\n",
       " '2018-07-02.pkl',\n",
       " '2018-07-03.pkl',\n",
       " '2018-07-04.pkl',\n",
       " '2018-07-05.pkl',\n",
       " '2018-07-06.pkl',\n",
       " '2018-07-07.pkl',\n",
       " '2018-07-08.pkl',\n",
       " '2018-07-09.pkl',\n",
       " '2018-07-10.pkl',\n",
       " '2018-07-11.pkl',\n",
       " '2018-07-12.pkl',\n",
       " '2018-07-13.pkl',\n",
       " '2018-07-14.pkl',\n",
       " '2018-07-15.pkl',\n",
       " '2018-07-16.pkl',\n",
       " '2018-07-17.pkl',\n",
       " '2018-07-18.pkl',\n",
       " '2018-07-19.pkl',\n",
       " '2018-07-20.pkl',\n",
       " '2018-07-21.pkl',\n",
       " '2018-07-22.pkl',\n",
       " '2018-07-23.pkl',\n",
       " '2018-07-24.pkl',\n",
       " '2018-07-25.pkl',\n",
       " '2018-07-26.pkl',\n",
       " '2018-07-27.pkl',\n",
       " '2018-07-28.pkl',\n",
       " '2018-07-29.pkl',\n",
       " '2018-07-30.pkl',\n",
       " '2018-07-31.pkl',\n",
       " '2018-08-01.pkl',\n",
       " '2018-08-02.pkl',\n",
       " '2018-08-03.pkl',\n",
       " '2018-08-04.pkl',\n",
       " '2018-08-05.pkl',\n",
       " '2018-08-06.pkl',\n",
       " '2018-08-07.pkl',\n",
       " '2018-08-08.pkl',\n",
       " '2018-08-09.pkl',\n",
       " '2018-08-10.pkl',\n",
       " '2018-08-11.pkl',\n",
       " '2018-08-12.pkl',\n",
       " '2018-08-13.pkl',\n",
       " '2018-08-14.pkl',\n",
       " '2018-08-15.pkl',\n",
       " '2018-08-16.pkl',\n",
       " '2018-08-17.pkl',\n",
       " '2018-08-18.pkl',\n",
       " '2018-08-19.pkl',\n",
       " '2018-08-20.pkl',\n",
       " '2018-08-21.pkl',\n",
       " '2018-08-22.pkl',\n",
       " '2018-08-23.pkl',\n",
       " '2018-08-24.pkl',\n",
       " '2018-08-25.pkl',\n",
       " '2018-08-26.pkl',\n",
       " '2018-08-27.pkl',\n",
       " '2018-08-28.pkl',\n",
       " '2018-08-29.pkl',\n",
       " '2018-08-30.pkl',\n",
       " '2018-08-31.pkl',\n",
       " '2018-09-01.pkl',\n",
       " '2018-09-02.pkl',\n",
       " '2018-09-03.pkl',\n",
       " '2018-09-04.pkl',\n",
       " '2018-09-05.pkl',\n",
       " '2018-09-06.pkl',\n",
       " '2018-09-07.pkl',\n",
       " '2018-09-08.pkl',\n",
       " '2018-09-09.pkl',\n",
       " '2018-09-10.pkl',\n",
       " '2018-09-11.pkl',\n",
       " '2018-09-12.pkl',\n",
       " '2018-09-13.pkl',\n",
       " '2018-09-14.pkl',\n",
       " '2018-09-15.pkl',\n",
       " '2018-09-16.pkl',\n",
       " '2018-09-17.pkl',\n",
       " '2018-09-18.pkl',\n",
       " '2018-09-19.pkl',\n",
       " '2018-09-20.pkl',\n",
       " '2018-09-21.pkl',\n",
       " '2018-09-22.pkl',\n",
       " '2018-09-23.pkl',\n",
       " '2018-09-24.pkl',\n",
       " '2018-09-25.pkl',\n",
       " '2018-09-26.pkl',\n",
       " '2018-09-27.pkl',\n",
       " '2018-09-28.pkl',\n",
       " '2018-09-29.pkl',\n",
       " '2018-09-30.pkl']"
      ]
     },
     "execution_count": 3,
     "metadata": {},
     "output_type": "execute_result"
    }
   ],
   "source": [
    "# Show all pickle files (raw data)\n",
    "os.listdir(f'{dst_folder}/data')"
   ]
  },
  {
   "cell_type": "markdown",
   "metadata": {},
   "source": [
    "___\n",
    "### Create train / test sets\n",
    "- ~8 week period for **train** set: 2018-07-01 to 2018-08-27\n",
    "- 1 week feedback delay between train and validation set: 2018-08-28 to 2018-09-03\n",
    "- 1 week period for **test** set: 2018-09-04 to 2018-09-10\n",
    "\n",
    "*Details on Feedback Delay Period*\n",
    "- We choose our test set to take place at least one week after the last transaction of the training set\n",
    "- In a fraud detection context, this period separating the training and test set is referred to as the delay period or feedback delay. \n",
    "- It accounts for the fact that, in a real-world fraud detection system, the label of a transaction (fraudulent or legitimate) is only known after a customer complaint, or thanks to the result of a fraud investigation. \n",
    "- Therefore, in a realistic scenario, the annotated data available to train a model and start making prediction for a given day are anterior to that day minus the delay period. \n",
    "- A one-week delay is, to a first approximation, a reasonable basis. From experience, statistics generally show that most of the feedback becomes available after a one week delay and empirically, it is also the point where the negative effect of considering that zero feedback is available before and the positive effect of considering that all the feedback is available after cancel each other out.\n",
    "\n",
    "Reference: https://fraud-detection-handbook.github.io/fraud-detection-handbook/Chapter_5_ModelValidationAndSelection/ValidationStrategies.html"
   ]
  },
  {
   "attachments": {
    "image.png": {
     "image/png": "[encoded data removed]"
    }
   },
   "cell_type": "markdown",
   "metadata": {},
   "source": [
    "![image.png](attachment:image.png)"
   ]
  },
  {
   "cell_type": "code",
   "execution_count": 4,
   "metadata": {},
   "outputs": [],
   "source": [
    "# Define date range for train and test sets\n",
    "train_date_range = pd.date_range('2018-07-01', '2018-08-27', freq='d').strftime('%Y-%m-%d').tolist()\n",
    "test_date_range = pd.date_range('2018-09-04', '2018-09-10', freq='d').strftime('%Y-%m-%d').tolist()"
   ]
  },
  {
   "cell_type": "code",
   "execution_count": 5,
   "metadata": {},
   "outputs": [
    {
     "data": {
      "text/plain": [
       "555541"
      ]
     },
     "execution_count": 5,
     "metadata": {},
     "output_type": "execute_result"
    }
   ],
   "source": [
    "# Generate train set dataframe\n",
    "train_df = pd.DataFrame()\n",
    "for date in train_date_range:\n",
    "    df = pd.read_pickle(f'{dst_folder}/data/{date}.pkl')\n",
    "    train_df = train_df.append(df)\n",
    "\n",
    "len(train_df)"
   ]
  },
  {
   "cell_type": "code",
   "execution_count": 6,
   "metadata": {},
   "outputs": [
    {
     "data": {
      "text/plain": [
       "67386"
      ]
     },
     "execution_count": 6,
     "metadata": {},
     "output_type": "execute_result"
    }
   ],
   "source": [
    "# Generate test set dataframe\n",
    "test_df = pd.DataFrame()\n",
    "for date in test_date_range:\n",
    "    df = pd.read_pickle(f'{dst_folder}/data/{date}.pkl')\n",
    "    test_df = test_df.append(df)\n",
    "\n",
    "len(test_df)"
   ]
  },
  {
   "cell_type": "markdown",
   "metadata": {},
   "source": [
    "___\n",
    "### Data Pre-Processing\n",
    "- Baseline feature transformation already done on the simulated raw dataset\n",
    "- Reference: https://fraud-detection-handbook.github.io/fraud-detection-handbook/Chapter_3_GettingStarted/BaselineFeatureTransformation.html"
   ]
  },
  {
   "cell_type": "code",
   "execution_count": 7,
   "metadata": {},
   "outputs": [],
   "source": [
    "# Define target variable\n",
    "target = 'TX_FRAUD'\n",
    "\n",
    "# Define predictor variables\n",
    "predictors = ['TX_AMOUNT','TX_DURING_WEEKEND', 'TX_DURING_NIGHT', \n",
    "              'CUSTOMER_ID_NB_TX_1DAY_WINDOW',\n",
    "              'CUSTOMER_ID_NB_TX_7DAY_WINDOW',\n",
    "              'CUSTOMER_ID_NB_TX_30DAY_WINDOW',\n",
    "              'CUSTOMER_ID_AVG_AMOUNT_1DAY_WINDOW',\n",
    "              'CUSTOMER_ID_AVG_AMOUNT_7DAY_WINDOW',\n",
    "              'CUSTOMER_ID_AVG_AMOUNT_30DAY_WINDOW', \n",
    "              'TERMINAL_ID_NB_TX_1DAY_WINDOW',\n",
    "              'TERMINAL_ID_NB_TX_7DAY_WINDOW',\n",
    "              'TERMINAL_ID_NB_TX_30DAY_WINDOW',\n",
    "              'TERMINAL_ID_RISK_1DAY_WINDOW', \n",
    "              'TERMINAL_ID_RISK_7DAY_WINDOW', \n",
    "              'TERMINAL_ID_RISK_30DAY_WINDOW']"
   ]
  },
  {
   "cell_type": "code",
   "execution_count": 8,
   "metadata": {},
   "outputs": [],
   "source": [
    "# Keep only predictor and target columns\n",
    "train_df = train_df[predictors + [target]]\n",
    "test_df = test_df[predictors + [target]]"
   ]
  },
  {
   "cell_type": "code",
   "execution_count": 9,
   "metadata": {},
   "outputs": [
    {
     "data": {
      "text/html": [
       "<div>\n",
       "<style scoped>\n",
       "    .dataframe tbody tr th:only-of-type {\n",
       "        vertical-align: middle;\n",
       "    }\n",
       "\n",
       "    .dataframe tbody tr th {\n",
       "        vertical-align: top;\n",
       "    }\n",
       "\n",
       "    .dataframe thead th {\n",
       "        text-align: right;\n",
       "    }\n",
       "</style>\n",
       "<table border=\"1\" class=\"dataframe\">\n",
       "  <thead>\n",
       "    <tr style=\"text-align: right;\">\n",
       "      <th></th>\n",
       "      <th>TX_AMOUNT</th>\n",
       "      <th>TX_DURING_WEEKEND</th>\n",
       "      <th>TX_DURING_NIGHT</th>\n",
       "      <th>CUSTOMER_ID_NB_TX_1DAY_WINDOW</th>\n",
       "      <th>CUSTOMER_ID_NB_TX_7DAY_WINDOW</th>\n",
       "      <th>CUSTOMER_ID_NB_TX_30DAY_WINDOW</th>\n",
       "      <th>CUSTOMER_ID_AVG_AMOUNT_1DAY_WINDOW</th>\n",
       "      <th>CUSTOMER_ID_AVG_AMOUNT_7DAY_WINDOW</th>\n",
       "      <th>CUSTOMER_ID_AVG_AMOUNT_30DAY_WINDOW</th>\n",
       "      <th>TERMINAL_ID_NB_TX_1DAY_WINDOW</th>\n",
       "      <th>TERMINAL_ID_NB_TX_7DAY_WINDOW</th>\n",
       "      <th>TERMINAL_ID_NB_TX_30DAY_WINDOW</th>\n",
       "      <th>TERMINAL_ID_RISK_1DAY_WINDOW</th>\n",
       "      <th>TERMINAL_ID_RISK_7DAY_WINDOW</th>\n",
       "      <th>TERMINAL_ID_RISK_30DAY_WINDOW</th>\n",
       "      <th>TX_FRAUD</th>\n",
       "    </tr>\n",
       "  </thead>\n",
       "  <tbody>\n",
       "    <tr>\n",
       "      <th>872795</th>\n",
       "      <td>74.37</td>\n",
       "      <td>1</td>\n",
       "      <td>1</td>\n",
       "      <td>8.0</td>\n",
       "      <td>21.0</td>\n",
       "      <td>68.0</td>\n",
       "      <td>55.131250</td>\n",
       "      <td>52.041905</td>\n",
       "      <td>53.391618</td>\n",
       "      <td>1.0</td>\n",
       "      <td>4.0</td>\n",
       "      <td>27.0</td>\n",
       "      <td>0.0</td>\n",
       "      <td>0.0</td>\n",
       "      <td>0.037037</td>\n",
       "      <td>0</td>\n",
       "    </tr>\n",
       "    <tr>\n",
       "      <th>872796</th>\n",
       "      <td>109.96</td>\n",
       "      <td>1</td>\n",
       "      <td>1</td>\n",
       "      <td>4.0</td>\n",
       "      <td>26.0</td>\n",
       "      <td>109.0</td>\n",
       "      <td>107.980000</td>\n",
       "      <td>93.211154</td>\n",
       "      <td>97.145046</td>\n",
       "      <td>1.0</td>\n",
       "      <td>5.0</td>\n",
       "      <td>43.0</td>\n",
       "      <td>0.0</td>\n",
       "      <td>0.0</td>\n",
       "      <td>0.000000</td>\n",
       "      <td>0</td>\n",
       "    </tr>\n",
       "    <tr>\n",
       "      <th>872797</th>\n",
       "      <td>18.26</td>\n",
       "      <td>1</td>\n",
       "      <td>1</td>\n",
       "      <td>2.0</td>\n",
       "      <td>10.0</td>\n",
       "      <td>74.0</td>\n",
       "      <td>14.560000</td>\n",
       "      <td>11.060000</td>\n",
       "      <td>11.367297</td>\n",
       "      <td>1.0</td>\n",
       "      <td>4.0</td>\n",
       "      <td>18.0</td>\n",
       "      <td>0.0</td>\n",
       "      <td>0.0</td>\n",
       "      <td>0.000000</td>\n",
       "      <td>0</td>\n",
       "    </tr>\n",
       "    <tr>\n",
       "      <th>872798</th>\n",
       "      <td>44.44</td>\n",
       "      <td>1</td>\n",
       "      <td>1</td>\n",
       "      <td>3.0</td>\n",
       "      <td>23.0</td>\n",
       "      <td>86.0</td>\n",
       "      <td>95.513333</td>\n",
       "      <td>85.214783</td>\n",
       "      <td>91.759302</td>\n",
       "      <td>2.0</td>\n",
       "      <td>8.0</td>\n",
       "      <td>29.0</td>\n",
       "      <td>0.0</td>\n",
       "      <td>0.0</td>\n",
       "      <td>0.000000</td>\n",
       "      <td>0</td>\n",
       "    </tr>\n",
       "    <tr>\n",
       "      <th>872799</th>\n",
       "      <td>24.75</td>\n",
       "      <td>1</td>\n",
       "      <td>1</td>\n",
       "      <td>1.0</td>\n",
       "      <td>2.0</td>\n",
       "      <td>13.0</td>\n",
       "      <td>24.750000</td>\n",
       "      <td>37.285000</td>\n",
       "      <td>36.265385</td>\n",
       "      <td>0.0</td>\n",
       "      <td>5.0</td>\n",
       "      <td>32.0</td>\n",
       "      <td>0.0</td>\n",
       "      <td>0.0</td>\n",
       "      <td>0.031250</td>\n",
       "      <td>0</td>\n",
       "    </tr>\n",
       "  </tbody>\n",
       "</table>\n",
       "</div>"
      ],
      "text/plain": [
       "        TX_AMOUNT  TX_DURING_WEEKEND  TX_DURING_NIGHT  \\\n",
       "872795      74.37                  1                1   \n",
       "872796     109.96                  1                1   \n",
       "872797      18.26                  1                1   \n",
       "872798      44.44                  1                1   \n",
       "872799      24.75                  1                1   \n",
       "\n",
       "        CUSTOMER_ID_NB_TX_1DAY_WINDOW  CUSTOMER_ID_NB_TX_7DAY_WINDOW  \\\n",
       "872795                            8.0                           21.0   \n",
       "872796                            4.0                           26.0   \n",
       "872797                            2.0                           10.0   \n",
       "872798                            3.0                           23.0   \n",
       "872799                            1.0                            2.0   \n",
       "\n",
       "        CUSTOMER_ID_NB_TX_30DAY_WINDOW  CUSTOMER_ID_AVG_AMOUNT_1DAY_WINDOW  \\\n",
       "872795                            68.0                           55.131250   \n",
       "872796                           109.0                          107.980000   \n",
       "872797                            74.0                           14.560000   \n",
       "872798                            86.0                           95.513333   \n",
       "872799                            13.0                           24.750000   \n",
       "\n",
       "        CUSTOMER_ID_AVG_AMOUNT_7DAY_WINDOW  \\\n",
       "872795                           52.041905   \n",
       "872796                           93.211154   \n",
       "872797                           11.060000   \n",
       "872798                           85.214783   \n",
       "872799                           37.285000   \n",
       "\n",
       "        CUSTOMER_ID_AVG_AMOUNT_30DAY_WINDOW  TERMINAL_ID_NB_TX_1DAY_WINDOW  \\\n",
       "872795                            53.391618                            1.0   \n",
       "872796                            97.145046                            1.0   \n",
       "872797                            11.367297                            1.0   \n",
       "872798                            91.759302                            2.0   \n",
       "872799                            36.265385                            0.0   \n",
       "\n",
       "        TERMINAL_ID_NB_TX_7DAY_WINDOW  TERMINAL_ID_NB_TX_30DAY_WINDOW  \\\n",
       "872795                            4.0                            27.0   \n",
       "872796                            5.0                            43.0   \n",
       "872797                            4.0                            18.0   \n",
       "872798                            8.0                            29.0   \n",
       "872799                            5.0                            32.0   \n",
       "\n",
       "        TERMINAL_ID_RISK_1DAY_WINDOW  TERMINAL_ID_RISK_7DAY_WINDOW  \\\n",
       "872795                           0.0                           0.0   \n",
       "872796                           0.0                           0.0   \n",
       "872797                           0.0                           0.0   \n",
       "872798                           0.0                           0.0   \n",
       "872799                           0.0                           0.0   \n",
       "\n",
       "        TERMINAL_ID_RISK_30DAY_WINDOW  TX_FRAUD  \n",
       "872795                       0.037037         0  \n",
       "872796                       0.000000         0  \n",
       "872797                       0.000000         0  \n",
       "872798                       0.000000         0  \n",
       "872799                       0.031250         0  "
      ]
     },
     "execution_count": 9,
     "metadata": {},
     "output_type": "execute_result"
    }
   ],
   "source": [
    "train_df.head()"
   ]
  },
  {
   "cell_type": "code",
   "execution_count": 10,
   "metadata": {},
   "outputs": [
    {
     "data": {
      "text/plain": [
       "0    550606\n",
       "1      4935\n",
       "Name: TX_FRAUD, dtype: int64"
      ]
     },
     "execution_count": 10,
     "metadata": {},
     "output_type": "execute_result"
    }
   ],
   "source": [
    "# Assess degree of imbalance in target label\n",
    "train_df[target].value_counts(dropna=False)"
   ]
  },
  {
   "cell_type": "markdown",
   "metadata": {},
   "source": [
    "Significant degree of target label imbalance (Fraud cases only 0.9% of entire dataset)"
   ]
  },
  {
   "cell_type": "markdown",
   "metadata": {},
   "source": [
    "### Perform sampling strategy\n",
    "The original paper on SMOTE suggested combining SMOTE with random undersampling of the majority class.\n",
    "\n",
    "We can execute the following strategy:\n",
    "1. SMOTE oversampling to make minority class 5% of total dataset (up ~500% from original 0.9%), then\n",
    "2. Random undersampling to make minority class 50% that of majority class (i.e. down-sample majority so that it is twice of minority class)\n",
    "\n",
    "Final sampled ratio will be majority:minority = 2:1"
   ]
  },
  {
   "cell_type": "code",
   "execution_count": 11,
   "metadata": {},
   "outputs": [],
   "source": [
    "# Define sampling techniques\n",
    "over = SMOTE(sampling_strategy=0.05)\n",
    "under = RandomUnderSampler(sampling_strategy=0.5)\n",
    "\n",
    "steps = [('over', over), ('under', under)]\n",
    "pipeline = Pipeline(steps=steps)"
   ]
  },
  {
   "cell_type": "code",
   "execution_count": 12,
   "metadata": {},
   "outputs": [],
   "source": [
    "# Rearrange dataset into X, y sets\n",
    "X_train = train_df[predictors]\n",
    "y_train = train_df[target]"
   ]
  },
  {
   "cell_type": "code",
   "execution_count": 13,
   "metadata": {},
   "outputs": [
    {
     "data": {
      "text/plain": [
       "82590"
      ]
     },
     "execution_count": 13,
     "metadata": {},
     "output_type": "execute_result"
    }
   ],
   "source": [
    "# Execute sampling strategy\n",
    "X_train, y_train = pipeline.fit_resample(X_train, y_train)\n",
    "len(X_train)"
   ]
  },
  {
   "cell_type": "code",
   "execution_count": 14,
   "metadata": {},
   "outputs": [
    {
     "data": {
      "text/plain": [
       "0    55060\n",
       "1    27530\n",
       "Name: TX_FRAUD, dtype: int64"
      ]
     },
     "execution_count": 14,
     "metadata": {},
     "output_type": "execute_result"
    }
   ],
   "source": [
    "# Evaluate labels of sampled dataset\n",
    "y_train.value_counts(dropna=False)"
   ]
  },
  {
   "cell_type": "markdown",
   "metadata": {},
   "source": [
    "### Save Processed Datasets"
   ]
  },
  {
   "cell_type": "code",
   "execution_count": 15,
   "metadata": {},
   "outputs": [],
   "source": [
    "# Set path for processed data\n",
    "processed_folder = 'data/processed'\n",
    "if not os.path.exists(processed_folder):\n",
    "    os.makedirs(processed_folder)\n",
    "    \n",
    "test_df.to_csv(f'{processed_folder}/test.csv', index=False)"
   ]
  },
  {
   "cell_type": "code",
   "execution_count": 16,
   "metadata": {},
   "outputs": [],
   "source": [
    "# Combine X_train and y_train together to save as processed train set\n",
    "y_train_df = pd.DataFrame(y_train, columns=['TX_FRAUD'])\n",
    "train_processed = pd.concat([X_train, y_train_df], axis=1)\n",
    "train_processed.to_csv(f'{processed_folder}/train.csv', index=False)"
   ]
  }
 ],
 "metadata": {
  "kernelspec": {
   "display_name": "Python 3",
   "language": "python",
   "name": "python3"
  },
  "language_info": {
   "codemirror_mode": {
    "name": "ipython",
    "version": 3
   },
   "file_extension": ".py",
   "mimetype": "text/x-python",
   "name": "python",
   "nbconvert_exporter": "python",
   "pygments_lexer": "ipython3",
   "version": "3.8.3"
  }
 },
 "nbformat": 4,
 "nbformat_minor": 4
}
