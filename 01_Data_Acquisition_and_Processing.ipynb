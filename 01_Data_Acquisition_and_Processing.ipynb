{
 "cells": [
  {
   "cell_type": "markdown",
   "metadata": {},
   "source": [
    "# Credit Card Fraud Detection with AutoXGB\n",
    "## 1. Data Acquisition and Processing\n",
    "___"
   ]
  },
  {
   "cell_type": "markdown",
   "metadata": {},
   "source": [
    "### (i) Setup dependencies and dataset"
   ]
  },
  {
   "cell_type": "code",
   "execution_count": 1,
   "metadata": {},
   "outputs": [],
   "source": [
    "# Library imports\n",
    "import os\n",
    "import pandas as pd\n",
    "import numpy as np\n",
    "import matplotlib.pyplot as plt\n",
    "import math\n",
    "import time\n",
    "import pickle\n",
    "import datetime\n",
    "import shutil\n",
    "\n",
    "from imblearn.over_sampling import SMOTE\n",
    "from imblearn.under_sampling import RandomUnderSampler\n",
    "from imblearn.pipeline import Pipeline\n",
    "\n",
    "import warnings\n",
    "warnings.filterwarnings('ignore')\n",
    "\n",
    "pd.set_option('display.max_columns', None)"
   ]
  },
  {
   "cell_type": "markdown",
   "metadata": {},
   "source": [
    "#### Download raw data\n",
    "- Data source: https://github.com/Fraud-Detection-Handbook/simulated-data-transformed"
   ]
  },
  {
   "cell_type": "code",
   "execution_count": 2,
   "metadata": {
    "scrolled": true
   },
   "outputs": [],
   "source": [
    "# Download raw data\n",
    "dst_folder = 'data/raw'\n",
    "\n",
    "if not os.path.exists(dst_folder):\n",
    "    os.makedirs(dst_folder)\n",
    "    !git clone https://github.com/Fraud-Detection-Handbook/simulated-data-transformed/ data/raw"
   ]
  },
  {
   "cell_type": "code",
   "execution_count": 3,
   "metadata": {},
   "outputs": [
    {
     "data": {
      "text/plain": [
       "['2018-04-01.pkl',\n",
       " '2018-04-02.pkl',\n",
       " '2018-04-03.pkl',\n",
       " '2018-04-04.pkl',\n",
       " '2018-04-05.pkl',\n",
       " '2018-04-06.pkl',\n",
       " '2018-04-07.pkl',\n",
       " '2018-04-08.pkl',\n",
       " '2018-04-09.pkl',\n",
       " '2018-04-10.pkl',\n",
       " '2018-04-11.pkl',\n",
       " '2018-04-12.pkl',\n",
       " '2018-04-13.pkl',\n",
       " '2018-04-14.pkl',\n",
       " '2018-04-15.pkl',\n",
       " '2018-04-16.pkl',\n",
       " '2018-04-17.pkl',\n",
       " '2018-04-18.pkl',\n",
       " '2018-04-19.pkl',\n",
       " '2018-04-20.pkl',\n",
       " '2018-04-21.pkl',\n",
       " '2018-04-22.pkl',\n",
       " '2018-04-23.pkl',\n",
       " '2018-04-24.pkl',\n",
       " '2018-04-25.pkl',\n",
       " '2018-04-26.pkl',\n",
       " '2018-04-27.pkl',\n",
       " '2018-04-28.pkl',\n",
       " '2018-04-29.pkl',\n",
       " '2018-04-30.pkl',\n",
       " '2018-05-01.pkl',\n",
       " '2018-05-02.pkl',\n",
       " '2018-05-03.pkl',\n",
       " '2018-05-04.pkl',\n",
       " '2018-05-05.pkl',\n",
       " '2018-05-06.pkl',\n",
       " '2018-05-07.pkl',\n",
       " '2018-05-08.pkl',\n",
       " '2018-05-09.pkl',\n",
       " '2018-05-10.pkl',\n",
       " '2018-05-11.pkl',\n",
       " '2018-05-12.pkl',\n",
       " '2018-05-13.pkl',\n",
       " '2018-05-14.pkl',\n",
       " '2018-05-15.pkl',\n",
       " '2018-05-16.pkl',\n",
       " '2018-05-17.pkl',\n",
       " '2018-05-18.pkl',\n",
       " '2018-05-19.pkl',\n",
       " '2018-05-20.pkl',\n",
       " '2018-05-21.pkl',\n",
       " '2018-05-22.pkl',\n",
       " '2018-05-23.pkl',\n",
       " '2018-05-24.pkl',\n",
       " '2018-05-25.pkl',\n",
       " '2018-05-26.pkl',\n",
       " '2018-05-27.pkl',\n",
       " '2018-05-28.pkl',\n",
       " '2018-05-29.pkl',\n",
       " '2018-05-30.pkl',\n",
       " '2018-05-31.pkl',\n",
       " '2018-06-01.pkl',\n",
       " '2018-06-02.pkl',\n",
       " '2018-06-03.pkl',\n",
       " '2018-06-04.pkl',\n",
       " '2018-06-05.pkl',\n",
       " '2018-06-06.pkl',\n",
       " '2018-06-07.pkl',\n",
       " '2018-06-08.pkl',\n",
       " '2018-06-09.pkl',\n",
       " '2018-06-10.pkl',\n",
       " '2018-06-11.pkl',\n",
       " '2018-06-12.pkl',\n",
       " '2018-06-13.pkl',\n",
       " '2018-06-14.pkl',\n",
       " '2018-06-15.pkl',\n",
       " '2018-06-16.pkl',\n",
       " '2018-06-17.pkl',\n",
       " '2018-06-18.pkl',\n",
       " '2018-06-19.pkl',\n",
       " '2018-06-20.pkl',\n",
       " '2018-06-21.pkl',\n",
       " '2018-06-22.pkl',\n",
       " '2018-06-23.pkl',\n",
       " '2018-06-24.pkl',\n",
       " '2018-06-25.pkl',\n",
       " '2018-06-26.pkl',\n",
       " '2018-06-27.pkl',\n",
       " '2018-06-28.pkl',\n",
       " '2018-06-29.pkl',\n",
       " '2018-06-30.pkl',\n",
       " '2018-07-01.pkl',\n",
       " '2018-07-02.pkl',\n",
       " '2018-07-03.pkl',\n",
       " '2018-07-04.pkl',\n",
       " '2018-07-05.pkl',\n",
       " '2018-07-06.pkl',\n",
       " '2018-07-07.pkl',\n",
       " '2018-07-08.pkl',\n",
       " '2018-07-09.pkl',\n",
       " '2018-07-10.pkl',\n",
       " '2018-07-11.pkl',\n",
       " '2018-07-12.pkl',\n",
       " '2018-07-13.pkl',\n",
       " '2018-07-14.pkl',\n",
       " '2018-07-15.pkl',\n",
       " '2018-07-16.pkl',\n",
       " '2018-07-17.pkl',\n",
       " '2018-07-18.pkl',\n",
       " '2018-07-19.pkl',\n",
       " '2018-07-20.pkl',\n",
       " '2018-07-21.pkl',\n",
       " '2018-07-22.pkl',\n",
       " '2018-07-23.pkl',\n",
       " '2018-07-24.pkl',\n",
       " '2018-07-25.pkl',\n",
       " '2018-07-26.pkl',\n",
       " '2018-07-27.pkl',\n",
       " '2018-07-28.pkl',\n",
       " '2018-07-29.pkl',\n",
       " '2018-07-30.pkl',\n",
       " '2018-07-31.pkl',\n",
       " '2018-08-01.pkl',\n",
       " '2018-08-02.pkl',\n",
       " '2018-08-03.pkl',\n",
       " '2018-08-04.pkl',\n",
       " '2018-08-05.pkl',\n",
       " '2018-08-06.pkl',\n",
       " '2018-08-07.pkl',\n",
       " '2018-08-08.pkl',\n",
       " '2018-08-09.pkl',\n",
       " '2018-08-10.pkl',\n",
       " '2018-08-11.pkl',\n",
       " '2018-08-12.pkl',\n",
       " '2018-08-13.pkl',\n",
       " '2018-08-14.pkl',\n",
       " '2018-08-15.pkl',\n",
       " '2018-08-16.pkl',\n",
       " '2018-08-17.pkl',\n",
       " '2018-08-18.pkl',\n",
       " '2018-08-19.pkl',\n",
       " '2018-08-20.pkl',\n",
       " '2018-08-21.pkl',\n",
       " '2018-08-22.pkl',\n",
       " '2018-08-23.pkl',\n",
       " '2018-08-24.pkl',\n",
       " '2018-08-25.pkl',\n",
       " '2018-08-26.pkl',\n",
       " '2018-08-27.pkl',\n",
       " '2018-08-28.pkl',\n",
       " '2018-08-29.pkl',\n",
       " '2018-08-30.pkl',\n",
       " '2018-08-31.pkl',\n",
       " '2018-09-01.pkl',\n",
       " '2018-09-02.pkl',\n",
       " '2018-09-03.pkl',\n",
       " '2018-09-04.pkl',\n",
       " '2018-09-05.pkl',\n",
       " '2018-09-06.pkl',\n",
       " '2018-09-07.pkl',\n",
       " '2018-09-08.pkl',\n",
       " '2018-09-09.pkl',\n",
       " '2018-09-10.pkl',\n",
       " '2018-09-11.pkl',\n",
       " '2018-09-12.pkl',\n",
       " '2018-09-13.pkl',\n",
       " '2018-09-14.pkl',\n",
       " '2018-09-15.pkl',\n",
       " '2018-09-16.pkl',\n",
       " '2018-09-17.pkl',\n",
       " '2018-09-18.pkl',\n",
       " '2018-09-19.pkl',\n",
       " '2018-09-20.pkl',\n",
       " '2018-09-21.pkl',\n",
       " '2018-09-22.pkl',\n",
       " '2018-09-23.pkl',\n",
       " '2018-09-24.pkl',\n",
       " '2018-09-25.pkl',\n",
       " '2018-09-26.pkl',\n",
       " '2018-09-27.pkl',\n",
       " '2018-09-28.pkl',\n",
       " '2018-09-29.pkl',\n",
       " '2018-09-30.pkl']"
      ]
     },
     "execution_count": 3,
     "metadata": {},
     "output_type": "execute_result"
    }
   ],
   "source": [
    "os.listdir(f'{dst_folder}/data')"
   ]
  },
  {
   "cell_type": "markdown",
   "metadata": {},
   "source": [
    "#### Create train and test datasets\n",
    "- ~4 month period for **train** set: 2018-05-01 to 2018-09-10\n",
    "- 1 week Feedback Delay between train and test set: 2018-09-11 to 2017-09-17\n",
    "- 1 week period for **test** set: 2018-09-18 to 2018-09-24\n",
    "\n",
    "*Details on Feedback Delay Period*\n",
    "- We choose our test set to take place one week after the last transaction of the training set. In a fraud detection context, this period separating the training and test set is referred to as the delay period or feedback delay. \n",
    "- It accounts for the fact that, in a real-world fraud detection system, the label of a transaction (fraudulent or genuine) is only known after a customer complaint, or thanks to the result of a fraud investigation. \n",
    "- Therefore, in a realistic scenario, the annotated data available to train a model and start making prediction for a given day are anterior to that day minus the delay period. \n",
    "- A one-week delay is, to a first approximation, a reasonable basis. From experience, statistics generally show that most of the feedback becomes available after a one week delay and empirically, it is also the point where the negative effect of considering that zero feedback is available before and the positive effect of considering that all the feedback is available after cancel each other out."
   ]
  },
  {
   "cell_type": "code",
   "execution_count": 4,
   "metadata": {},
   "outputs": [],
   "source": [
    "# Define date range\n",
    "train_date_range = pd.date_range('2018-05-01', '2018-09-10', freq='d').strftime('%Y-%m-%d').tolist()\n",
    "test_date_range = pd.date_range('2018-09-18', '2018-09-24', freq='d').strftime('%Y-%m-%d').tolist()"
   ]
  },
  {
   "cell_type": "code",
   "execution_count": 5,
   "metadata": {},
   "outputs": [
    {
     "data": {
      "text/plain": [
       "1274331"
      ]
     },
     "execution_count": 5,
     "metadata": {},
     "output_type": "execute_result"
    }
   ],
   "source": [
    "# Generate train dataframe\n",
    "train_df = pd.DataFrame()\n",
    "for date in train_date_range:\n",
    "    df = pd.read_pickle(f'{dst_folder}/data/{date}.pkl')\n",
    "    train_df = train_df.append(df)\n",
    "\n",
    "len(train_df)"
   ]
  },
  {
   "cell_type": "code",
   "execution_count": 6,
   "metadata": {},
   "outputs": [
    {
     "data": {
      "text/plain": [
       "67416"
      ]
     },
     "execution_count": 6,
     "metadata": {},
     "output_type": "execute_result"
    }
   ],
   "source": [
    "# Generate test dataframe\n",
    "test_df = pd.DataFrame()\n",
    "for date in test_date_range:\n",
    "    df = pd.read_pickle(f'{dst_folder}/data/{date}.pkl')\n",
    "    test_df = test_df.append(df)\n",
    "\n",
    "len(test_df)"
   ]
  },
  {
   "cell_type": "markdown",
   "metadata": {},
   "source": [
    "___\n",
    "### (iii) Data-Preprocessing\n",
    "- Baseline feature transformation already done on the simulated raw dataset based on: https://fraud-detection-handbook.github.io/fraud-detection-handbook/Chapter_3_GettingStarted/BaselineFeatureTransformation.html"
   ]
  },
  {
   "cell_type": "code",
   "execution_count": 7,
   "metadata": {},
   "outputs": [
    {
     "data": {
      "text/html": [
       "<div>\n",
       "<style scoped>\n",
       "    .dataframe tbody tr th:only-of-type {\n",
       "        vertical-align: middle;\n",
       "    }\n",
       "\n",
       "    .dataframe tbody tr th {\n",
       "        vertical-align: top;\n",
       "    }\n",
       "\n",
       "    .dataframe thead th {\n",
       "        text-align: right;\n",
       "    }\n",
       "</style>\n",
       "<table border=\"1\" class=\"dataframe\">\n",
       "  <thead>\n",
       "    <tr style=\"text-align: right;\">\n",
       "      <th></th>\n",
       "      <th>TRANSACTION_ID</th>\n",
       "      <th>TX_DATETIME</th>\n",
       "      <th>CUSTOMER_ID</th>\n",
       "      <th>TERMINAL_ID</th>\n",
       "      <th>TX_AMOUNT</th>\n",
       "      <th>TX_TIME_SECONDS</th>\n",
       "      <th>TX_TIME_DAYS</th>\n",
       "      <th>TX_FRAUD</th>\n",
       "      <th>TX_FRAUD_SCENARIO</th>\n",
       "      <th>TX_DURING_WEEKEND</th>\n",
       "      <th>TX_DURING_NIGHT</th>\n",
       "      <th>CUSTOMER_ID_NB_TX_1DAY_WINDOW</th>\n",
       "      <th>CUSTOMER_ID_AVG_AMOUNT_1DAY_WINDOW</th>\n",
       "      <th>CUSTOMER_ID_NB_TX_7DAY_WINDOW</th>\n",
       "      <th>CUSTOMER_ID_AVG_AMOUNT_7DAY_WINDOW</th>\n",
       "      <th>CUSTOMER_ID_NB_TX_30DAY_WINDOW</th>\n",
       "      <th>CUSTOMER_ID_AVG_AMOUNT_30DAY_WINDOW</th>\n",
       "      <th>TERMINAL_ID_NB_TX_1DAY_WINDOW</th>\n",
       "      <th>TERMINAL_ID_RISK_1DAY_WINDOW</th>\n",
       "      <th>TERMINAL_ID_NB_TX_7DAY_WINDOW</th>\n",
       "      <th>TERMINAL_ID_RISK_7DAY_WINDOW</th>\n",
       "      <th>TERMINAL_ID_NB_TX_30DAY_WINDOW</th>\n",
       "      <th>TERMINAL_ID_RISK_30DAY_WINDOW</th>\n",
       "    </tr>\n",
       "  </thead>\n",
       "  <tbody>\n",
       "    <tr>\n",
       "      <th>288062</th>\n",
       "      <td>288062</td>\n",
       "      <td>2018-05-01 00:01:21</td>\n",
       "      <td>3546</td>\n",
       "      <td>2944</td>\n",
       "      <td>18.71</td>\n",
       "      <td>2592081</td>\n",
       "      <td>30</td>\n",
       "      <td>0</td>\n",
       "      <td>0</td>\n",
       "      <td>0</td>\n",
       "      <td>1</td>\n",
       "      <td>3.0</td>\n",
       "      <td>38.070000</td>\n",
       "      <td>17.0</td>\n",
       "      <td>44.430588</td>\n",
       "      <td>89.0</td>\n",
       "      <td>42.628652</td>\n",
       "      <td>0.0</td>\n",
       "      <td>0.0</td>\n",
       "      <td>12.0</td>\n",
       "      <td>0.0</td>\n",
       "      <td>36.0</td>\n",
       "      <td>0.0</td>\n",
       "    </tr>\n",
       "    <tr>\n",
       "      <th>288063</th>\n",
       "      <td>288063</td>\n",
       "      <td>2018-05-01 00:01:48</td>\n",
       "      <td>206</td>\n",
       "      <td>3521</td>\n",
       "      <td>18.60</td>\n",
       "      <td>2592108</td>\n",
       "      <td>30</td>\n",
       "      <td>0</td>\n",
       "      <td>0</td>\n",
       "      <td>0</td>\n",
       "      <td>1</td>\n",
       "      <td>6.0</td>\n",
       "      <td>29.988333</td>\n",
       "      <td>26.0</td>\n",
       "      <td>27.461538</td>\n",
       "      <td>104.0</td>\n",
       "      <td>26.104038</td>\n",
       "      <td>6.0</td>\n",
       "      <td>0.0</td>\n",
       "      <td>11.0</td>\n",
       "      <td>0.0</td>\n",
       "      <td>38.0</td>\n",
       "      <td>0.0</td>\n",
       "    </tr>\n",
       "    <tr>\n",
       "      <th>288064</th>\n",
       "      <td>288064</td>\n",
       "      <td>2018-05-01 00:02:22</td>\n",
       "      <td>2610</td>\n",
       "      <td>4470</td>\n",
       "      <td>66.67</td>\n",
       "      <td>2592142</td>\n",
       "      <td>30</td>\n",
       "      <td>0</td>\n",
       "      <td>0</td>\n",
       "      <td>0</td>\n",
       "      <td>1</td>\n",
       "      <td>6.0</td>\n",
       "      <td>46.033333</td>\n",
       "      <td>26.0</td>\n",
       "      <td>46.767692</td>\n",
       "      <td>110.0</td>\n",
       "      <td>50.019727</td>\n",
       "      <td>1.0</td>\n",
       "      <td>0.0</td>\n",
       "      <td>5.0</td>\n",
       "      <td>0.0</td>\n",
       "      <td>22.0</td>\n",
       "      <td>0.0</td>\n",
       "    </tr>\n",
       "    <tr>\n",
       "      <th>288065</th>\n",
       "      <td>288065</td>\n",
       "      <td>2018-05-01 00:03:15</td>\n",
       "      <td>4578</td>\n",
       "      <td>1520</td>\n",
       "      <td>79.41</td>\n",
       "      <td>2592195</td>\n",
       "      <td>30</td>\n",
       "      <td>0</td>\n",
       "      <td>0</td>\n",
       "      <td>0</td>\n",
       "      <td>1</td>\n",
       "      <td>1.0</td>\n",
       "      <td>79.410000</td>\n",
       "      <td>17.0</td>\n",
       "      <td>83.097647</td>\n",
       "      <td>69.0</td>\n",
       "      <td>91.713188</td>\n",
       "      <td>0.0</td>\n",
       "      <td>0.0</td>\n",
       "      <td>8.0</td>\n",
       "      <td>0.0</td>\n",
       "      <td>33.0</td>\n",
       "      <td>0.0</td>\n",
       "    </tr>\n",
       "    <tr>\n",
       "      <th>288066</th>\n",
       "      <td>288066</td>\n",
       "      <td>2018-05-01 00:03:51</td>\n",
       "      <td>1246</td>\n",
       "      <td>7809</td>\n",
       "      <td>52.08</td>\n",
       "      <td>2592231</td>\n",
       "      <td>30</td>\n",
       "      <td>0</td>\n",
       "      <td>0</td>\n",
       "      <td>0</td>\n",
       "      <td>1</td>\n",
       "      <td>9.0</td>\n",
       "      <td>54.158889</td>\n",
       "      <td>35.0</td>\n",
       "      <td>52.931714</td>\n",
       "      <td>130.0</td>\n",
       "      <td>55.928385</td>\n",
       "      <td>0.0</td>\n",
       "      <td>0.0</td>\n",
       "      <td>6.0</td>\n",
       "      <td>0.0</td>\n",
       "      <td>19.0</td>\n",
       "      <td>0.0</td>\n",
       "    </tr>\n",
       "  </tbody>\n",
       "</table>\n",
       "</div>"
      ],
      "text/plain": [
       "        TRANSACTION_ID         TX_DATETIME  CUSTOMER_ID  TERMINAL_ID  \\\n",
       "288062          288062 2018-05-01 00:01:21         3546         2944   \n",
       "288063          288063 2018-05-01 00:01:48          206         3521   \n",
       "288064          288064 2018-05-01 00:02:22         2610         4470   \n",
       "288065          288065 2018-05-01 00:03:15         4578         1520   \n",
       "288066          288066 2018-05-01 00:03:51         1246         7809   \n",
       "\n",
       "        TX_AMOUNT  TX_TIME_SECONDS  TX_TIME_DAYS  TX_FRAUD  TX_FRAUD_SCENARIO  \\\n",
       "288062      18.71          2592081            30         0                  0   \n",
       "288063      18.60          2592108            30         0                  0   \n",
       "288064      66.67          2592142            30         0                  0   \n",
       "288065      79.41          2592195            30         0                  0   \n",
       "288066      52.08          2592231            30         0                  0   \n",
       "\n",
       "        TX_DURING_WEEKEND  TX_DURING_NIGHT  CUSTOMER_ID_NB_TX_1DAY_WINDOW  \\\n",
       "288062                  0                1                            3.0   \n",
       "288063                  0                1                            6.0   \n",
       "288064                  0                1                            6.0   \n",
       "288065                  0                1                            1.0   \n",
       "288066                  0                1                            9.0   \n",
       "\n",
       "        CUSTOMER_ID_AVG_AMOUNT_1DAY_WINDOW  CUSTOMER_ID_NB_TX_7DAY_WINDOW  \\\n",
       "288062                           38.070000                           17.0   \n",
       "288063                           29.988333                           26.0   \n",
       "288064                           46.033333                           26.0   \n",
       "288065                           79.410000                           17.0   \n",
       "288066                           54.158889                           35.0   \n",
       "\n",
       "        CUSTOMER_ID_AVG_AMOUNT_7DAY_WINDOW  CUSTOMER_ID_NB_TX_30DAY_WINDOW  \\\n",
       "288062                           44.430588                            89.0   \n",
       "288063                           27.461538                           104.0   \n",
       "288064                           46.767692                           110.0   \n",
       "288065                           83.097647                            69.0   \n",
       "288066                           52.931714                           130.0   \n",
       "\n",
       "        CUSTOMER_ID_AVG_AMOUNT_30DAY_WINDOW  TERMINAL_ID_NB_TX_1DAY_WINDOW  \\\n",
       "288062                            42.628652                            0.0   \n",
       "288063                            26.104038                            6.0   \n",
       "288064                            50.019727                            1.0   \n",
       "288065                            91.713188                            0.0   \n",
       "288066                            55.928385                            0.0   \n",
       "\n",
       "        TERMINAL_ID_RISK_1DAY_WINDOW  TERMINAL_ID_NB_TX_7DAY_WINDOW  \\\n",
       "288062                           0.0                           12.0   \n",
       "288063                           0.0                           11.0   \n",
       "288064                           0.0                            5.0   \n",
       "288065                           0.0                            8.0   \n",
       "288066                           0.0                            6.0   \n",
       "\n",
       "        TERMINAL_ID_RISK_7DAY_WINDOW  TERMINAL_ID_NB_TX_30DAY_WINDOW  \\\n",
       "288062                           0.0                            36.0   \n",
       "288063                           0.0                            38.0   \n",
       "288064                           0.0                            22.0   \n",
       "288065                           0.0                            33.0   \n",
       "288066                           0.0                            19.0   \n",
       "\n",
       "        TERMINAL_ID_RISK_30DAY_WINDOW  \n",
       "288062                            0.0  \n",
       "288063                            0.0  \n",
       "288064                            0.0  \n",
       "288065                            0.0  \n",
       "288066                            0.0  "
      ]
     },
     "execution_count": 7,
     "metadata": {},
     "output_type": "execute_result"
    }
   ],
   "source": [
    "train_df.head()"
   ]
  },
  {
   "cell_type": "code",
   "execution_count": 8,
   "metadata": {},
   "outputs": [],
   "source": [
    "target = 'TX_FRAUD'\n",
    "\n",
    "predictors = ['TX_AMOUNT','TX_DURING_WEEKEND', 'TX_DURING_NIGHT', \n",
    "              'CUSTOMER_ID_NB_TX_1DAY_WINDOW',\n",
    "              'CUSTOMER_ID_AVG_AMOUNT_1DAY_WINDOW', 'CUSTOMER_ID_NB_TX_7DAY_WINDOW',\n",
    "              'CUSTOMER_ID_AVG_AMOUNT_7DAY_WINDOW', 'CUSTOMER_ID_NB_TX_30DAY_WINDOW',\n",
    "              'CUSTOMER_ID_AVG_AMOUNT_30DAY_WINDOW', 'TERMINAL_ID_NB_TX_1DAY_WINDOW',\n",
    "              'TERMINAL_ID_RISK_1DAY_WINDOW', 'TERMINAL_ID_NB_TX_7DAY_WINDOW',\n",
    "              'TERMINAL_ID_RISK_7DAY_WINDOW', 'TERMINAL_ID_NB_TX_30DAY_WINDOW',\n",
    "              'TERMINAL_ID_RISK_30DAY_WINDOW']"
   ]
  },
  {
   "cell_type": "code",
   "execution_count": 9,
   "metadata": {},
   "outputs": [],
   "source": [
    "# Keep only predictor and target columns\n",
    "train_df = train_df[predictors + [target]]\n",
    "test_df = test_df[predictors + [target]]"
   ]
  },
  {
   "cell_type": "code",
   "execution_count": 10,
   "metadata": {},
   "outputs": [
    {
     "data": {
      "text/plain": [
       "0    1263048\n",
       "1      11283\n",
       "Name: TX_FRAUD, dtype: int64"
      ]
     },
     "execution_count": 10,
     "metadata": {},
     "output_type": "execute_result"
    }
   ],
   "source": [
    "# Assess degree of imbalance in target label\n",
    "train_df[target].value_counts()"
   ]
  },
  {
   "cell_type": "markdown",
   "metadata": {},
   "source": [
    "Significant degree of target label imbalance (Fraud cases only 0.9% of entire dataset)"
   ]
  },
  {
   "cell_type": "markdown",
   "metadata": {},
   "source": [
    "#### Perform sampling strategy\n",
    "1. SMOTE oversampling to make minority labels 10% of total dataset, then\n",
    "2. Random undersampling to make minority 50% of majority class\n",
    "\n",
    "Final sampled ratio will be majority:minority = 2:1"
   ]
  },
  {
   "cell_type": "code",
   "execution_count": 11,
   "metadata": {},
   "outputs": [],
   "source": [
    "# Define sampling techniques\n",
    "over = SMOTE(sampling_strategy=0.1)\n",
    "under = RandomUnderSampler(sampling_strategy=0.5)\n",
    "\n",
    "steps = [('over', over), ('under', under)]\n",
    "pipeline = Pipeline(steps=steps)"
   ]
  },
  {
   "cell_type": "code",
   "execution_count": 12,
   "metadata": {},
   "outputs": [],
   "source": [
    "# Rearrange dataset into X, y\n",
    "X_train = train_df[predictors]\n",
    "y_train = train_df[target]"
   ]
  },
  {
   "cell_type": "code",
   "execution_count": 13,
   "metadata": {},
   "outputs": [],
   "source": [
    "# Execute sampling strategy\n",
    "X_train, y_train = pipeline.fit_resample(X_train, y_train)"
   ]
  },
  {
   "cell_type": "code",
   "execution_count": 14,
   "metadata": {},
   "outputs": [
    {
     "data": {
      "text/plain": [
       "378912"
      ]
     },
     "execution_count": 14,
     "metadata": {},
     "output_type": "execute_result"
    }
   ],
   "source": [
    "len(X_train)"
   ]
  },
  {
   "cell_type": "code",
   "execution_count": 15,
   "metadata": {},
   "outputs": [
    {
     "data": {
      "text/plain": [
       "0    252608\n",
       "1    126304\n",
       "Name: TX_FRAUD, dtype: int64"
      ]
     },
     "execution_count": 15,
     "metadata": {},
     "output_type": "execute_result"
    }
   ],
   "source": [
    "y_train.value_counts()"
   ]
  },
  {
   "cell_type": "markdown",
   "metadata": {},
   "source": [
    "### Save Processed Datasets"
   ]
  },
  {
   "cell_type": "code",
   "execution_count": 16,
   "metadata": {},
   "outputs": [],
   "source": [
    "processed_folder = 'data/processed'\n",
    "if not os.path.exists(processed_folder):\n",
    "    os.makedirs(processed_folder)\n",
    "    \n",
    "test_df.to_csv(f'{processed_folder}/test.csv', index=False)"
   ]
  },
  {
   "cell_type": "code",
   "execution_count": 17,
   "metadata": {},
   "outputs": [],
   "source": [
    "# Combine X_train and y_train together for saving as processed train dataset\n",
    "y_train_df = pd.DataFrame(y_train, columns=['TX_FRAUD'])\n",
    "train_processed = pd.concat([X_train, y_train_df], axis=1)\n",
    "train_processed.to_csv(f'{processed_folder}/train.csv', index=False)"
   ]
  },
  {
   "cell_type": "markdown",
   "metadata": {},
   "source": [
    "#### References\n",
    "- https://www.kaggle.com/mlg-ulb/creditcardfraud\n",
    "- https://fraud-detection-handbook.github.io/fraud-detection-handbook/Chapter_References/shared_functions.html\n",
    "- https://www.kaggle.com/janiobachmann/credit-fraud-dealing-with-imbalanced-datasets\n",
    "- https://github.com/Fraud-Detection-Handbook/simulated-data-raw/tree/main/data"
   ]
  }
 ],
 "metadata": {
  "kernelspec": {
   "display_name": "Python 3",
   "language": "python",
   "name": "python3"
  },
  "language_info": {
   "codemirror_mode": {
    "name": "ipython",
    "version": 3
   },
   "file_extension": ".py",
   "mimetype": "text/x-python",
   "name": "python",
   "nbconvert_exporter": "python",
   "pygments_lexer": "ipython3",
   "version": "3.8.3"
  }
 },
 "nbformat": 4,
 "nbformat_minor": 4
}
