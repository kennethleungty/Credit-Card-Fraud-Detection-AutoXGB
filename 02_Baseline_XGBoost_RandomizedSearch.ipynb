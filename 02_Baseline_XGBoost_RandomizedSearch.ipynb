{
 "cells": [
  {
   "cell_type": "markdown",
   "metadata": {
    "id": "Sm6z56ipwRRM"
   },
   "source": [
    "# Credit Card Fraud Detection with AutoXGB\n",
    "\n",
    "## Part 2 - Baseline Model: XGBoost with RandomizedSearchCV\n",
    "___"
   ]
  },
  {
   "cell_type": "markdown",
   "metadata": {
    "id": "6JEReauUwRRQ"
   },
   "source": [
    "### Import dependencies and data"
   ]
  },
  {
   "cell_type": "code",
   "execution_count": 1,
   "metadata": {
    "colab": {
     "base_uri": "https://localhost:8080/"
    },
    "id": "W8O5Zbh_BvFr",
    "outputId": "3f21e346-09bf-4953-e2f7-028f2ec06104"
   },
   "outputs": [],
   "source": [
    "# !pip install xgboost --upgrade"
   ]
  },
  {
   "cell_type": "code",
   "execution_count": 2,
   "metadata": {
    "id": "8WxYC7WlwRRR"
   },
   "outputs": [],
   "source": [
    "import numpy as np\n",
    "import pandas as pd\n",
    "import matplotlib.pyplot as plt\n",
    "\n",
    "import xgboost as xgb\n",
    "from xgboost import XGBClassifier, plot_importance\n",
    "\n",
    "import sklearn.metrics as metrics\n",
    "from sklearn.model_selection import RandomizedSearchCV\n",
    "\n",
    "import warnings\n",
    "warnings.filterwarnings(\"ignore\")\n",
    "\n",
    "pd.set_option('display.max_columns', None)"
   ]
  },
  {
   "cell_type": "code",
   "execution_count": 3,
   "metadata": {
    "colab": {
     "base_uri": "https://localhost:8080/"
    },
    "id": "IGsJm9e7Y3A1",
    "outputId": "de83ef5d-bbcd-4a01-e9d9-17a2968a74d2"
   },
   "outputs": [
    {
     "name": "stdout",
     "output_type": "stream",
     "text": [
      "1.5.0\n"
     ]
    }
   ],
   "source": [
    "print(xgb.__version__)"
   ]
  },
  {
   "cell_type": "markdown",
   "metadata": {
    "id": "bSkc2JlqRJAJ"
   },
   "source": [
    "If you are running this notebook on Colab (which I did), make sure to upgrade the XGBoost version (default version on Colab is 0.90) using `!pip install xgboost --upgrade`"
   ]
  },
  {
   "cell_type": "code",
   "execution_count": 4,
   "metadata": {
    "id": "711szWsJwRRT"
   },
   "outputs": [],
   "source": [
    "# Import processed datasets\n",
    "main_df = pd.read_csv('data/processed/train.csv')\n",
    "test_df = pd.read_csv('data/processed/test.csv')"
   ]
  },
  {
   "cell_type": "code",
   "execution_count": 5,
   "metadata": {
    "colab": {
     "base_uri": "https://localhost:8080/",
     "height": 226
    },
    "id": "Dnx-JiJOwptF",
    "outputId": "3b60ed51-a5d7-44b8-a476-04b8432b69f2"
   },
   "outputs": [
    {
     "data": {
      "text/html": [
       "<div>\n",
       "<style scoped>\n",
       "    .dataframe tbody tr th:only-of-type {\n",
       "        vertical-align: middle;\n",
       "    }\n",
       "\n",
       "    .dataframe tbody tr th {\n",
       "        vertical-align: top;\n",
       "    }\n",
       "\n",
       "    .dataframe thead th {\n",
       "        text-align: right;\n",
       "    }\n",
       "</style>\n",
       "<table border=\"1\" class=\"dataframe\">\n",
       "  <thead>\n",
       "    <tr style=\"text-align: right;\">\n",
       "      <th></th>\n",
       "      <th>TX_AMOUNT</th>\n",
       "      <th>TX_DURING_WEEKEND</th>\n",
       "      <th>TX_DURING_NIGHT</th>\n",
       "      <th>CUSTOMER_ID_NB_TX_1DAY_WINDOW</th>\n",
       "      <th>CUSTOMER_ID_AVG_AMOUNT_1DAY_WINDOW</th>\n",
       "      <th>CUSTOMER_ID_NB_TX_7DAY_WINDOW</th>\n",
       "      <th>CUSTOMER_ID_AVG_AMOUNT_7DAY_WINDOW</th>\n",
       "      <th>CUSTOMER_ID_NB_TX_30DAY_WINDOW</th>\n",
       "      <th>CUSTOMER_ID_AVG_AMOUNT_30DAY_WINDOW</th>\n",
       "      <th>TERMINAL_ID_NB_TX_1DAY_WINDOW</th>\n",
       "      <th>TERMINAL_ID_RISK_1DAY_WINDOW</th>\n",
       "      <th>TERMINAL_ID_NB_TX_7DAY_WINDOW</th>\n",
       "      <th>TERMINAL_ID_RISK_7DAY_WINDOW</th>\n",
       "      <th>TERMINAL_ID_NB_TX_30DAY_WINDOW</th>\n",
       "      <th>TERMINAL_ID_RISK_30DAY_WINDOW</th>\n",
       "      <th>TX_FRAUD</th>\n",
       "    </tr>\n",
       "  </thead>\n",
       "  <tbody>\n",
       "    <tr>\n",
       "      <th>0</th>\n",
       "      <td>27.96</td>\n",
       "      <td>0</td>\n",
       "      <td>1</td>\n",
       "      <td>6.0</td>\n",
       "      <td>27.075000</td>\n",
       "      <td>27.0</td>\n",
       "      <td>29.554815</td>\n",
       "      <td>124.0</td>\n",
       "      <td>29.438871</td>\n",
       "      <td>3.0</td>\n",
       "      <td>0.0</td>\n",
       "      <td>13.0</td>\n",
       "      <td>0.0</td>\n",
       "      <td>38.0</td>\n",
       "      <td>0.0</td>\n",
       "      <td>0</td>\n",
       "    </tr>\n",
       "    <tr>\n",
       "      <th>1</th>\n",
       "      <td>156.79</td>\n",
       "      <td>0</td>\n",
       "      <td>1</td>\n",
       "      <td>7.0</td>\n",
       "      <td>96.827143</td>\n",
       "      <td>30.0</td>\n",
       "      <td>101.335667</td>\n",
       "      <td>100.0</td>\n",
       "      <td>103.366900</td>\n",
       "      <td>3.0</td>\n",
       "      <td>0.0</td>\n",
       "      <td>9.0</td>\n",
       "      <td>0.0</td>\n",
       "      <td>39.0</td>\n",
       "      <td>0.0</td>\n",
       "      <td>0</td>\n",
       "    </tr>\n",
       "    <tr>\n",
       "      <th>2</th>\n",
       "      <td>73.69</td>\n",
       "      <td>1</td>\n",
       "      <td>0</td>\n",
       "      <td>2.0</td>\n",
       "      <td>79.280000</td>\n",
       "      <td>8.0</td>\n",
       "      <td>57.468750</td>\n",
       "      <td>72.0</td>\n",
       "      <td>59.144028</td>\n",
       "      <td>1.0</td>\n",
       "      <td>0.0</td>\n",
       "      <td>9.0</td>\n",
       "      <td>0.0</td>\n",
       "      <td>27.0</td>\n",
       "      <td>0.0</td>\n",
       "      <td>0</td>\n",
       "    </tr>\n",
       "    <tr>\n",
       "      <th>3</th>\n",
       "      <td>84.79</td>\n",
       "      <td>0</td>\n",
       "      <td>0</td>\n",
       "      <td>3.0</td>\n",
       "      <td>72.053333</td>\n",
       "      <td>22.0</td>\n",
       "      <td>56.531364</td>\n",
       "      <td>82.0</td>\n",
       "      <td>62.831463</td>\n",
       "      <td>3.0</td>\n",
       "      <td>0.0</td>\n",
       "      <td>6.0</td>\n",
       "      <td>0.0</td>\n",
       "      <td>28.0</td>\n",
       "      <td>0.0</td>\n",
       "      <td>0</td>\n",
       "    </tr>\n",
       "    <tr>\n",
       "      <th>4</th>\n",
       "      <td>2.36</td>\n",
       "      <td>0</td>\n",
       "      <td>0</td>\n",
       "      <td>2.0</td>\n",
       "      <td>19.250000</td>\n",
       "      <td>7.0</td>\n",
       "      <td>24.541429</td>\n",
       "      <td>21.0</td>\n",
       "      <td>25.007143</td>\n",
       "      <td>2.0</td>\n",
       "      <td>0.0</td>\n",
       "      <td>2.0</td>\n",
       "      <td>0.0</td>\n",
       "      <td>17.0</td>\n",
       "      <td>0.0</td>\n",
       "      <td>0</td>\n",
       "    </tr>\n",
       "  </tbody>\n",
       "</table>\n",
       "</div>"
      ],
      "text/plain": [
       "   TX_AMOUNT  TX_DURING_WEEKEND  TX_DURING_NIGHT  \\\n",
       "0      27.96                  0                1   \n",
       "1     156.79                  0                1   \n",
       "2      73.69                  1                0   \n",
       "3      84.79                  0                0   \n",
       "4       2.36                  0                0   \n",
       "\n",
       "   CUSTOMER_ID_NB_TX_1DAY_WINDOW  CUSTOMER_ID_AVG_AMOUNT_1DAY_WINDOW  \\\n",
       "0                            6.0                           27.075000   \n",
       "1                            7.0                           96.827143   \n",
       "2                            2.0                           79.280000   \n",
       "3                            3.0                           72.053333   \n",
       "4                            2.0                           19.250000   \n",
       "\n",
       "   CUSTOMER_ID_NB_TX_7DAY_WINDOW  CUSTOMER_ID_AVG_AMOUNT_7DAY_WINDOW  \\\n",
       "0                           27.0                           29.554815   \n",
       "1                           30.0                          101.335667   \n",
       "2                            8.0                           57.468750   \n",
       "3                           22.0                           56.531364   \n",
       "4                            7.0                           24.541429   \n",
       "\n",
       "   CUSTOMER_ID_NB_TX_30DAY_WINDOW  CUSTOMER_ID_AVG_AMOUNT_30DAY_WINDOW  \\\n",
       "0                           124.0                            29.438871   \n",
       "1                           100.0                           103.366900   \n",
       "2                            72.0                            59.144028   \n",
       "3                            82.0                            62.831463   \n",
       "4                            21.0                            25.007143   \n",
       "\n",
       "   TERMINAL_ID_NB_TX_1DAY_WINDOW  TERMINAL_ID_RISK_1DAY_WINDOW  \\\n",
       "0                            3.0                           0.0   \n",
       "1                            3.0                           0.0   \n",
       "2                            1.0                           0.0   \n",
       "3                            3.0                           0.0   \n",
       "4                            2.0                           0.0   \n",
       "\n",
       "   TERMINAL_ID_NB_TX_7DAY_WINDOW  TERMINAL_ID_RISK_7DAY_WINDOW  \\\n",
       "0                           13.0                           0.0   \n",
       "1                            9.0                           0.0   \n",
       "2                            9.0                           0.0   \n",
       "3                            6.0                           0.0   \n",
       "4                            2.0                           0.0   \n",
       "\n",
       "   TERMINAL_ID_NB_TX_30DAY_WINDOW  TERMINAL_ID_RISK_30DAY_WINDOW  TX_FRAUD  \n",
       "0                            38.0                            0.0         0  \n",
       "1                            39.0                            0.0         0  \n",
       "2                            27.0                            0.0         0  \n",
       "3                            28.0                            0.0         0  \n",
       "4                            17.0                            0.0         0  "
      ]
     },
     "execution_count": 5,
     "metadata": {},
     "output_type": "execute_result"
    }
   ],
   "source": [
    "main_df.head()"
   ]
  },
  {
   "cell_type": "markdown",
   "metadata": {
    "id": "JvXsjiyLwRRU"
   },
   "source": [
    "### Data Preparation"
   ]
  },
  {
   "cell_type": "code",
   "execution_count": 6,
   "metadata": {
    "id": "755c4fCe9VQ_"
   },
   "outputs": [],
   "source": [
    "# Define target variable\n",
    "target = 'TX_FRAUD'"
   ]
  },
  {
   "cell_type": "code",
   "execution_count": 7,
   "metadata": {
    "colab": {
     "base_uri": "https://localhost:8080/"
    },
    "id": "LSqVUSMD1JnP",
    "outputId": "4269eb8f-a1df-49a8-bf94-ac1eb07b8865"
   },
   "outputs": [
    {
     "data": {
      "text/plain": [
       "0    136690\n",
       "1     68345\n",
       "Name: TX_FRAUD, dtype: int64"
      ]
     },
     "execution_count": 7,
     "metadata": {},
     "output_type": "execute_result"
    }
   ],
   "source": [
    "# View labels\n",
    "main_df[target].value_counts(dropna=False)"
   ]
  },
  {
   "cell_type": "code",
   "execution_count": 8,
   "metadata": {
    "id": "o7s9N7LkwRRU"
   },
   "outputs": [],
   "source": [
    "# Set X and y datasets\n",
    "X = main_df.drop(columns=target)\n",
    "y = main_df[target]"
   ]
  },
  {
   "cell_type": "markdown",
   "metadata": {
    "id": "oAQpDubZwRRV"
   },
   "source": [
    "### Run XGBoost Classification"
   ]
  },
  {
   "cell_type": "code",
   "execution_count": 9,
   "metadata": {
    "id": "pj9znW60wRRW"
   },
   "outputs": [],
   "source": [
    "# Set parameter grid\n",
    "xgb_params = {'max_depth': [3, 5, 6, 8, 9, 10, 11], # Maximum depth of a tree\n",
    "              'learning_rate': [0.01, 0.1, 0.2, 0.3, 0.5], # Step size shrinkage used in update to prevents overfitting\n",
    "              'subsample': np.arange(0.4, 1.0, 0.1),\n",
    "              'colsample_bytree': np.arange(0.3, 1.0, 0.1), # Number of features supplied to a tree\n",
    "              'colsample_bylevel': np.arange(0.3, 1.0, 0.1),\n",
    "              'n_estimators': np.arange(100, 600, 100),\n",
    "              'gamma': np.arange(0, 0.7, 0.1) }"
   ]
  },
  {
   "cell_type": "code",
   "execution_count": 12,
   "metadata": {
    "id": "_zqS3f1zwRRX"
   },
   "outputs": [],
   "source": [
    "# Create RandomizedSearchCV instance\n",
    "xgb_grid = RandomizedSearchCV(estimator=XGBClassifier(objective='binary:logistic', \n",
    "                                                      tree_method=\"gpu_hist\", # Use GPU\n",
    "                                                      random_state=42,\n",
    "                                                      eval_metric='logloss'), \n",
    "                              param_distributions=xgb_params, \n",
    "                              cv=5, \n",
    "                              verbose=2,\n",
    "                              n_iter=60,\n",
    "                              scoring='neg_log_loss') "
   ]
  },
  {
   "cell_type": "code",
   "execution_count": 14,
   "metadata": {
    "colab": {
     "base_uri": "https://localhost:8080/"
    },
    "id": "pTaRYKUTwRRY",
    "outputId": "2fc56dde-ef15-42e1-8900-e4f9ee8083f8"
   },
   "outputs": [
    {
     "name": "stdout",
     "output_type": "stream",
     "text": [
      "Fitting 5 folds for each of 60 candidates, totalling 300 fits\n",
      "[CV] END colsample_bylevel=0.9000000000000001, colsample_bytree=0.3, gamma=0.4, learning_rate=0.3, max_depth=5, n_estimators=100, subsample=0.5; total time=   1.0s\n",
      "[CV] END colsample_bylevel=0.9000000000000001, colsample_bytree=0.3, gamma=0.4, learning_rate=0.3, max_depth=5, n_estimators=100, subsample=0.5; total time=   0.9s\n",
      "[CV] END colsample_bylevel=0.9000000000000001, colsample_bytree=0.3, gamma=0.4, learning_rate=0.3, max_depth=5, n_estimators=100, subsample=0.5; total time=   0.8s\n",
      "[CV] END colsample_bylevel=0.9000000000000001, colsample_bytree=0.3, gamma=0.4, learning_rate=0.3, max_depth=5, n_estimators=100, subsample=0.5; total time=   0.9s\n",
      "[CV] END colsample_bylevel=0.9000000000000001, colsample_bytree=0.3, gamma=0.4, learning_rate=0.3, max_depth=5, n_estimators=100, subsample=0.5; total time=   0.8s\n",
      "[CV] END colsample_bylevel=0.5, colsample_bytree=0.3, gamma=0.2, learning_rate=0.01, max_depth=6, n_estimators=200, subsample=0.6; total time=   2.1s\n",
      "[CV] END colsample_bylevel=0.5, colsample_bytree=0.3, gamma=0.2, learning_rate=0.01, max_depth=6, n_estimators=200, subsample=0.6; total time=   2.1s\n",
      "[CV] END colsample_bylevel=0.5, colsample_bytree=0.3, gamma=0.2, learning_rate=0.01, max_depth=6, n_estimators=200, subsample=0.6; total time=   2.0s\n",
      "[CV] END colsample_bylevel=0.5, colsample_bytree=0.3, gamma=0.2, learning_rate=0.01, max_depth=6, n_estimators=200, subsample=0.6; total time=   2.1s\n",
      "[CV] END colsample_bylevel=0.5, colsample_bytree=0.3, gamma=0.2, learning_rate=0.01, max_depth=6, n_estimators=200, subsample=0.6; total time=   2.0s\n",
      "[CV] END colsample_bylevel=0.5, colsample_bytree=0.8000000000000003, gamma=0.2, learning_rate=0.01, max_depth=11, n_estimators=500, subsample=0.5; total time=  18.0s\n",
      "[CV] END colsample_bylevel=0.5, colsample_bytree=0.8000000000000003, gamma=0.2, learning_rate=0.01, max_depth=11, n_estimators=500, subsample=0.5; total time=  19.5s\n",
      "[CV] END colsample_bylevel=0.5, colsample_bytree=0.8000000000000003, gamma=0.2, learning_rate=0.01, max_depth=11, n_estimators=500, subsample=0.5; total time=  19.1s\n",
      "[CV] END colsample_bylevel=0.5, colsample_bytree=0.8000000000000003, gamma=0.2, learning_rate=0.01, max_depth=11, n_estimators=500, subsample=0.5; total time=  19.7s\n",
      "[CV] END colsample_bylevel=0.5, colsample_bytree=0.8000000000000003, gamma=0.2, learning_rate=0.01, max_depth=11, n_estimators=500, subsample=0.5; total time=  19.1s\n",
      "[CV] END colsample_bylevel=0.8000000000000003, colsample_bytree=0.3, gamma=0.5, learning_rate=0.3, max_depth=11, n_estimators=400, subsample=0.7999999999999999; total time=   2.5s\n",
      "[CV] END colsample_bylevel=0.8000000000000003, colsample_bytree=0.3, gamma=0.5, learning_rate=0.3, max_depth=11, n_estimators=400, subsample=0.7999999999999999; total time=   5.6s\n",
      "[CV] END colsample_bylevel=0.8000000000000003, colsample_bytree=0.3, gamma=0.5, learning_rate=0.3, max_depth=11, n_estimators=400, subsample=0.7999999999999999; total time=   5.5s\n",
      "[CV] END colsample_bylevel=0.8000000000000003, colsample_bytree=0.3, gamma=0.5, learning_rate=0.3, max_depth=11, n_estimators=400, subsample=0.7999999999999999; total time=   5.7s\n",
      "[CV] END colsample_bylevel=0.8000000000000003, colsample_bytree=0.3, gamma=0.5, learning_rate=0.3, max_depth=11, n_estimators=400, subsample=0.7999999999999999; total time=   5.5s\n",
      "[CV] END colsample_bylevel=0.3, colsample_bytree=0.7000000000000002, gamma=0.5, learning_rate=0.2, max_depth=3, n_estimators=400, subsample=0.8999999999999999; total time=   1.9s\n",
      "[CV] END colsample_bylevel=0.3, colsample_bytree=0.7000000000000002, gamma=0.5, learning_rate=0.2, max_depth=3, n_estimators=400, subsample=0.8999999999999999; total time=   1.9s\n",
      "[CV] END colsample_bylevel=0.3, colsample_bytree=0.7000000000000002, gamma=0.5, learning_rate=0.2, max_depth=3, n_estimators=400, subsample=0.8999999999999999; total time=   1.8s\n",
      "[CV] END colsample_bylevel=0.3, colsample_bytree=0.7000000000000002, gamma=0.5, learning_rate=0.2, max_depth=3, n_estimators=400, subsample=0.8999999999999999; total time=   1.9s\n",
      "[CV] END colsample_bylevel=0.3, colsample_bytree=0.7000000000000002, gamma=0.5, learning_rate=0.2, max_depth=3, n_estimators=400, subsample=0.8999999999999999; total time=   1.9s\n",
      "[CV] END colsample_bylevel=0.4, colsample_bytree=0.4, gamma=0.2, learning_rate=0.01, max_depth=5, n_estimators=100, subsample=0.7; total time=   0.9s\n",
      "[CV] END colsample_bylevel=0.4, colsample_bytree=0.4, gamma=0.2, learning_rate=0.01, max_depth=5, n_estimators=100, subsample=0.7; total time=   0.9s\n",
      "[CV] END colsample_bylevel=0.4, colsample_bytree=0.4, gamma=0.2, learning_rate=0.01, max_depth=5, n_estimators=100, subsample=0.7; total time=   0.9s\n",
      "[CV] END colsample_bylevel=0.4, colsample_bytree=0.4, gamma=0.2, learning_rate=0.01, max_depth=5, n_estimators=100, subsample=0.7; total time=   0.9s\n",
      "[CV] END colsample_bylevel=0.4, colsample_bytree=0.4, gamma=0.2, learning_rate=0.01, max_depth=5, n_estimators=100, subsample=0.7; total time=   0.9s\n",
      "[CV] END colsample_bylevel=0.6000000000000001, colsample_bytree=0.6000000000000001, gamma=0.2, learning_rate=0.2, max_depth=8, n_estimators=300, subsample=0.8999999999999999; total time=   2.8s\n",
      "[CV] END colsample_bylevel=0.6000000000000001, colsample_bytree=0.6000000000000001, gamma=0.2, learning_rate=0.2, max_depth=8, n_estimators=300, subsample=0.8999999999999999; total time=   5.1s\n",
      "[CV] END colsample_bylevel=0.6000000000000001, colsample_bytree=0.6000000000000001, gamma=0.2, learning_rate=0.2, max_depth=8, n_estimators=300, subsample=0.8999999999999999; total time=   5.0s\n",
      "[CV] END colsample_bylevel=0.6000000000000001, colsample_bytree=0.6000000000000001, gamma=0.2, learning_rate=0.2, max_depth=8, n_estimators=300, subsample=0.8999999999999999; total time=   5.2s\n",
      "[CV] END colsample_bylevel=0.6000000000000001, colsample_bytree=0.6000000000000001, gamma=0.2, learning_rate=0.2, max_depth=8, n_estimators=300, subsample=0.8999999999999999; total time=   5.0s\n",
      "[CV] END colsample_bylevel=0.4, colsample_bytree=0.9000000000000001, gamma=0.2, learning_rate=0.5, max_depth=6, n_estimators=200, subsample=0.5; total time=   1.6s\n",
      "[CV] END colsample_bylevel=0.4, colsample_bytree=0.9000000000000001, gamma=0.2, learning_rate=0.5, max_depth=6, n_estimators=200, subsample=0.5; total time=   2.2s\n",
      "[CV] END colsample_bylevel=0.4, colsample_bytree=0.9000000000000001, gamma=0.2, learning_rate=0.5, max_depth=6, n_estimators=200, subsample=0.5; total time=   2.1s\n",
      "[CV] END colsample_bylevel=0.4, colsample_bytree=0.9000000000000001, gamma=0.2, learning_rate=0.5, max_depth=6, n_estimators=200, subsample=0.5; total time=   2.2s\n",
      "[CV] END colsample_bylevel=0.4, colsample_bytree=0.9000000000000001, gamma=0.2, learning_rate=0.5, max_depth=6, n_estimators=200, subsample=0.5; total time=   2.2s\n",
      "[CV] END colsample_bylevel=0.8000000000000003, colsample_bytree=0.7000000000000002, gamma=0.6000000000000001, learning_rate=0.2, max_depth=3, n_estimators=100, subsample=0.7999999999999999; total time=   0.6s\n",
      "[CV] END colsample_bylevel=0.8000000000000003, colsample_bytree=0.7000000000000002, gamma=0.6000000000000001, learning_rate=0.2, max_depth=3, n_estimators=100, subsample=0.7999999999999999; total time=   0.6s\n",
      "[CV] END colsample_bylevel=0.8000000000000003, colsample_bytree=0.7000000000000002, gamma=0.6000000000000001, learning_rate=0.2, max_depth=3, n_estimators=100, subsample=0.7999999999999999; total time=   0.5s\n",
      "[CV] END colsample_bylevel=0.8000000000000003, colsample_bytree=0.7000000000000002, gamma=0.6000000000000001, learning_rate=0.2, max_depth=3, n_estimators=100, subsample=0.7999999999999999; total time=   0.6s\n",
      "[CV] END colsample_bylevel=0.8000000000000003, colsample_bytree=0.7000000000000002, gamma=0.6000000000000001, learning_rate=0.2, max_depth=3, n_estimators=100, subsample=0.7999999999999999; total time=   0.6s\n",
      "[CV] END colsample_bylevel=0.3, colsample_bytree=0.3, gamma=0.6000000000000001, learning_rate=0.5, max_depth=11, n_estimators=300, subsample=0.7999999999999999; total time=   1.9s\n",
      "[CV] END colsample_bylevel=0.3, colsample_bytree=0.3, gamma=0.6000000000000001, learning_rate=0.5, max_depth=11, n_estimators=300, subsample=0.7999999999999999; total time=   2.6s\n",
      "[CV] END colsample_bylevel=0.3, colsample_bytree=0.3, gamma=0.6000000000000001, learning_rate=0.5, max_depth=11, n_estimators=300, subsample=0.7999999999999999; total time=   2.6s\n",
      "[CV] END colsample_bylevel=0.3, colsample_bytree=0.3, gamma=0.6000000000000001, learning_rate=0.5, max_depth=11, n_estimators=300, subsample=0.7999999999999999; total time=   2.7s\n",
      "[CV] END colsample_bylevel=0.3, colsample_bytree=0.3, gamma=0.6000000000000001, learning_rate=0.5, max_depth=11, n_estimators=300, subsample=0.7999999999999999; total time=   2.5s\n",
      "[CV] END colsample_bylevel=0.3, colsample_bytree=0.8000000000000003, gamma=0.6000000000000001, learning_rate=0.1, max_depth=9, n_estimators=500, subsample=0.4; total time=   5.1s\n",
      "[CV] END colsample_bylevel=0.3, colsample_bytree=0.8000000000000003, gamma=0.6000000000000001, learning_rate=0.1, max_depth=9, n_estimators=500, subsample=0.4; total time=   9.0s\n",
      "[CV] END colsample_bylevel=0.3, colsample_bytree=0.8000000000000003, gamma=0.6000000000000001, learning_rate=0.1, max_depth=9, n_estimators=500, subsample=0.4; total time=   8.8s\n",
      "[CV] END colsample_bylevel=0.3, colsample_bytree=0.8000000000000003, gamma=0.6000000000000001, learning_rate=0.1, max_depth=9, n_estimators=500, subsample=0.4; total time=   9.4s\n",
      "[CV] END colsample_bylevel=0.3, colsample_bytree=0.8000000000000003, gamma=0.6000000000000001, learning_rate=0.1, max_depth=9, n_estimators=500, subsample=0.4; total time=   8.9s\n",
      "[CV] END colsample_bylevel=0.7000000000000002, colsample_bytree=0.5, gamma=0.2, learning_rate=0.1, max_depth=6, n_estimators=200, subsample=0.6; total time=   2.1s\n",
      "[CV] END colsample_bylevel=0.7000000000000002, colsample_bytree=0.5, gamma=0.2, learning_rate=0.1, max_depth=6, n_estimators=200, subsample=0.6; total time=   2.1s\n",
      "[CV] END colsample_bylevel=0.7000000000000002, colsample_bytree=0.5, gamma=0.2, learning_rate=0.1, max_depth=6, n_estimators=200, subsample=0.6; total time=   2.1s\n",
      "[CV] END colsample_bylevel=0.7000000000000002, colsample_bytree=0.5, gamma=0.2, learning_rate=0.1, max_depth=6, n_estimators=200, subsample=0.6; total time=   2.2s\n",
      "[CV] END colsample_bylevel=0.7000000000000002, colsample_bytree=0.5, gamma=0.2, learning_rate=0.1, max_depth=6, n_estimators=200, subsample=0.6; total time=   2.1s\n",
      "[CV] END colsample_bylevel=0.8000000000000003, colsample_bytree=0.8000000000000003, gamma=0.1, learning_rate=0.5, max_depth=10, n_estimators=500, subsample=0.6; total time=   3.0s\n",
      "[CV] END colsample_bylevel=0.8000000000000003, colsample_bytree=0.8000000000000003, gamma=0.1, learning_rate=0.5, max_depth=10, n_estimators=500, subsample=0.6; total time=   7.9s\n",
      "[CV] END colsample_bylevel=0.8000000000000003, colsample_bytree=0.8000000000000003, gamma=0.1, learning_rate=0.5, max_depth=10, n_estimators=500, subsample=0.6; total time=   7.8s\n",
      "[CV] END colsample_bylevel=0.8000000000000003, colsample_bytree=0.8000000000000003, gamma=0.1, learning_rate=0.5, max_depth=10, n_estimators=500, subsample=0.6; total time=   8.1s\n",
      "[CV] END colsample_bylevel=0.8000000000000003, colsample_bytree=0.8000000000000003, gamma=0.1, learning_rate=0.5, max_depth=10, n_estimators=500, subsample=0.6; total time=   7.9s\n",
      "[CV] END colsample_bylevel=0.4, colsample_bytree=0.6000000000000001, gamma=0.0, learning_rate=0.3, max_depth=6, n_estimators=200, subsample=0.5; total time=   2.0s\n",
      "[CV] END colsample_bylevel=0.4, colsample_bytree=0.6000000000000001, gamma=0.0, learning_rate=0.3, max_depth=6, n_estimators=200, subsample=0.5; total time=   2.1s\n",
      "[CV] END colsample_bylevel=0.4, colsample_bytree=0.6000000000000001, gamma=0.0, learning_rate=0.3, max_depth=6, n_estimators=200, subsample=0.5; total time=   2.1s\n",
      "[CV] END colsample_bylevel=0.4, colsample_bytree=0.6000000000000001, gamma=0.0, learning_rate=0.3, max_depth=6, n_estimators=200, subsample=0.5; total time=   2.2s\n",
      "[CV] END colsample_bylevel=0.4, colsample_bytree=0.6000000000000001, gamma=0.0, learning_rate=0.3, max_depth=6, n_estimators=200, subsample=0.5; total time=   2.1s\n",
      "[CV] END colsample_bylevel=0.3, colsample_bytree=0.8000000000000003, gamma=0.5, learning_rate=0.2, max_depth=10, n_estimators=100, subsample=0.5; total time=   2.1s\n",
      "[CV] END colsample_bylevel=0.3, colsample_bytree=0.8000000000000003, gamma=0.5, learning_rate=0.2, max_depth=10, n_estimators=100, subsample=0.5; total time=   2.6s\n",
      "[CV] END colsample_bylevel=0.3, colsample_bytree=0.8000000000000003, gamma=0.5, learning_rate=0.2, max_depth=10, n_estimators=100, subsample=0.5; total time=   2.6s\n",
      "[CV] END colsample_bylevel=0.3, colsample_bytree=0.8000000000000003, gamma=0.5, learning_rate=0.2, max_depth=10, n_estimators=100, subsample=0.5; total time=   2.7s\n",
      "[CV] END colsample_bylevel=0.3, colsample_bytree=0.8000000000000003, gamma=0.5, learning_rate=0.2, max_depth=10, n_estimators=100, subsample=0.5; total time=   2.6s\n",
      "[CV] END colsample_bylevel=0.8000000000000003, colsample_bytree=0.5, gamma=0.5, learning_rate=0.01, max_depth=5, n_estimators=500, subsample=0.4; total time=   4.1s\n",
      "[CV] END colsample_bylevel=0.8000000000000003, colsample_bytree=0.5, gamma=0.5, learning_rate=0.01, max_depth=5, n_estimators=500, subsample=0.4; total time=   4.0s\n",
      "[CV] END colsample_bylevel=0.8000000000000003, colsample_bytree=0.5, gamma=0.5, learning_rate=0.01, max_depth=5, n_estimators=500, subsample=0.4; total time=   3.9s\n",
      "[CV] END colsample_bylevel=0.8000000000000003, colsample_bytree=0.5, gamma=0.5, learning_rate=0.01, max_depth=5, n_estimators=500, subsample=0.4; total time=   4.1s\n",
      "[CV] END colsample_bylevel=0.8000000000000003, colsample_bytree=0.5, gamma=0.5, learning_rate=0.01, max_depth=5, n_estimators=500, subsample=0.4; total time=   4.0s\n",
      "[CV] END colsample_bylevel=0.3, colsample_bytree=0.6000000000000001, gamma=0.0, learning_rate=0.5, max_depth=11, n_estimators=100, subsample=0.6; total time=   2.1s\n",
      "[CV] END colsample_bylevel=0.3, colsample_bytree=0.6000000000000001, gamma=0.0, learning_rate=0.5, max_depth=11, n_estimators=100, subsample=0.6; total time=   3.2s\n",
      "[CV] END colsample_bylevel=0.3, colsample_bytree=0.6000000000000001, gamma=0.0, learning_rate=0.5, max_depth=11, n_estimators=100, subsample=0.6; total time=   3.1s\n",
      "[CV] END colsample_bylevel=0.3, colsample_bytree=0.6000000000000001, gamma=0.0, learning_rate=0.5, max_depth=11, n_estimators=100, subsample=0.6; total time=   3.3s\n",
      "[CV] END colsample_bylevel=0.3, colsample_bytree=0.6000000000000001, gamma=0.0, learning_rate=0.5, max_depth=11, n_estimators=100, subsample=0.6; total time=   3.2s\n",
      "[CV] END colsample_bylevel=0.8000000000000003, colsample_bytree=0.8000000000000003, gamma=0.4, learning_rate=0.01, max_depth=8, n_estimators=100, subsample=0.5; total time=   2.2s\n",
      "[CV] END colsample_bylevel=0.8000000000000003, colsample_bytree=0.8000000000000003, gamma=0.4, learning_rate=0.01, max_depth=8, n_estimators=100, subsample=0.5; total time=   2.2s\n",
      "[CV] END colsample_bylevel=0.8000000000000003, colsample_bytree=0.8000000000000003, gamma=0.4, learning_rate=0.01, max_depth=8, n_estimators=100, subsample=0.5; total time=   2.1s\n",
      "[CV] END colsample_bylevel=0.8000000000000003, colsample_bytree=0.8000000000000003, gamma=0.4, learning_rate=0.01, max_depth=8, n_estimators=100, subsample=0.5; total time=   2.2s\n",
      "[CV] END colsample_bylevel=0.8000000000000003, colsample_bytree=0.8000000000000003, gamma=0.4, learning_rate=0.01, max_depth=8, n_estimators=100, subsample=0.5; total time=   2.1s\n",
      "[CV] END colsample_bylevel=0.9000000000000001, colsample_bytree=0.7000000000000002, gamma=0.30000000000000004, learning_rate=0.5, max_depth=6, n_estimators=300, subsample=0.7; total time=   1.5s\n",
      "[CV] END colsample_bylevel=0.9000000000000001, colsample_bytree=0.7000000000000002, gamma=0.30000000000000004, learning_rate=0.5, max_depth=6, n_estimators=300, subsample=0.7; total time=   3.2s\n",
      "[CV] END colsample_bylevel=0.9000000000000001, colsample_bytree=0.7000000000000002, gamma=0.30000000000000004, learning_rate=0.5, max_depth=6, n_estimators=300, subsample=0.7; total time=   3.1s\n",
      "[CV] END colsample_bylevel=0.9000000000000001, colsample_bytree=0.7000000000000002, gamma=0.30000000000000004, learning_rate=0.5, max_depth=6, n_estimators=300, subsample=0.7; total time=   3.3s\n",
      "[CV] END colsample_bylevel=0.9000000000000001, colsample_bytree=0.7000000000000002, gamma=0.30000000000000004, learning_rate=0.5, max_depth=6, n_estimators=300, subsample=0.7; total time=   3.3s\n",
      "[CV] END colsample_bylevel=0.5, colsample_bytree=0.9000000000000001, gamma=0.30000000000000004, learning_rate=0.2, max_depth=10, n_estimators=400, subsample=0.8999999999999999; total time=   3.3s\n",
      "[CV] END colsample_bylevel=0.5, colsample_bytree=0.9000000000000001, gamma=0.30000000000000004, learning_rate=0.2, max_depth=10, n_estimators=400, subsample=0.8999999999999999; total time=   6.5s\n",
      "[CV] END colsample_bylevel=0.5, colsample_bytree=0.9000000000000001, gamma=0.30000000000000004, learning_rate=0.2, max_depth=10, n_estimators=400, subsample=0.8999999999999999; total time=   6.5s\n",
      "[CV] END colsample_bylevel=0.5, colsample_bytree=0.9000000000000001, gamma=0.30000000000000004, learning_rate=0.2, max_depth=10, n_estimators=400, subsample=0.8999999999999999; total time=   6.7s\n",
      "[CV] END colsample_bylevel=0.5, colsample_bytree=0.9000000000000001, gamma=0.30000000000000004, learning_rate=0.2, max_depth=10, n_estimators=400, subsample=0.8999999999999999; total time=   6.5s\n",
      "[CV] END colsample_bylevel=0.6000000000000001, colsample_bytree=0.4, gamma=0.0, learning_rate=0.2, max_depth=9, n_estimators=200, subsample=0.5; total time=   3.2s\n",
      "[CV] END colsample_bylevel=0.6000000000000001, colsample_bytree=0.4, gamma=0.0, learning_rate=0.2, max_depth=9, n_estimators=200, subsample=0.5; total time=   4.3s\n",
      "[CV] END colsample_bylevel=0.6000000000000001, colsample_bytree=0.4, gamma=0.0, learning_rate=0.2, max_depth=9, n_estimators=200, subsample=0.5; total time=   4.4s\n",
      "[CV] END colsample_bylevel=0.6000000000000001, colsample_bytree=0.4, gamma=0.0, learning_rate=0.2, max_depth=9, n_estimators=200, subsample=0.5; total time=   4.5s\n",
      "[CV] END colsample_bylevel=0.6000000000000001, colsample_bytree=0.4, gamma=0.0, learning_rate=0.2, max_depth=9, n_estimators=200, subsample=0.5; total time=   4.4s\n",
      "[CV] END colsample_bylevel=0.6000000000000001, colsample_bytree=0.9000000000000001, gamma=0.4, learning_rate=0.3, max_depth=9, n_estimators=500, subsample=0.7999999999999999; total time=   2.7s\n",
      "[CV] END colsample_bylevel=0.6000000000000001, colsample_bytree=0.9000000000000001, gamma=0.4, learning_rate=0.3, max_depth=9, n_estimators=500, subsample=0.7999999999999999; total time=   5.6s\n",
      "[CV] END colsample_bylevel=0.6000000000000001, colsample_bytree=0.9000000000000001, gamma=0.4, learning_rate=0.3, max_depth=9, n_estimators=500, subsample=0.7999999999999999; total time=   5.5s\n",
      "[CV] END colsample_bylevel=0.6000000000000001, colsample_bytree=0.9000000000000001, gamma=0.4, learning_rate=0.3, max_depth=9, n_estimators=500, subsample=0.7999999999999999; total time=   5.8s\n",
      "[CV] END colsample_bylevel=0.6000000000000001, colsample_bytree=0.9000000000000001, gamma=0.4, learning_rate=0.3, max_depth=9, n_estimators=500, subsample=0.7999999999999999; total time=   5.6s\n",
      "[CV] END colsample_bylevel=0.4, colsample_bytree=0.8000000000000003, gamma=0.6000000000000001, learning_rate=0.5, max_depth=5, n_estimators=100, subsample=0.8999999999999999; total time=   0.9s\n",
      "[CV] END colsample_bylevel=0.4, colsample_bytree=0.8000000000000003, gamma=0.6000000000000001, learning_rate=0.5, max_depth=5, n_estimators=100, subsample=0.8999999999999999; total time=   0.9s\n",
      "[CV] END colsample_bylevel=0.4, colsample_bytree=0.8000000000000003, gamma=0.6000000000000001, learning_rate=0.5, max_depth=5, n_estimators=100, subsample=0.8999999999999999; total time=   0.8s\n",
      "[CV] END colsample_bylevel=0.4, colsample_bytree=0.8000000000000003, gamma=0.6000000000000001, learning_rate=0.5, max_depth=5, n_estimators=100, subsample=0.8999999999999999; total time=   0.9s\n",
      "[CV] END colsample_bylevel=0.4, colsample_bytree=0.8000000000000003, gamma=0.6000000000000001, learning_rate=0.5, max_depth=5, n_estimators=100, subsample=0.8999999999999999; total time=   0.9s\n",
      "[CV] END colsample_bylevel=0.3, colsample_bytree=0.4, gamma=0.5, learning_rate=0.01, max_depth=6, n_estimators=200, subsample=0.8999999999999999; total time=   1.8s\n",
      "[CV] END colsample_bylevel=0.3, colsample_bytree=0.4, gamma=0.5, learning_rate=0.01, max_depth=6, n_estimators=200, subsample=0.8999999999999999; total time=   1.8s\n",
      "[CV] END colsample_bylevel=0.3, colsample_bytree=0.4, gamma=0.5, learning_rate=0.01, max_depth=6, n_estimators=200, subsample=0.8999999999999999; total time=   1.7s\n",
      "[CV] END colsample_bylevel=0.3, colsample_bytree=0.4, gamma=0.5, learning_rate=0.01, max_depth=6, n_estimators=200, subsample=0.8999999999999999; total time=   1.9s\n",
      "[CV] END colsample_bylevel=0.3, colsample_bytree=0.4, gamma=0.5, learning_rate=0.01, max_depth=6, n_estimators=200, subsample=0.8999999999999999; total time=   1.8s\n",
      "[CV] END colsample_bylevel=0.6000000000000001, colsample_bytree=0.8000000000000003, gamma=0.5, learning_rate=0.01, max_depth=8, n_estimators=400, subsample=0.6; total time=   8.1s\n",
      "[CV] END colsample_bylevel=0.6000000000000001, colsample_bytree=0.8000000000000003, gamma=0.5, learning_rate=0.01, max_depth=8, n_estimators=400, subsample=0.6; total time=   8.0s\n",
      "[CV] END colsample_bylevel=0.6000000000000001, colsample_bytree=0.8000000000000003, gamma=0.5, learning_rate=0.01, max_depth=8, n_estimators=400, subsample=0.6; total time=   7.9s\n",
      "[CV] END colsample_bylevel=0.6000000000000001, colsample_bytree=0.8000000000000003, gamma=0.5, learning_rate=0.01, max_depth=8, n_estimators=400, subsample=0.6; total time=   8.1s\n",
      "[CV] END colsample_bylevel=0.6000000000000001, colsample_bytree=0.8000000000000003, gamma=0.5, learning_rate=0.01, max_depth=8, n_estimators=400, subsample=0.6; total time=   8.0s\n",
      "[CV] END colsample_bylevel=0.7000000000000002, colsample_bytree=0.8000000000000003, gamma=0.30000000000000004, learning_rate=0.2, max_depth=11, n_estimators=300, subsample=0.7999999999999999; total time=   3.2s\n",
      "[CV] END colsample_bylevel=0.7000000000000002, colsample_bytree=0.8000000000000003, gamma=0.30000000000000004, learning_rate=0.2, max_depth=11, n_estimators=300, subsample=0.7999999999999999; total time=   7.3s\n",
      "[CV] END colsample_bylevel=0.7000000000000002, colsample_bytree=0.8000000000000003, gamma=0.30000000000000004, learning_rate=0.2, max_depth=11, n_estimators=300, subsample=0.7999999999999999; total time=   7.2s\n",
      "[CV] END colsample_bylevel=0.7000000000000002, colsample_bytree=0.8000000000000003, gamma=0.30000000000000004, learning_rate=0.2, max_depth=11, n_estimators=300, subsample=0.7999999999999999; total time=   7.4s\n",
      "[CV] END colsample_bylevel=0.7000000000000002, colsample_bytree=0.8000000000000003, gamma=0.30000000000000004, learning_rate=0.2, max_depth=11, n_estimators=300, subsample=0.7999999999999999; total time=   7.2s\n",
      "[CV] END colsample_bylevel=0.9000000000000001, colsample_bytree=0.5, gamma=0.1, learning_rate=0.3, max_depth=9, n_estimators=500, subsample=0.7999999999999999; total time=   3.3s\n",
      "[CV] END colsample_bylevel=0.9000000000000001, colsample_bytree=0.5, gamma=0.1, learning_rate=0.3, max_depth=9, n_estimators=500, subsample=0.7999999999999999; total time=   8.7s\n",
      "[CV] END colsample_bylevel=0.9000000000000001, colsample_bytree=0.5, gamma=0.1, learning_rate=0.3, max_depth=9, n_estimators=500, subsample=0.7999999999999999; total time=   8.7s\n",
      "[CV] END colsample_bylevel=0.9000000000000001, colsample_bytree=0.5, gamma=0.1, learning_rate=0.3, max_depth=9, n_estimators=500, subsample=0.7999999999999999; total time=   9.1s\n",
      "[CV] END colsample_bylevel=0.9000000000000001, colsample_bytree=0.5, gamma=0.1, learning_rate=0.3, max_depth=9, n_estimators=500, subsample=0.7999999999999999; total time=   8.6s\n",
      "[CV] END colsample_bylevel=0.5, colsample_bytree=0.9000000000000001, gamma=0.6000000000000001, learning_rate=0.2, max_depth=8, n_estimators=200, subsample=0.7; total time=   2.1s\n",
      "[CV] END colsample_bylevel=0.5, colsample_bytree=0.9000000000000001, gamma=0.6000000000000001, learning_rate=0.2, max_depth=8, n_estimators=200, subsample=0.7; total time=   3.4s\n",
      "[CV] END colsample_bylevel=0.5, colsample_bytree=0.9000000000000001, gamma=0.6000000000000001, learning_rate=0.2, max_depth=8, n_estimators=200, subsample=0.7; total time=   3.4s\n",
      "[CV] END colsample_bylevel=0.5, colsample_bytree=0.9000000000000001, gamma=0.6000000000000001, learning_rate=0.2, max_depth=8, n_estimators=200, subsample=0.7; total time=   3.5s\n",
      "[CV] END colsample_bylevel=0.5, colsample_bytree=0.9000000000000001, gamma=0.6000000000000001, learning_rate=0.2, max_depth=8, n_estimators=200, subsample=0.7; total time=   3.4s\n",
      "[CV] END colsample_bylevel=0.9000000000000001, colsample_bytree=0.9000000000000001, gamma=0.4, learning_rate=0.2, max_depth=11, n_estimators=100, subsample=0.5; total time=   2.1s\n",
      "[CV] END colsample_bylevel=0.9000000000000001, colsample_bytree=0.9000000000000001, gamma=0.4, learning_rate=0.2, max_depth=11, n_estimators=100, subsample=0.5; total time=   3.5s\n",
      "[CV] END colsample_bylevel=0.9000000000000001, colsample_bytree=0.9000000000000001, gamma=0.4, learning_rate=0.2, max_depth=11, n_estimators=100, subsample=0.5; total time=   3.4s\n",
      "[CV] END colsample_bylevel=0.9000000000000001, colsample_bytree=0.9000000000000001, gamma=0.4, learning_rate=0.2, max_depth=11, n_estimators=100, subsample=0.5; total time=   3.6s\n",
      "[CV] END colsample_bylevel=0.9000000000000001, colsample_bytree=0.9000000000000001, gamma=0.4, learning_rate=0.2, max_depth=11, n_estimators=100, subsample=0.5; total time=   3.4s\n",
      "[CV] END colsample_bylevel=0.9000000000000001, colsample_bytree=0.5, gamma=0.2, learning_rate=0.3, max_depth=6, n_estimators=300, subsample=0.7999999999999999; total time=   2.0s\n",
      "[CV] END colsample_bylevel=0.9000000000000001, colsample_bytree=0.5, gamma=0.2, learning_rate=0.3, max_depth=6, n_estimators=300, subsample=0.7999999999999999; total time=   3.0s\n",
      "[CV] END colsample_bylevel=0.9000000000000001, colsample_bytree=0.5, gamma=0.2, learning_rate=0.3, max_depth=6, n_estimators=300, subsample=0.7999999999999999; total time=   2.9s\n",
      "[CV] END colsample_bylevel=0.9000000000000001, colsample_bytree=0.5, gamma=0.2, learning_rate=0.3, max_depth=6, n_estimators=300, subsample=0.7999999999999999; total time=   3.1s\n",
      "[CV] END colsample_bylevel=0.9000000000000001, colsample_bytree=0.5, gamma=0.2, learning_rate=0.3, max_depth=6, n_estimators=300, subsample=0.7999999999999999; total time=   3.0s\n",
      "[CV] END colsample_bylevel=0.5, colsample_bytree=0.6000000000000001, gamma=0.2, learning_rate=0.2, max_depth=11, n_estimators=200, subsample=0.8999999999999999; total time=   3.4s\n",
      "[CV] END colsample_bylevel=0.5, colsample_bytree=0.6000000000000001, gamma=0.2, learning_rate=0.2, max_depth=11, n_estimators=200, subsample=0.8999999999999999; total time=   6.2s\n",
      "[CV] END colsample_bylevel=0.5, colsample_bytree=0.6000000000000001, gamma=0.2, learning_rate=0.2, max_depth=11, n_estimators=200, subsample=0.8999999999999999; total time=   6.2s\n",
      "[CV] END colsample_bylevel=0.5, colsample_bytree=0.6000000000000001, gamma=0.2, learning_rate=0.2, max_depth=11, n_estimators=200, subsample=0.8999999999999999; total time=   6.2s\n",
      "[CV] END colsample_bylevel=0.5, colsample_bytree=0.6000000000000001, gamma=0.2, learning_rate=0.2, max_depth=11, n_estimators=200, subsample=0.8999999999999999; total time=   6.1s\n",
      "[CV] END colsample_bylevel=0.4, colsample_bytree=0.8000000000000003, gamma=0.6000000000000001, learning_rate=0.1, max_depth=9, n_estimators=500, subsample=0.8999999999999999; total time=   4.9s\n",
      "[CV] END colsample_bylevel=0.4, colsample_bytree=0.8000000000000003, gamma=0.6000000000000001, learning_rate=0.1, max_depth=9, n_estimators=500, subsample=0.8999999999999999; total time=   7.1s\n",
      "[CV] END colsample_bylevel=0.4, colsample_bytree=0.8000000000000003, gamma=0.6000000000000001, learning_rate=0.1, max_depth=9, n_estimators=500, subsample=0.8999999999999999; total time=   7.0s\n",
      "[CV] END colsample_bylevel=0.4, colsample_bytree=0.8000000000000003, gamma=0.6000000000000001, learning_rate=0.1, max_depth=9, n_estimators=500, subsample=0.8999999999999999; total time=   7.3s\n",
      "[CV] END colsample_bylevel=0.4, colsample_bytree=0.8000000000000003, gamma=0.6000000000000001, learning_rate=0.1, max_depth=9, n_estimators=500, subsample=0.8999999999999999; total time=   7.2s\n",
      "[CV] END colsample_bylevel=0.8000000000000003, colsample_bytree=0.9000000000000001, gamma=0.4, learning_rate=0.01, max_depth=9, n_estimators=500, subsample=0.5; total time=  12.3s\n",
      "[CV] END colsample_bylevel=0.8000000000000003, colsample_bytree=0.9000000000000001, gamma=0.4, learning_rate=0.01, max_depth=9, n_estimators=500, subsample=0.5; total time=  12.6s\n",
      "[CV] END colsample_bylevel=0.8000000000000003, colsample_bytree=0.9000000000000001, gamma=0.4, learning_rate=0.01, max_depth=9, n_estimators=500, subsample=0.5; total time=  12.4s\n",
      "[CV] END colsample_bylevel=0.8000000000000003, colsample_bytree=0.9000000000000001, gamma=0.4, learning_rate=0.01, max_depth=9, n_estimators=500, subsample=0.5; total time=  12.7s\n",
      "[CV] END colsample_bylevel=0.8000000000000003, colsample_bytree=0.9000000000000001, gamma=0.4, learning_rate=0.01, max_depth=9, n_estimators=500, subsample=0.5; total time=  12.5s\n",
      "[CV] END colsample_bylevel=0.6000000000000001, colsample_bytree=0.7000000000000002, gamma=0.4, learning_rate=0.2, max_depth=8, n_estimators=500, subsample=0.5; total time=   3.3s\n",
      "[CV] END colsample_bylevel=0.6000000000000001, colsample_bytree=0.7000000000000002, gamma=0.4, learning_rate=0.2, max_depth=8, n_estimators=500, subsample=0.5; total time=   8.2s\n",
      "[CV] END colsample_bylevel=0.6000000000000001, colsample_bytree=0.7000000000000002, gamma=0.4, learning_rate=0.2, max_depth=8, n_estimators=500, subsample=0.5; total time=   8.1s\n",
      "[CV] END colsample_bylevel=0.6000000000000001, colsample_bytree=0.7000000000000002, gamma=0.4, learning_rate=0.2, max_depth=8, n_estimators=500, subsample=0.5; total time=   8.4s\n",
      "[CV] END colsample_bylevel=0.6000000000000001, colsample_bytree=0.7000000000000002, gamma=0.4, learning_rate=0.2, max_depth=8, n_estimators=500, subsample=0.5; total time=   8.2s\n",
      "[CV] END colsample_bylevel=0.6000000000000001, colsample_bytree=0.5, gamma=0.30000000000000004, learning_rate=0.1, max_depth=5, n_estimators=100, subsample=0.7; total time=   0.9s\n",
      "[CV] END colsample_bylevel=0.6000000000000001, colsample_bytree=0.5, gamma=0.30000000000000004, learning_rate=0.1, max_depth=5, n_estimators=100, subsample=0.7; total time=   0.9s\n",
      "[CV] END colsample_bylevel=0.6000000000000001, colsample_bytree=0.5, gamma=0.30000000000000004, learning_rate=0.1, max_depth=5, n_estimators=100, subsample=0.7; total time=   0.9s\n",
      "[CV] END colsample_bylevel=0.6000000000000001, colsample_bytree=0.5, gamma=0.30000000000000004, learning_rate=0.1, max_depth=5, n_estimators=100, subsample=0.7; total time=   0.9s\n",
      "[CV] END colsample_bylevel=0.6000000000000001, colsample_bytree=0.5, gamma=0.30000000000000004, learning_rate=0.1, max_depth=5, n_estimators=100, subsample=0.7; total time=   0.9s\n",
      "[CV] END colsample_bylevel=0.9000000000000001, colsample_bytree=0.6000000000000001, gamma=0.30000000000000004, learning_rate=0.2, max_depth=10, n_estimators=500, subsample=0.6; total time=   3.6s\n",
      "[CV] END colsample_bylevel=0.9000000000000001, colsample_bytree=0.6000000000000001, gamma=0.30000000000000004, learning_rate=0.2, max_depth=10, n_estimators=500, subsample=0.6; total time=   9.6s\n",
      "[CV] END colsample_bylevel=0.9000000000000001, colsample_bytree=0.6000000000000001, gamma=0.30000000000000004, learning_rate=0.2, max_depth=10, n_estimators=500, subsample=0.6; total time=   9.5s\n",
      "[CV] END colsample_bylevel=0.9000000000000001, colsample_bytree=0.6000000000000001, gamma=0.30000000000000004, learning_rate=0.2, max_depth=10, n_estimators=500, subsample=0.6; total time=   9.9s\n",
      "[CV] END colsample_bylevel=0.9000000000000001, colsample_bytree=0.6000000000000001, gamma=0.30000000000000004, learning_rate=0.2, max_depth=10, n_estimators=500, subsample=0.6; total time=   9.6s\n",
      "[CV] END colsample_bylevel=0.3, colsample_bytree=0.3, gamma=0.2, learning_rate=0.3, max_depth=10, n_estimators=300, subsample=0.7; total time=   2.7s\n",
      "[CV] END colsample_bylevel=0.3, colsample_bytree=0.3, gamma=0.2, learning_rate=0.3, max_depth=10, n_estimators=300, subsample=0.7; total time=   3.7s\n",
      "[CV] END colsample_bylevel=0.3, colsample_bytree=0.3, gamma=0.2, learning_rate=0.3, max_depth=10, n_estimators=300, subsample=0.7; total time=   3.5s\n",
      "[CV] END colsample_bylevel=0.3, colsample_bytree=0.3, gamma=0.2, learning_rate=0.3, max_depth=10, n_estimators=300, subsample=0.7; total time=   3.9s\n",
      "[CV] END colsample_bylevel=0.3, colsample_bytree=0.3, gamma=0.2, learning_rate=0.3, max_depth=10, n_estimators=300, subsample=0.7; total time=   3.7s\n",
      "[CV] END colsample_bylevel=0.4, colsample_bytree=0.6000000000000001, gamma=0.30000000000000004, learning_rate=0.01, max_depth=5, n_estimators=200, subsample=0.5; total time=   1.6s\n",
      "[CV] END colsample_bylevel=0.4, colsample_bytree=0.6000000000000001, gamma=0.30000000000000004, learning_rate=0.01, max_depth=5, n_estimators=200, subsample=0.5; total time=   1.6s\n",
      "[CV] END colsample_bylevel=0.4, colsample_bytree=0.6000000000000001, gamma=0.30000000000000004, learning_rate=0.01, max_depth=5, n_estimators=200, subsample=0.5; total time=   1.6s\n",
      "[CV] END colsample_bylevel=0.4, colsample_bytree=0.6000000000000001, gamma=0.30000000000000004, learning_rate=0.01, max_depth=5, n_estimators=200, subsample=0.5; total time=   1.7s\n",
      "[CV] END colsample_bylevel=0.4, colsample_bytree=0.6000000000000001, gamma=0.30000000000000004, learning_rate=0.01, max_depth=5, n_estimators=200, subsample=0.5; total time=   1.6s\n",
      "[CV] END colsample_bylevel=0.5, colsample_bytree=0.7000000000000002, gamma=0.5, learning_rate=0.2, max_depth=11, n_estimators=400, subsample=0.4; total time=   3.4s\n",
      "[CV] END colsample_bylevel=0.5, colsample_bytree=0.7000000000000002, gamma=0.5, learning_rate=0.2, max_depth=11, n_estimators=400, subsample=0.4; total time=   8.9s\n",
      "[CV] END colsample_bylevel=0.5, colsample_bytree=0.7000000000000002, gamma=0.5, learning_rate=0.2, max_depth=11, n_estimators=400, subsample=0.4; total time=   8.8s\n",
      "[CV] END colsample_bylevel=0.5, colsample_bytree=0.7000000000000002, gamma=0.5, learning_rate=0.2, max_depth=11, n_estimators=400, subsample=0.4; total time=   9.1s\n",
      "[CV] END colsample_bylevel=0.5, colsample_bytree=0.7000000000000002, gamma=0.5, learning_rate=0.2, max_depth=11, n_estimators=400, subsample=0.4; total time=   8.9s\n",
      "[CV] END colsample_bylevel=0.8000000000000003, colsample_bytree=0.8000000000000003, gamma=0.0, learning_rate=0.5, max_depth=3, n_estimators=200, subsample=0.8999999999999999; total time=   1.0s\n",
      "[CV] END colsample_bylevel=0.8000000000000003, colsample_bytree=0.8000000000000003, gamma=0.0, learning_rate=0.5, max_depth=3, n_estimators=200, subsample=0.8999999999999999; total time=   1.0s\n",
      "[CV] END colsample_bylevel=0.8000000000000003, colsample_bytree=0.8000000000000003, gamma=0.0, learning_rate=0.5, max_depth=3, n_estimators=200, subsample=0.8999999999999999; total time=   1.0s\n",
      "[CV] END colsample_bylevel=0.8000000000000003, colsample_bytree=0.8000000000000003, gamma=0.0, learning_rate=0.5, max_depth=3, n_estimators=200, subsample=0.8999999999999999; total time=   1.0s\n",
      "[CV] END colsample_bylevel=0.8000000000000003, colsample_bytree=0.8000000000000003, gamma=0.0, learning_rate=0.5, max_depth=3, n_estimators=200, subsample=0.8999999999999999; total time=   1.0s\n",
      "[CV] END colsample_bylevel=0.6000000000000001, colsample_bytree=0.4, gamma=0.0, learning_rate=0.01, max_depth=9, n_estimators=100, subsample=0.8999999999999999; total time=   2.8s\n",
      "[CV] END colsample_bylevel=0.6000000000000001, colsample_bytree=0.4, gamma=0.0, learning_rate=0.01, max_depth=9, n_estimators=100, subsample=0.8999999999999999; total time=   2.9s\n",
      "[CV] END colsample_bylevel=0.6000000000000001, colsample_bytree=0.4, gamma=0.0, learning_rate=0.01, max_depth=9, n_estimators=100, subsample=0.8999999999999999; total time=   2.9s\n",
      "[CV] END colsample_bylevel=0.6000000000000001, colsample_bytree=0.4, gamma=0.0, learning_rate=0.01, max_depth=9, n_estimators=100, subsample=0.8999999999999999; total time=   2.9s\n",
      "[CV] END colsample_bylevel=0.6000000000000001, colsample_bytree=0.4, gamma=0.0, learning_rate=0.01, max_depth=9, n_estimators=100, subsample=0.8999999999999999; total time=   2.9s\n",
      "[CV] END colsample_bylevel=0.7000000000000002, colsample_bytree=0.9000000000000001, gamma=0.5, learning_rate=0.01, max_depth=6, n_estimators=500, subsample=0.4; total time=   5.5s\n",
      "[CV] END colsample_bylevel=0.7000000000000002, colsample_bytree=0.9000000000000001, gamma=0.5, learning_rate=0.01, max_depth=6, n_estimators=500, subsample=0.4; total time=   5.2s\n",
      "[CV] END colsample_bylevel=0.7000000000000002, colsample_bytree=0.9000000000000001, gamma=0.5, learning_rate=0.01, max_depth=6, n_estimators=500, subsample=0.4; total time=   5.2s\n",
      "[CV] END colsample_bylevel=0.7000000000000002, colsample_bytree=0.9000000000000001, gamma=0.5, learning_rate=0.01, max_depth=6, n_estimators=500, subsample=0.4; total time=   5.4s\n",
      "[CV] END colsample_bylevel=0.7000000000000002, colsample_bytree=0.9000000000000001, gamma=0.5, learning_rate=0.01, max_depth=6, n_estimators=500, subsample=0.4; total time=   5.2s\n",
      "[CV] END colsample_bylevel=0.8000000000000003, colsample_bytree=0.3, gamma=0.1, learning_rate=0.3, max_depth=11, n_estimators=400, subsample=0.6; total time=   3.5s\n",
      "[CV] END colsample_bylevel=0.8000000000000003, colsample_bytree=0.3, gamma=0.1, learning_rate=0.3, max_depth=11, n_estimators=400, subsample=0.6; total time=  10.1s\n",
      "[CV] END colsample_bylevel=0.8000000000000003, colsample_bytree=0.3, gamma=0.1, learning_rate=0.3, max_depth=11, n_estimators=400, subsample=0.6; total time=  10.0s\n",
      "[CV] END colsample_bylevel=0.8000000000000003, colsample_bytree=0.3, gamma=0.1, learning_rate=0.3, max_depth=11, n_estimators=400, subsample=0.6; total time=  10.6s\n",
      "[CV] END colsample_bylevel=0.8000000000000003, colsample_bytree=0.3, gamma=0.1, learning_rate=0.3, max_depth=11, n_estimators=400, subsample=0.6; total time=  10.2s\n",
      "[CV] END colsample_bylevel=0.5, colsample_bytree=0.4, gamma=0.1, learning_rate=0.1, max_depth=10, n_estimators=100, subsample=0.7; total time=   2.7s\n",
      "[CV] END colsample_bylevel=0.5, colsample_bytree=0.4, gamma=0.1, learning_rate=0.1, max_depth=10, n_estimators=100, subsample=0.7; total time=   3.1s\n",
      "[CV] END colsample_bylevel=0.5, colsample_bytree=0.4, gamma=0.1, learning_rate=0.1, max_depth=10, n_estimators=100, subsample=0.7; total time=   3.1s\n",
      "[CV] END colsample_bylevel=0.5, colsample_bytree=0.4, gamma=0.1, learning_rate=0.1, max_depth=10, n_estimators=100, subsample=0.7; total time=   3.1s\n",
      "[CV] END colsample_bylevel=0.5, colsample_bytree=0.4, gamma=0.1, learning_rate=0.1, max_depth=10, n_estimators=100, subsample=0.7; total time=   3.1s\n",
      "[CV] END colsample_bylevel=0.8000000000000003, colsample_bytree=0.5, gamma=0.0, learning_rate=0.2, max_depth=10, n_estimators=500, subsample=0.5; total time=   6.2s\n",
      "[CV] END colsample_bylevel=0.8000000000000003, colsample_bytree=0.5, gamma=0.0, learning_rate=0.2, max_depth=10, n_estimators=500, subsample=0.5; total time=  13.1s\n",
      "[CV] END colsample_bylevel=0.8000000000000003, colsample_bytree=0.5, gamma=0.0, learning_rate=0.2, max_depth=10, n_estimators=500, subsample=0.5; total time=  13.1s\n",
      "[CV] END colsample_bylevel=0.8000000000000003, colsample_bytree=0.5, gamma=0.0, learning_rate=0.2, max_depth=10, n_estimators=500, subsample=0.5; total time=  13.6s\n",
      "[CV] END colsample_bylevel=0.8000000000000003, colsample_bytree=0.5, gamma=0.0, learning_rate=0.2, max_depth=10, n_estimators=500, subsample=0.5; total time=  13.0s\n",
      "[CV] END colsample_bylevel=0.7000000000000002, colsample_bytree=0.3, gamma=0.5, learning_rate=0.1, max_depth=9, n_estimators=300, subsample=0.7999999999999999; total time=   4.0s\n",
      "[CV] END colsample_bylevel=0.7000000000000002, colsample_bytree=0.3, gamma=0.5, learning_rate=0.1, max_depth=9, n_estimators=300, subsample=0.7999999999999999; total time=   5.1s\n",
      "[CV] END colsample_bylevel=0.7000000000000002, colsample_bytree=0.3, gamma=0.5, learning_rate=0.1, max_depth=9, n_estimators=300, subsample=0.7999999999999999; total time=   5.1s\n",
      "[CV] END colsample_bylevel=0.7000000000000002, colsample_bytree=0.3, gamma=0.5, learning_rate=0.1, max_depth=9, n_estimators=300, subsample=0.7999999999999999; total time=   5.2s\n",
      "[CV] END colsample_bylevel=0.7000000000000002, colsample_bytree=0.3, gamma=0.5, learning_rate=0.1, max_depth=9, n_estimators=300, subsample=0.7999999999999999; total time=   5.0s\n",
      "[CV] END colsample_bylevel=0.6000000000000001, colsample_bytree=0.4, gamma=0.1, learning_rate=0.01, max_depth=5, n_estimators=500, subsample=0.4; total time=   4.0s\n",
      "[CV] END colsample_bylevel=0.6000000000000001, colsample_bytree=0.4, gamma=0.1, learning_rate=0.01, max_depth=5, n_estimators=500, subsample=0.4; total time=   3.9s\n",
      "[CV] END colsample_bylevel=0.6000000000000001, colsample_bytree=0.4, gamma=0.1, learning_rate=0.01, max_depth=5, n_estimators=500, subsample=0.4; total time=   3.8s\n",
      "[CV] END colsample_bylevel=0.6000000000000001, colsample_bytree=0.4, gamma=0.1, learning_rate=0.01, max_depth=5, n_estimators=500, subsample=0.4; total time=   4.1s\n",
      "[CV] END colsample_bylevel=0.6000000000000001, colsample_bytree=0.4, gamma=0.1, learning_rate=0.01, max_depth=5, n_estimators=500, subsample=0.4; total time=   3.9s\n",
      "[CV] END colsample_bylevel=0.3, colsample_bytree=0.6000000000000001, gamma=0.2, learning_rate=0.3, max_depth=11, n_estimators=400, subsample=0.6; total time=   3.6s\n",
      "[CV] END colsample_bylevel=0.3, colsample_bytree=0.6000000000000001, gamma=0.2, learning_rate=0.3, max_depth=11, n_estimators=400, subsample=0.6; total time=   8.0s\n",
      "[CV] END colsample_bylevel=0.3, colsample_bytree=0.6000000000000001, gamma=0.2, learning_rate=0.3, max_depth=11, n_estimators=400, subsample=0.6; total time=   8.0s\n",
      "[CV] END colsample_bylevel=0.3, colsample_bytree=0.6000000000000001, gamma=0.2, learning_rate=0.3, max_depth=11, n_estimators=400, subsample=0.6; total time=   8.2s\n",
      "[CV] END colsample_bylevel=0.3, colsample_bytree=0.6000000000000001, gamma=0.2, learning_rate=0.3, max_depth=11, n_estimators=400, subsample=0.6; total time=   7.9s\n",
      "[CV] END colsample_bylevel=0.3, colsample_bytree=0.3, gamma=0.5, learning_rate=0.1, max_depth=3, n_estimators=300, subsample=0.4; total time=   1.4s\n",
      "[CV] END colsample_bylevel=0.3, colsample_bytree=0.3, gamma=0.5, learning_rate=0.1, max_depth=3, n_estimators=300, subsample=0.4; total time=   1.4s\n",
      "[CV] END colsample_bylevel=0.3, colsample_bytree=0.3, gamma=0.5, learning_rate=0.1, max_depth=3, n_estimators=300, subsample=0.4; total time=   1.3s\n",
      "[CV] END colsample_bylevel=0.3, colsample_bytree=0.3, gamma=0.5, learning_rate=0.1, max_depth=3, n_estimators=300, subsample=0.4; total time=   1.5s\n",
      "[CV] END colsample_bylevel=0.3, colsample_bytree=0.3, gamma=0.5, learning_rate=0.1, max_depth=3, n_estimators=300, subsample=0.4; total time=   1.4s\n",
      "[CV] END colsample_bylevel=0.6000000000000001, colsample_bytree=0.7000000000000002, gamma=0.0, learning_rate=0.1, max_depth=6, n_estimators=200, subsample=0.6; total time=   2.1s\n",
      "[CV] END colsample_bylevel=0.6000000000000001, colsample_bytree=0.7000000000000002, gamma=0.0, learning_rate=0.1, max_depth=6, n_estimators=200, subsample=0.6; total time=   2.1s\n",
      "[CV] END colsample_bylevel=0.6000000000000001, colsample_bytree=0.7000000000000002, gamma=0.0, learning_rate=0.1, max_depth=6, n_estimators=200, subsample=0.6; total time=   2.1s\n",
      "[CV] END colsample_bylevel=0.6000000000000001, colsample_bytree=0.7000000000000002, gamma=0.0, learning_rate=0.1, max_depth=6, n_estimators=200, subsample=0.6; total time=   2.2s\n",
      "[CV] END colsample_bylevel=0.6000000000000001, colsample_bytree=0.7000000000000002, gamma=0.0, learning_rate=0.1, max_depth=6, n_estimators=200, subsample=0.6; total time=   2.1s\n",
      "[CV] END colsample_bylevel=0.3, colsample_bytree=0.9000000000000001, gamma=0.6000000000000001, learning_rate=0.01, max_depth=11, n_estimators=500, subsample=0.6; total time=  16.6s\n",
      "[CV] END colsample_bylevel=0.3, colsample_bytree=0.9000000000000001, gamma=0.6000000000000001, learning_rate=0.01, max_depth=11, n_estimators=500, subsample=0.6; total time=  17.6s\n",
      "[CV] END colsample_bylevel=0.3, colsample_bytree=0.9000000000000001, gamma=0.6000000000000001, learning_rate=0.01, max_depth=11, n_estimators=500, subsample=0.6; total time=  17.4s\n",
      "[CV] END colsample_bylevel=0.3, colsample_bytree=0.9000000000000001, gamma=0.6000000000000001, learning_rate=0.01, max_depth=11, n_estimators=500, subsample=0.6; total time=  17.8s\n",
      "[CV] END colsample_bylevel=0.3, colsample_bytree=0.9000000000000001, gamma=0.6000000000000001, learning_rate=0.01, max_depth=11, n_estimators=500, subsample=0.6; total time=  17.2s\n",
      "[CV] END colsample_bylevel=0.4, colsample_bytree=0.5, gamma=0.6000000000000001, learning_rate=0.5, max_depth=8, n_estimators=300, subsample=0.8999999999999999; total time=   1.8s\n",
      "[CV] END colsample_bylevel=0.4, colsample_bytree=0.5, gamma=0.6000000000000001, learning_rate=0.5, max_depth=8, n_estimators=300, subsample=0.8999999999999999; total time=   2.6s\n",
      "[CV] END colsample_bylevel=0.4, colsample_bytree=0.5, gamma=0.6000000000000001, learning_rate=0.5, max_depth=8, n_estimators=300, subsample=0.8999999999999999; total time=   2.5s\n",
      "[CV] END colsample_bylevel=0.4, colsample_bytree=0.5, gamma=0.6000000000000001, learning_rate=0.5, max_depth=8, n_estimators=300, subsample=0.8999999999999999; total time=   2.6s\n",
      "[CV] END colsample_bylevel=0.4, colsample_bytree=0.5, gamma=0.6000000000000001, learning_rate=0.5, max_depth=8, n_estimators=300, subsample=0.8999999999999999; total time=   2.6s\n",
      "[CV] END colsample_bylevel=0.4, colsample_bytree=0.6000000000000001, gamma=0.4, learning_rate=0.2, max_depth=9, n_estimators=300, subsample=0.7999999999999999; total time=   3.0s\n",
      "[CV] END colsample_bylevel=0.4, colsample_bytree=0.6000000000000001, gamma=0.4, learning_rate=0.2, max_depth=9, n_estimators=300, subsample=0.7999999999999999; total time=   5.4s\n",
      "[CV] END colsample_bylevel=0.4, colsample_bytree=0.6000000000000001, gamma=0.4, learning_rate=0.2, max_depth=9, n_estimators=300, subsample=0.7999999999999999; total time=   5.4s\n",
      "[CV] END colsample_bylevel=0.4, colsample_bytree=0.6000000000000001, gamma=0.4, learning_rate=0.2, max_depth=9, n_estimators=300, subsample=0.7999999999999999; total time=   5.5s\n",
      "[CV] END colsample_bylevel=0.4, colsample_bytree=0.6000000000000001, gamma=0.4, learning_rate=0.2, max_depth=9, n_estimators=300, subsample=0.7999999999999999; total time=   5.4s\n",
      "[CV] END colsample_bylevel=0.6000000000000001, colsample_bytree=0.3, gamma=0.2, learning_rate=0.3, max_depth=10, n_estimators=400, subsample=0.7999999999999999; total time=   3.0s\n",
      "[CV] END colsample_bylevel=0.6000000000000001, colsample_bytree=0.3, gamma=0.2, learning_rate=0.3, max_depth=10, n_estimators=400, subsample=0.7999999999999999; total time=   7.0s\n",
      "[CV] END colsample_bylevel=0.6000000000000001, colsample_bytree=0.3, gamma=0.2, learning_rate=0.3, max_depth=10, n_estimators=400, subsample=0.7999999999999999; total time=   6.8s\n",
      "[CV] END colsample_bylevel=0.6000000000000001, colsample_bytree=0.3, gamma=0.2, learning_rate=0.3, max_depth=10, n_estimators=400, subsample=0.7999999999999999; total time=   7.2s\n",
      "[CV] END colsample_bylevel=0.6000000000000001, colsample_bytree=0.3, gamma=0.2, learning_rate=0.3, max_depth=10, n_estimators=400, subsample=0.7999999999999999; total time=   6.8s\n",
      "[CV] END colsample_bylevel=0.9000000000000001, colsample_bytree=0.6000000000000001, gamma=0.30000000000000004, learning_rate=0.01, max_depth=11, n_estimators=500, subsample=0.7999999999999999; total time=  21.1s\n",
      "[CV] END colsample_bylevel=0.9000000000000001, colsample_bytree=0.6000000000000001, gamma=0.30000000000000004, learning_rate=0.01, max_depth=11, n_estimators=500, subsample=0.7999999999999999; total time=  23.6s\n",
      "[CV] END colsample_bylevel=0.9000000000000001, colsample_bytree=0.6000000000000001, gamma=0.30000000000000004, learning_rate=0.01, max_depth=11, n_estimators=500, subsample=0.7999999999999999; total time=  23.2s\n",
      "[CV] END colsample_bylevel=0.9000000000000001, colsample_bytree=0.6000000000000001, gamma=0.30000000000000004, learning_rate=0.01, max_depth=11, n_estimators=500, subsample=0.7999999999999999; total time=  23.6s\n",
      "[CV] END colsample_bylevel=0.9000000000000001, colsample_bytree=0.6000000000000001, gamma=0.30000000000000004, learning_rate=0.01, max_depth=11, n_estimators=500, subsample=0.7999999999999999; total time=  22.9s\n",
      "[CV] END colsample_bylevel=0.5, colsample_bytree=0.3, gamma=0.2, learning_rate=0.1, max_depth=5, n_estimators=400, subsample=0.8999999999999999; total time=   3.1s\n",
      "[CV] END colsample_bylevel=0.5, colsample_bytree=0.3, gamma=0.2, learning_rate=0.1, max_depth=5, n_estimators=400, subsample=0.8999999999999999; total time=   3.0s\n",
      "[CV] END colsample_bylevel=0.5, colsample_bytree=0.3, gamma=0.2, learning_rate=0.1, max_depth=5, n_estimators=400, subsample=0.8999999999999999; total time=   2.9s\n",
      "[CV] END colsample_bylevel=0.5, colsample_bytree=0.3, gamma=0.2, learning_rate=0.1, max_depth=5, n_estimators=400, subsample=0.8999999999999999; total time=   3.1s\n",
      "[CV] END colsample_bylevel=0.5, colsample_bytree=0.3, gamma=0.2, learning_rate=0.1, max_depth=5, n_estimators=400, subsample=0.8999999999999999; total time=   3.0s\n",
      "[CV] END colsample_bylevel=0.5, colsample_bytree=0.9000000000000001, gamma=0.30000000000000004, learning_rate=0.01, max_depth=6, n_estimators=400, subsample=0.4; total time=   4.4s\n",
      "[CV] END colsample_bylevel=0.5, colsample_bytree=0.9000000000000001, gamma=0.30000000000000004, learning_rate=0.01, max_depth=6, n_estimators=400, subsample=0.4; total time=   4.2s\n",
      "[CV] END colsample_bylevel=0.5, colsample_bytree=0.9000000000000001, gamma=0.30000000000000004, learning_rate=0.01, max_depth=6, n_estimators=400, subsample=0.4; total time=   4.2s\n",
      "[CV] END colsample_bylevel=0.5, colsample_bytree=0.9000000000000001, gamma=0.30000000000000004, learning_rate=0.01, max_depth=6, n_estimators=400, subsample=0.4; total time=   4.4s\n",
      "[CV] END colsample_bylevel=0.5, colsample_bytree=0.9000000000000001, gamma=0.30000000000000004, learning_rate=0.01, max_depth=6, n_estimators=400, subsample=0.4; total time=   4.3s\n",
      "[CV] END colsample_bylevel=0.9000000000000001, colsample_bytree=0.6000000000000001, gamma=0.4, learning_rate=0.1, max_depth=8, n_estimators=200, subsample=0.4; total time=   2.9s\n",
      "[CV] END colsample_bylevel=0.9000000000000001, colsample_bytree=0.6000000000000001, gamma=0.4, learning_rate=0.1, max_depth=8, n_estimators=200, subsample=0.4; total time=   3.5s\n",
      "[CV] END colsample_bylevel=0.9000000000000001, colsample_bytree=0.6000000000000001, gamma=0.4, learning_rate=0.1, max_depth=8, n_estimators=200, subsample=0.4; total time=   3.4s\n",
      "[CV] END colsample_bylevel=0.9000000000000001, colsample_bytree=0.6000000000000001, gamma=0.4, learning_rate=0.1, max_depth=8, n_estimators=200, subsample=0.4; total time=   3.6s\n",
      "[CV] END colsample_bylevel=0.9000000000000001, colsample_bytree=0.6000000000000001, gamma=0.4, learning_rate=0.1, max_depth=8, n_estimators=200, subsample=0.4; total time=   3.5s\n",
      "[CV] END colsample_bylevel=0.6000000000000001, colsample_bytree=0.3, gamma=0.30000000000000004, learning_rate=0.3, max_depth=8, n_estimators=500, subsample=0.6; total time=   3.0s\n",
      "[CV] END colsample_bylevel=0.6000000000000001, colsample_bytree=0.3, gamma=0.30000000000000004, learning_rate=0.3, max_depth=8, n_estimators=500, subsample=0.6; total time=   6.5s\n",
      "[CV] END colsample_bylevel=0.6000000000000001, colsample_bytree=0.3, gamma=0.30000000000000004, learning_rate=0.3, max_depth=8, n_estimators=500, subsample=0.6; total time=   6.4s\n",
      "[CV] END colsample_bylevel=0.6000000000000001, colsample_bytree=0.3, gamma=0.30000000000000004, learning_rate=0.3, max_depth=8, n_estimators=500, subsample=0.6; total time=   6.7s\n",
      "[CV] END colsample_bylevel=0.6000000000000001, colsample_bytree=0.3, gamma=0.30000000000000004, learning_rate=0.3, max_depth=8, n_estimators=500, subsample=0.6; total time=   6.4s\n",
      "[CV] END colsample_bylevel=0.8000000000000003, colsample_bytree=0.4, gamma=0.4, learning_rate=0.3, max_depth=6, n_estimators=400, subsample=0.5; total time=   2.3s\n",
      "[CV] END colsample_bylevel=0.8000000000000003, colsample_bytree=0.4, gamma=0.4, learning_rate=0.3, max_depth=6, n_estimators=400, subsample=0.5; total time=   4.0s\n",
      "[CV] END colsample_bylevel=0.8000000000000003, colsample_bytree=0.4, gamma=0.4, learning_rate=0.3, max_depth=6, n_estimators=400, subsample=0.5; total time=   4.0s\n",
      "[CV] END colsample_bylevel=0.8000000000000003, colsample_bytree=0.4, gamma=0.4, learning_rate=0.3, max_depth=6, n_estimators=400, subsample=0.5; total time=   4.2s\n",
      "[CV] END colsample_bylevel=0.8000000000000003, colsample_bytree=0.4, gamma=0.4, learning_rate=0.3, max_depth=6, n_estimators=400, subsample=0.5; total time=   4.0s\n",
      "CPU times: user 27min 9s, sys: 8.48 s, total: 27min 18s\n",
      "Wall time: 25min 19s\n"
     ]
    },
    {
     "data": {
      "text/plain": [
       "RandomizedSearchCV(cv=5,\n",
       "                   estimator=XGBClassifier(base_score=None, booster=None,\n",
       "                                           colsample_bylevel=None,\n",
       "                                           colsample_bynode=None,\n",
       "                                           colsample_bytree=None,\n",
       "                                           enable_categorical=False,\n",
       "                                           eval_metric='logloss', gamma=None,\n",
       "                                           gpu_id=None, importance_type=None,\n",
       "                                           interaction_constraints=None,\n",
       "                                           learning_rate=None,\n",
       "                                           max_delta_step=None, max_depth=None,\n",
       "                                           min_child_weight=None, missing=na...\n",
       "                   param_distributions={'colsample_bylevel': array([0.3, 0.4, 0.5, 0.6, 0.7, 0.8, 0.9]),\n",
       "                                        'colsample_bytree': array([0.3, 0.4, 0.5, 0.6, 0.7, 0.8, 0.9]),\n",
       "                                        'gamma': array([0. , 0.1, 0.2, 0.3, 0.4, 0.5, 0.6]),\n",
       "                                        'learning_rate': [0.01, 0.1, 0.2, 0.3,\n",
       "                                                          0.5],\n",
       "                                        'max_depth': [3, 5, 6, 8, 9, 10, 11],\n",
       "                                        'n_estimators': array([100, 200, 300, 400, 500]),\n",
       "                                        'subsample': array([0.4, 0.5, 0.6, 0.7, 0.8, 0.9])},\n",
       "                   scoring='neg_log_loss', verbose=2)"
      ]
     },
     "execution_count": 14,
     "metadata": {},
     "output_type": "execute_result"
    }
   ],
   "source": [
    "%%time\n",
    "\n",
    "# Run XGBoost grid search\n",
    "xgb_grid.fit(X, y)"
   ]
  },
  {
   "cell_type": "markdown",
   "metadata": {},
   "source": [
    "Total time taken to train: 25mins"
   ]
  },
  {
   "cell_type": "code",
   "execution_count": 15,
   "metadata": {
    "colab": {
     "base_uri": "https://localhost:8080/"
    },
    "id": "1kxtIDiM36NM",
    "outputId": "ed522aa7-7b97-4dd7-a084-5c7494f57c48"
   },
   "outputs": [
    {
     "data": {
      "text/plain": [
       "{'colsample_bylevel': 0.3,\n",
       " 'colsample_bytree': 0.8000000000000003,\n",
       " 'gamma': 0.5,\n",
       " 'learning_rate': 0.2,\n",
       " 'max_depth': 10,\n",
       " 'n_estimators': 100,\n",
       " 'subsample': 0.5}"
      ]
     },
     "execution_count": 15,
     "metadata": {},
     "output_type": "execute_result"
    }
   ],
   "source": [
    "# Best parameters from RandomizedSearchCV\n",
    "xgb_grid.best_params_"
   ]
  },
  {
   "cell_type": "code",
   "execution_count": 16,
   "metadata": {
    "id": "_ca_Ws_W36Ca"
   },
   "outputs": [],
   "source": [
    "# Get best XGBoost model (based on best parameters) and predict on test set\n",
    "xgb_best = xgb_grid.best_estimator_"
   ]
  },
  {
   "cell_type": "markdown",
   "metadata": {
    "id": "8rR4s8vd9VRC"
   },
   "source": [
    "### Predict on Test Set"
   ]
  },
  {
   "cell_type": "code",
   "execution_count": 17,
   "metadata": {
    "id": "ReWPZ-W7TFI3"
   },
   "outputs": [],
   "source": [
    "# Set X and y datasets\n",
    "X_test = test_df.drop(columns=target)\n",
    "y_test = test_df[target]"
   ]
  },
  {
   "cell_type": "code",
   "execution_count": 18,
   "metadata": {
    "id": "8lHmdCvb9VRC"
   },
   "outputs": [],
   "source": [
    "# Get predictions from best model\n",
    "preds = xgb_best.predict(X_test)"
   ]
  },
  {
   "cell_type": "markdown",
   "metadata": {},
   "source": [
    "### Review performance metrics"
   ]
  },
  {
   "cell_type": "code",
   "execution_count": 19,
   "metadata": {},
   "outputs": [],
   "source": [
    "# Define function to consolidate and display performance metrics\n",
    "def gen_performance_metrics(y_true, y_preds, model_name, round_to=3):\n",
    "    accuracy = round(metrics.accuracy_score(y_true, y_preds), round_to)\n",
    "    f1_score = round(metrics.f1_score(y_true, y_preds), round_to)\n",
    "    precision = round(metrics.precision_score(y_true, y_preds), round_to)\n",
    "    avg_precision = round(metrics.average_precision_score(y_true, y_preds), round_to)\n",
    "    recall = round(metrics.recall_score(y_true, y_preds), round_to)\n",
    "\n",
    "    df = pd.DataFrame([[model_name, accuracy, f1_score, precision, avg_precision, recall]], \n",
    "                        columns=['Model', 'Accuracy', 'F1 Score', 'Precision', 'Average Precision', 'Recall'])\n",
    "    \n",
    "    display(df)\n",
    "    display(metrics.ConfusionMatrixDisplay.from_predictions(y_true, y_preds))"
   ]
  },
  {
   "cell_type": "code",
   "execution_count": 20,
   "metadata": {},
   "outputs": [
    {
     "data": {
      "text/html": [
       "<div>\n",
       "<style scoped>\n",
       "    .dataframe tbody tr th:only-of-type {\n",
       "        vertical-align: middle;\n",
       "    }\n",
       "\n",
       "    .dataframe tbody tr th {\n",
       "        vertical-align: top;\n",
       "    }\n",
       "\n",
       "    .dataframe thead th {\n",
       "        text-align: right;\n",
       "    }\n",
       "</style>\n",
       "<table border=\"1\" class=\"dataframe\">\n",
       "  <thead>\n",
       "    <tr style=\"text-align: right;\">\n",
       "      <th></th>\n",
       "      <th>Model</th>\n",
       "      <th>Accuracy</th>\n",
       "      <th>F1 Score</th>\n",
       "      <th>Precision</th>\n",
       "      <th>Average Precision</th>\n",
       "      <th>Recall</th>\n",
       "    </tr>\n",
       "  </thead>\n",
       "  <tbody>\n",
       "    <tr>\n",
       "      <th>0</th>\n",
       "      <td>XGBoost + RandomizedSearchCV</td>\n",
       "      <td>0.996</td>\n",
       "      <td>0.738</td>\n",
       "      <td>0.795</td>\n",
       "      <td>0.55</td>\n",
       "      <td>0.689</td>\n",
       "    </tr>\n",
       "  </tbody>\n",
       "</table>\n",
       "</div>"
      ],
      "text/plain": [
       "                          Model  Accuracy  F1 Score  Precision  \\\n",
       "0  XGBoost + RandomizedSearchCV     0.996     0.738      0.795   \n",
       "\n",
       "   Average Precision  Recall  \n",
       "0               0.55   0.689  "
      ]
     },
     "metadata": {},
     "output_type": "display_data"
    },
    {
     "data": {
      "text/plain": [
       "<sklearn.metrics._plot.confusion_matrix.ConfusionMatrixDisplay at 0x23c4dcee4c0>"
      ]
     },
     "metadata": {},
     "output_type": "display_data"
    },
    {
     "data": {
      "image/png": "[encoded data removed]",
      "text/plain": [
       "<Figure size 432x288 with 2 Axes>"
      ]
     },
     "metadata": {
      "needs_background": "light"
     },
     "output_type": "display_data"
    }
   ],
   "source": [
    "# Show performance assessment\n",
    "gen_performance_metrics(y_test, preds, 'XGBoost + RandomizedSearchCV')"
   ]
  },
  {
   "cell_type": "code",
   "execution_count": 25,
   "metadata": {
    "id": "XTbSEZLqTtV7"
   },
   "outputs": [],
   "source": [
    "# Save best model as JSON file\n",
    "model_filename = 'xgb_baseline.json'\n",
    "xgb_best.save_model(f'models/{model_filename}')\n",
    "\n",
    "# Load model\n",
    "# xgb_best = XGBClassifier()\n",
    "# xgb_best.load_model(f'models/{model_filename}')"
   ]
  }
 ],
 "metadata": {
  "accelerator": "GPU",
  "colab": {
   "collapsed_sections": [],
   "name": "02_Baseline_XGBoost_RandomizedSearch.ipynb",
   "provenance": []
  },
  "kernelspec": {
   "display_name": "Python 3",
   "language": "python",
   "name": "python3"
  },
  "language_info": {
   "codemirror_mode": {
    "name": "ipython",
    "version": 3
   },
   "file_extension": ".py",
   "mimetype": "text/x-python",
   "name": "python",
   "nbconvert_exporter": "python",
   "pygments_lexer": "ipython3",
   "version": "3.8.3"
  }
 },
 "nbformat": 4,
 "nbformat_minor": 1
}
